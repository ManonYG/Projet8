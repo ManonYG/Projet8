{
 "cells": [
  {
   "cell_type": "code",
   "execution_count": 19,
   "metadata": {},
   "outputs": [],
   "source": [
    "import os\n",
    "import optuna\n",
    "import pandas as pd\n",
    "import numpy as np\n",
    "import matplotlib.pyplot as plt\n",
    "import seaborn as sns\n",
    "import xgboost as xgb\n",
    "import sklearn\n",
    "from sklearn import model_selection\n",
    "\n",
    "os.chdir('C:\\\\Users\\\\manon\\\\OneDrive\\\\Documents\\\\OpenClassrooms\\\\Projet8')"
   ]
  },
  {
   "cell_type": "code",
   "execution_count": 37,
   "metadata": {},
   "outputs": [],
   "source": [
    "%load_ext pycodestyle_magic\n",
    "%pycodestyle_on"
   ]
  },
  {
   "cell_type": "code",
   "execution_count": 75,
   "metadata": {},
   "outputs": [],
   "source": [
    "train = pd.read_csv('train.csv', index_col=0)\n",
    "test = pd.read_csv('test.csv', index_col=0)"
   ]
  },
  {
   "cell_type": "markdown",
   "metadata": {},
   "source": [
    "### D'après \"Comparison Between 5 Regression Algorithm\", les forêts aléatoires semblent particulièrement indiquées pour ces données. C'est donc le modèle sur lequel nous nous pencherons."
   ]
  },
  {
   "cell_type": "code",
   "execution_count": 88,
   "metadata": {
    "scrolled": true
   },
   "outputs": [
    {
     "name": "stderr",
     "output_type": "stream",
     "text": [
      "\u001b[32m[I 2021-06-19 00:13:10,774]\u001b[0m A new study created in memory with name: no-name-00a83906-b7af-45d8-8d87-10e459569fcb\u001b[0m\n"
     ]
    },
    {
     "name": "stdout",
     "output_type": "stream",
     "text": [
      "[00:13:10] WARNING: C:/Users/Administrator/workspace/xgboost-win64_release_1.4.0/src/learner.cc:573: \n",
      "Parameters: { \"n_estimators\" } might not be used.\n",
      "\n",
      "  This may not be accurate due to some parameters are only used in language bindings but\n",
      "  passed down to XGBoost core.  Or some parameters are not used but slip through this\n",
      "  verification. Please open an issue if you find above cases.\n",
      "\n",
      "\n",
      "[0]\tvalidation-rmse:8.09108\n",
      "[1]\tvalidation-rmse:5.67541\n",
      "[2]\tvalidation-rmse:3.98384\n",
      "[3]\tvalidation-rmse:2.80147\n",
      "[4]\tvalidation-rmse:1.97734\n",
      "[5]\tvalidation-rmse:1.39589\n",
      "[6]\tvalidation-rmse:0.98961\n",
      "[7]\tvalidation-rmse:0.71074\n",
      "[8]\tvalidation-rmse:0.51931\n",
      "[9]\tvalidation-rmse:0.38731\n"
     ]
    },
    {
     "name": "stderr",
     "output_type": "stream",
     "text": [
      "\u001b[32m[I 2021-06-19 00:13:10,875]\u001b[0m Trial 0 finished with value: 0.3873077630996704 and parameters: {'rf_n_estimators': 46, 'rf_max_depth': 31}. Best is trial 0 with value: 0.3873077630996704.\u001b[0m\n"
     ]
    },
    {
     "name": "stdout",
     "output_type": "stream",
     "text": [
      "[00:13:10] WARNING: C:/Users/Administrator/workspace/xgboost-win64_release_1.4.0/src/learner.cc:573: \n",
      "Parameters: { \"n_estimators\" } might not be used.\n",
      "\n",
      "  This may not be accurate due to some parameters are only used in language bindings but\n",
      "  passed down to XGBoost core.  Or some parameters are not used but slip through this\n",
      "  verification. Please open an issue if you find above cases.\n",
      "\n",
      "\n",
      "[0]\tvalidation-rmse:8.09108\n",
      "[1]\tvalidation-rmse:5.67541\n",
      "[2]\tvalidation-rmse:3.98384\n",
      "[3]\tvalidation-rmse:2.80147\n",
      "[4]\tvalidation-rmse:1.97734\n",
      "[5]\tvalidation-rmse:1.39589\n",
      "[6]\tvalidation-rmse:0.98914\n",
      "[7]\tvalidation-rmse:0.70971\n",
      "[8]\tvalidation-rmse:0.51795\n",
      "[9]\tvalidation-rmse:0.38593\n"
     ]
    },
    {
     "name": "stderr",
     "output_type": "stream",
     "text": [
      "\u001b[32m[I 2021-06-19 00:13:10,962]\u001b[0m Trial 1 finished with value: 0.3859280049800873 and parameters: {'rf_n_estimators': 173, 'rf_max_depth': 4}. Best is trial 1 with value: 0.3859280049800873.\u001b[0m\n"
     ]
    },
    {
     "name": "stdout",
     "output_type": "stream",
     "text": [
      "[00:13:10] WARNING: C:/Users/Administrator/workspace/xgboost-win64_release_1.4.0/src/learner.cc:573: \n",
      "Parameters: { \"n_estimators\" } might not be used.\n",
      "\n",
      "  This may not be accurate due to some parameters are only used in language bindings but\n",
      "  passed down to XGBoost core.  Or some parameters are not used but slip through this\n",
      "  verification. Please open an issue if you find above cases.\n",
      "\n",
      "\n",
      "[0]\tvalidation-rmse:8.09108\n",
      "[1]\tvalidation-rmse:5.67541\n",
      "[2]\tvalidation-rmse:3.98384\n",
      "[3]\tvalidation-rmse:2.80147\n",
      "[4]\tvalidation-rmse:1.97734\n",
      "[5]\tvalidation-rmse:1.39589\n",
      "[6]\tvalidation-rmse:0.98961\n",
      "[7]\tvalidation-rmse:0.71074\n",
      "[8]\tvalidation-rmse:0.51975\n",
      "[9]\tvalidation-rmse:0.38642\n"
     ]
    },
    {
     "name": "stderr",
     "output_type": "stream",
     "text": [
      "\u001b[32m[I 2021-06-19 00:13:11,048]\u001b[0m Trial 2 finished with value: 0.3864147961139679 and parameters: {'rf_n_estimators': 645, 'rf_max_depth': 5}. Best is trial 1 with value: 0.3859280049800873.\u001b[0m\n"
     ]
    },
    {
     "name": "stdout",
     "output_type": "stream",
     "text": [
      "[00:13:11] WARNING: C:/Users/Administrator/workspace/xgboost-win64_release_1.4.0/src/learner.cc:573: \n",
      "Parameters: { \"n_estimators\" } might not be used.\n",
      "\n",
      "  This may not be accurate due to some parameters are only used in language bindings but\n",
      "  passed down to XGBoost core.  Or some parameters are not used but slip through this\n",
      "  verification. Please open an issue if you find above cases.\n",
      "\n",
      "\n",
      "[0]\tvalidation-rmse:8.09108\n",
      "[1]\tvalidation-rmse:5.67541\n",
      "[2]\tvalidation-rmse:3.98384\n",
      "[3]\tvalidation-rmse:2.80147\n",
      "[4]\tvalidation-rmse:1.97734\n",
      "[5]\tvalidation-rmse:1.39589\n",
      "[6]\tvalidation-rmse:0.98914\n",
      "[7]\tvalidation-rmse:0.70971\n",
      "[8]\tvalidation-rmse:0.51795\n",
      "[9]\tvalidation-rmse:0.38593\n"
     ]
    },
    {
     "name": "stderr",
     "output_type": "stream",
     "text": [
      "\u001b[32m[I 2021-06-19 00:13:11,122]\u001b[0m Trial 3 finished with value: 0.3859280049800873 and parameters: {'rf_n_estimators': 949, 'rf_max_depth': 4}. Best is trial 1 with value: 0.3859280049800873.\u001b[0m\n"
     ]
    },
    {
     "name": "stdout",
     "output_type": "stream",
     "text": [
      "[00:13:11] WARNING: C:/Users/Administrator/workspace/xgboost-win64_release_1.4.0/src/learner.cc:573: \n",
      "Parameters: { \"n_estimators\" } might not be used.\n",
      "\n",
      "  This may not be accurate due to some parameters are only used in language bindings but\n",
      "  passed down to XGBoost core.  Or some parameters are not used but slip through this\n",
      "  verification. Please open an issue if you find above cases.\n",
      "\n",
      "\n",
      "[0]\tvalidation-rmse:8.09108\n",
      "[1]\tvalidation-rmse:5.67541\n",
      "[2]\tvalidation-rmse:3.98384\n",
      "[3]\tvalidation-rmse:2.80147\n",
      "[4]\tvalidation-rmse:1.97734\n",
      "[5]\tvalidation-rmse:1.39589\n",
      "[6]\tvalidation-rmse:0.98961\n",
      "[7]\tvalidation-rmse:0.71074\n",
      "[8]\tvalidation-rmse:0.51938\n",
      "[9]\tvalidation-rmse:0.38729\n"
     ]
    },
    {
     "name": "stderr",
     "output_type": "stream",
     "text": [
      "\u001b[32m[I 2021-06-19 00:13:11,208]\u001b[0m Trial 4 finished with value: 0.38729196786880493 and parameters: {'rf_n_estimators': 130, 'rf_max_depth': 7}. Best is trial 1 with value: 0.3859280049800873.\u001b[0m\n"
     ]
    },
    {
     "name": "stdout",
     "output_type": "stream",
     "text": [
      "[00:13:11] WARNING: C:/Users/Administrator/workspace/xgboost-win64_release_1.4.0/src/learner.cc:573: \n",
      "Parameters: { \"n_estimators\" } might not be used.\n",
      "\n",
      "  This may not be accurate due to some parameters are only used in language bindings but\n",
      "  passed down to XGBoost core.  Or some parameters are not used but slip through this\n",
      "  verification. Please open an issue if you find above cases.\n",
      "\n",
      "\n",
      "[0]\tvalidation-rmse:8.09108\n",
      "[1]\tvalidation-rmse:5.67541\n",
      "[2]\tvalidation-rmse:3.98384\n",
      "[3]\tvalidation-rmse:2.80147\n",
      "[4]\tvalidation-rmse:1.97734\n",
      "[5]\tvalidation-rmse:1.39641\n"
     ]
    },
    {
     "name": "stderr",
     "output_type": "stream",
     "text": [
      "\u001b[32m[I 2021-06-19 00:13:11,255]\u001b[0m Trial 5 pruned. Trial was pruned at iteration 5.\u001b[0m\n"
     ]
    },
    {
     "name": "stdout",
     "output_type": "stream",
     "text": [
      "[00:13:11] WARNING: C:/Users/Administrator/workspace/xgboost-win64_release_1.4.0/src/learner.cc:573: \n",
      "Parameters: { \"n_estimators\" } might not be used.\n",
      "\n",
      "  This may not be accurate due to some parameters are only used in language bindings but\n",
      "  passed down to XGBoost core.  Or some parameters are not used but slip through this\n",
      "  verification. Please open an issue if you find above cases.\n",
      "\n",
      "\n",
      "[0]\tvalidation-rmse:8.09108\n",
      "[1]\tvalidation-rmse:5.67541\n",
      "[2]\tvalidation-rmse:3.98384\n",
      "[3]\tvalidation-rmse:2.80147\n",
      "[4]\tvalidation-rmse:1.97734\n",
      "[5]\tvalidation-rmse:1.39589\n",
      "[6]\tvalidation-rmse:0.98961\n",
      "[7]\tvalidation-rmse:0.71074\n",
      "[8]\tvalidation-rmse:0.51931\n",
      "[9]\tvalidation-rmse:0.38731\n"
     ]
    },
    {
     "name": "stderr",
     "output_type": "stream",
     "text": [
      "\u001b[32m[I 2021-06-19 00:13:11,368]\u001b[0m Trial 6 pruned. Trial was pruned at iteration 9.\u001b[0m\n"
     ]
    },
    {
     "name": "stdout",
     "output_type": "stream",
     "text": [
      "[00:13:11] WARNING: C:/Users/Administrator/workspace/xgboost-win64_release_1.4.0/src/learner.cc:573: \n",
      "Parameters: { \"n_estimators\" } might not be used.\n",
      "\n",
      "  This may not be accurate due to some parameters are only used in language bindings but\n",
      "  passed down to XGBoost core.  Or some parameters are not used but slip through this\n",
      "  verification. Please open an issue if you find above cases.\n",
      "\n",
      "\n",
      "[0]\tvalidation-rmse:8.09108\n",
      "[1]\tvalidation-rmse:5.67541\n",
      "[2]\tvalidation-rmse:3.98384\n",
      "[3]\tvalidation-rmse:2.80147\n",
      "[4]\tvalidation-rmse:1.97734\n",
      "[5]\tvalidation-rmse:1.39589\n",
      "[6]\tvalidation-rmse:0.98844\n",
      "[7]\tvalidation-rmse:0.70867\n",
      "[8]\tvalidation-rmse:0.51631\n",
      "[9]\tvalidation-rmse:0.38524\n"
     ]
    },
    {
     "name": "stderr",
     "output_type": "stream",
     "text": [
      "\u001b[32m[I 2021-06-19 00:13:11,502]\u001b[0m Trial 7 finished with value: 0.385240763425827 and parameters: {'rf_n_estimators': 900, 'rf_max_depth': 3}. Best is trial 7 with value: 0.385240763425827.\u001b[0m\n"
     ]
    },
    {
     "name": "stdout",
     "output_type": "stream",
     "text": [
      "[00:13:11] WARNING: C:/Users/Administrator/workspace/xgboost-win64_release_1.4.0/src/learner.cc:573: \n",
      "Parameters: { \"n_estimators\" } might not be used.\n",
      "\n",
      "  This may not be accurate due to some parameters are only used in language bindings but\n",
      "  passed down to XGBoost core.  Or some parameters are not used but slip through this\n",
      "  verification. Please open an issue if you find above cases.\n",
      "\n",
      "\n",
      "[0]\tvalidation-rmse:8.09108\n",
      "[1]\tvalidation-rmse:5.67541\n",
      "[2]\tvalidation-rmse:3.98384\n",
      "[3]\tvalidation-rmse:2.80147\n",
      "[4]\tvalidation-rmse:1.97734\n",
      "[5]\tvalidation-rmse:1.39589\n"
     ]
    },
    {
     "name": "stderr",
     "output_type": "stream",
     "text": [
      "\u001b[32m[I 2021-06-19 00:13:11,567]\u001b[0m Trial 8 pruned. Trial was pruned at iteration 6.\u001b[0m\n"
     ]
    },
    {
     "name": "stdout",
     "output_type": "stream",
     "text": [
      "[00:13:11] WARNING: C:/Users/Administrator/workspace/xgboost-win64_release_1.4.0/src/learner.cc:573: \n",
      "Parameters: { \"n_estimators\" } might not be used.\n",
      "\n",
      "  This may not be accurate due to some parameters are only used in language bindings but\n",
      "  passed down to XGBoost core.  Or some parameters are not used but slip through this\n",
      "  verification. Please open an issue if you find above cases.\n",
      "\n",
      "\n",
      "[0]\tvalidation-rmse:8.09108\n",
      "[1]\tvalidation-rmse:5.67541\n",
      "[2]\tvalidation-rmse:3.98384\n",
      "[3]\tvalidation-rmse:2.80147\n",
      "[4]\tvalidation-rmse:1.97734\n",
      "[5]\tvalidation-rmse:1.39589\n"
     ]
    },
    {
     "name": "stderr",
     "output_type": "stream",
     "text": [
      "\u001b[32m[I 2021-06-19 00:13:11,626]\u001b[0m Trial 9 pruned. Trial was pruned at iteration 6.\u001b[0m\n"
     ]
    },
    {
     "name": "stdout",
     "output_type": "stream",
     "text": [
      "[00:13:11] WARNING: C:/Users/Administrator/workspace/xgboost-win64_release_1.4.0/src/learner.cc:573: \n",
      "Parameters: { \"n_estimators\" } might not be used.\n",
      "\n",
      "  This may not be accurate due to some parameters are only used in language bindings but\n",
      "  passed down to XGBoost core.  Or some parameters are not used but slip through this\n",
      "  verification. Please open an issue if you find above cases.\n",
      "\n",
      "\n",
      "[0]\tvalidation-rmse:8.09108\n",
      "[1]\tvalidation-rmse:5.67541\n",
      "[2]\tvalidation-rmse:3.98384\n",
      "[3]\tvalidation-rmse:2.80147\n",
      "[4]\tvalidation-rmse:1.97734\n"
     ]
    },
    {
     "name": "stderr",
     "output_type": "stream",
     "text": [
      "\u001b[32m[I 2021-06-19 00:13:11,691]\u001b[0m Trial 10 pruned. Trial was pruned at iteration 5.\u001b[0m\n"
     ]
    },
    {
     "name": "stdout",
     "output_type": "stream",
     "text": [
      "[00:13:11] WARNING: C:/Users/Administrator/workspace/xgboost-win64_release_1.4.0/src/learner.cc:573: \n",
      "Parameters: { \"n_estimators\" } might not be used.\n",
      "\n",
      "  This may not be accurate due to some parameters are only used in language bindings but\n",
      "  passed down to XGBoost core.  Or some parameters are not used but slip through this\n",
      "  verification. Please open an issue if you find above cases.\n",
      "\n",
      "\n",
      "[0]\tvalidation-rmse:8.09108\n",
      "[1]\tvalidation-rmse:5.67541\n",
      "[2]\tvalidation-rmse:3.98384\n",
      "[3]\tvalidation-rmse:2.80147\n",
      "[4]\tvalidation-rmse:1.97734\n",
      "[5]\tvalidation-rmse:1.39589\n",
      "[6]\tvalidation-rmse:0.98844\n",
      "[7]\tvalidation-rmse:0.70867\n",
      "[8]\tvalidation-rmse:0.51631\n",
      "[9]\tvalidation-rmse:0.38524\n"
     ]
    },
    {
     "name": "stderr",
     "output_type": "stream",
     "text": [
      "\u001b[32m[I 2021-06-19 00:13:11,816]\u001b[0m Trial 11 finished with value: 0.385240763425827 and parameters: {'rf_n_estimators': 388, 'rf_max_depth': 3}. Best is trial 7 with value: 0.385240763425827.\u001b[0m\n"
     ]
    },
    {
     "name": "stdout",
     "output_type": "stream",
     "text": [
      "[00:13:11] WARNING: C:/Users/Administrator/workspace/xgboost-win64_release_1.4.0/src/learner.cc:573: \n",
      "Parameters: { \"n_estimators\" } might not be used.\n",
      "\n",
      "  This may not be accurate due to some parameters are only used in language bindings but\n",
      "  passed down to XGBoost core.  Or some parameters are not used but slip through this\n",
      "  verification. Please open an issue if you find above cases.\n",
      "\n",
      "\n",
      "[0]\tvalidation-rmse:8.09108\n",
      "[1]\tvalidation-rmse:5.67541\n",
      "[2]\tvalidation-rmse:3.98384\n",
      "[3]\tvalidation-rmse:2.80147\n",
      "[4]\tvalidation-rmse:1.97734\n",
      "[5]\tvalidation-rmse:1.39589\n",
      "[6]\tvalidation-rmse:0.98844\n",
      "[7]\tvalidation-rmse:0.70867\n",
      "[8]\tvalidation-rmse:0.51631\n",
      "[9]\tvalidation-rmse:0.38524\n"
     ]
    },
    {
     "name": "stderr",
     "output_type": "stream",
     "text": [
      "\u001b[32m[I 2021-06-19 00:13:11,911]\u001b[0m Trial 12 finished with value: 0.385240763425827 and parameters: {'rf_n_estimators': 480, 'rf_max_depth': 3}. Best is trial 7 with value: 0.385240763425827.\u001b[0m\n"
     ]
    },
    {
     "name": "stdout",
     "output_type": "stream",
     "text": [
      "[00:13:11] WARNING: C:/Users/Administrator/workspace/xgboost-win64_release_1.4.0/src/learner.cc:573: \n",
      "Parameters: { \"n_estimators\" } might not be used.\n",
      "\n",
      "  This may not be accurate due to some parameters are only used in language bindings but\n",
      "  passed down to XGBoost core.  Or some parameters are not used but slip through this\n",
      "  verification. Please open an issue if you find above cases.\n",
      "\n",
      "\n",
      "[0]\tvalidation-rmse:8.09108\n",
      "[1]\tvalidation-rmse:5.67541\n",
      "[2]\tvalidation-rmse:3.98384\n",
      "[3]\tvalidation-rmse:2.80147\n",
      "[4]\tvalidation-rmse:1.97734\n"
     ]
    },
    {
     "name": "stderr",
     "output_type": "stream",
     "text": [
      "\u001b[32m[I 2021-06-19 00:13:11,968]\u001b[0m Trial 13 pruned. Trial was pruned at iteration 5.\u001b[0m\n"
     ]
    },
    {
     "name": "stdout",
     "output_type": "stream",
     "text": [
      "[00:13:11] WARNING: C:/Users/Administrator/workspace/xgboost-win64_release_1.4.0/src/learner.cc:573: \n",
      "Parameters: { \"n_estimators\" } might not be used.\n",
      "\n",
      "  This may not be accurate due to some parameters are only used in language bindings but\n",
      "  passed down to XGBoost core.  Or some parameters are not used but slip through this\n",
      "  verification. Please open an issue if you find above cases.\n",
      "\n",
      "\n",
      "[0]\tvalidation-rmse:8.09108\n",
      "[1]\tvalidation-rmse:5.67541\n",
      "[2]\tvalidation-rmse:3.98384\n",
      "[3]\tvalidation-rmse:2.80147\n",
      "[4]\tvalidation-rmse:1.97734\n",
      "[5]\tvalidation-rmse:1.39589\n"
     ]
    },
    {
     "name": "stderr",
     "output_type": "stream",
     "text": [
      "\u001b[32m[I 2021-06-19 00:13:12,038]\u001b[0m Trial 14 pruned. Trial was pruned at iteration 6.\u001b[0m\n"
     ]
    },
    {
     "name": "stdout",
     "output_type": "stream",
     "text": [
      "[00:13:12] WARNING: C:/Users/Administrator/workspace/xgboost-win64_release_1.4.0/src/learner.cc:573: \n",
      "Parameters: { \"n_estimators\" } might not be used.\n",
      "\n",
      "  This may not be accurate due to some parameters are only used in language bindings but\n",
      "  passed down to XGBoost core.  Or some parameters are not used but slip through this\n",
      "  verification. Please open an issue if you find above cases.\n",
      "\n",
      "\n",
      "[0]\tvalidation-rmse:8.09108\n",
      "[1]\tvalidation-rmse:5.67541\n",
      "[2]\tvalidation-rmse:3.98384\n",
      "[3]\tvalidation-rmse:2.80147\n",
      "[4]\tvalidation-rmse:1.97734\n",
      "[5]\tvalidation-rmse:1.39641\n"
     ]
    },
    {
     "name": "stderr",
     "output_type": "stream",
     "text": [
      "\u001b[32m[I 2021-06-19 00:13:12,102]\u001b[0m Trial 15 pruned. Trial was pruned at iteration 5.\u001b[0m\n"
     ]
    },
    {
     "name": "stdout",
     "output_type": "stream",
     "text": [
      "[00:13:12] WARNING: C:/Users/Administrator/workspace/xgboost-win64_release_1.4.0/src/learner.cc:573: \n",
      "Parameters: { \"n_estimators\" } might not be used.\n",
      "\n",
      "  This may not be accurate due to some parameters are only used in language bindings but\n",
      "  passed down to XGBoost core.  Or some parameters are not used but slip through this\n",
      "  verification. Please open an issue if you find above cases.\n",
      "\n",
      "\n",
      "[0]\tvalidation-rmse:8.09108\n",
      "[1]\tvalidation-rmse:5.67541\n",
      "[2]\tvalidation-rmse:3.98384\n",
      "[3]\tvalidation-rmse:2.80147\n",
      "[4]\tvalidation-rmse:1.97734\n",
      "[5]\tvalidation-rmse:1.39589\n",
      "[6]\tvalidation-rmse:0.98844\n",
      "[7]\tvalidation-rmse:0.70867\n",
      "[8]\tvalidation-rmse:0.51631\n",
      "[9]\tvalidation-rmse:0.38524\n"
     ]
    },
    {
     "name": "stderr",
     "output_type": "stream",
     "text": [
      "\u001b[32m[I 2021-06-19 00:13:12,212]\u001b[0m Trial 16 finished with value: 0.385240763425827 and parameters: {'rf_n_estimators': 862, 'rf_max_depth': 3}. Best is trial 7 with value: 0.385240763425827.\u001b[0m\n"
     ]
    },
    {
     "name": "stdout",
     "output_type": "stream",
     "text": [
      "[00:13:12] WARNING: C:/Users/Administrator/workspace/xgboost-win64_release_1.4.0/src/learner.cc:573: \n",
      "Parameters: { \"n_estimators\" } might not be used.\n",
      "\n",
      "  This may not be accurate due to some parameters are only used in language bindings but\n",
      "  passed down to XGBoost core.  Or some parameters are not used but slip through this\n",
      "  verification. Please open an issue if you find above cases.\n",
      "\n",
      "\n",
      "[0]\tvalidation-rmse:8.09108\n",
      "[1]\tvalidation-rmse:5.67541\n",
      "[2]\tvalidation-rmse:3.98384\n",
      "[3]\tvalidation-rmse:2.80147\n",
      "[4]\tvalidation-rmse:1.97734\n",
      "[5]\tvalidation-rmse:1.39589\n",
      "[6]\tvalidation-rmse:0.98844\n",
      "[7]\tvalidation-rmse:0.70867\n",
      "[8]\tvalidation-rmse:0.51631\n",
      "[9]\tvalidation-rmse:0.38524\n"
     ]
    },
    {
     "name": "stderr",
     "output_type": "stream",
     "text": [
      "\u001b[32m[I 2021-06-19 00:13:12,314]\u001b[0m Trial 17 finished with value: 0.385240763425827 and parameters: {'rf_n_estimators': 582, 'rf_max_depth': 3}. Best is trial 7 with value: 0.385240763425827.\u001b[0m\n"
     ]
    },
    {
     "name": "stdout",
     "output_type": "stream",
     "text": [
      "[00:13:12] WARNING: C:/Users/Administrator/workspace/xgboost-win64_release_1.4.0/src/learner.cc:573: \n",
      "Parameters: { \"n_estimators\" } might not be used.\n",
      "\n",
      "  This may not be accurate due to some parameters are only used in language bindings but\n",
      "  passed down to XGBoost core.  Or some parameters are not used but slip through this\n",
      "  verification. Please open an issue if you find above cases.\n",
      "\n",
      "\n",
      "[0]\tvalidation-rmse:8.09108\n",
      "[1]\tvalidation-rmse:5.67541\n",
      "[2]\tvalidation-rmse:3.98384\n",
      "[3]\tvalidation-rmse:2.80147\n",
      "[4]\tvalidation-rmse:1.97734\n",
      "[5]\tvalidation-rmse:1.39589\n",
      "[6]\tvalidation-rmse:0.98961\n"
     ]
    },
    {
     "name": "stderr",
     "output_type": "stream",
     "text": [
      "\u001b[32m[I 2021-06-19 00:13:12,383]\u001b[0m Trial 18 pruned. Trial was pruned at iteration 6.\u001b[0m\n"
     ]
    },
    {
     "name": "stdout",
     "output_type": "stream",
     "text": [
      "[00:13:12] WARNING: C:/Users/Administrator/workspace/xgboost-win64_release_1.4.0/src/learner.cc:573: \n",
      "Parameters: { \"n_estimators\" } might not be used.\n",
      "\n",
      "  This may not be accurate due to some parameters are only used in language bindings but\n",
      "  passed down to XGBoost core.  Or some parameters are not used but slip through this\n",
      "  verification. Please open an issue if you find above cases.\n",
      "\n",
      "\n",
      "[0]\tvalidation-rmse:8.09108\n",
      "[1]\tvalidation-rmse:5.67541\n",
      "[2]\tvalidation-rmse:3.98384\n",
      "[3]\tvalidation-rmse:2.80147\n",
      "[4]\tvalidation-rmse:1.97734\n"
     ]
    },
    {
     "name": "stderr",
     "output_type": "stream",
     "text": [
      "\u001b[32m[I 2021-06-19 00:13:12,442]\u001b[0m Trial 19 pruned. Trial was pruned at iteration 5.\u001b[0m\n"
     ]
    },
    {
     "name": "stdout",
     "output_type": "stream",
     "text": [
      "[00:13:12] WARNING: C:/Users/Administrator/workspace/xgboost-win64_release_1.4.0/src/learner.cc:573: \n",
      "Parameters: { \"n_estimators\" } might not be used.\n",
      "\n",
      "  This may not be accurate due to some parameters are only used in language bindings but\n",
      "  passed down to XGBoost core.  Or some parameters are not used but slip through this\n",
      "  verification. Please open an issue if you find above cases.\n",
      "\n",
      "\n",
      "[0]\tvalidation-rmse:8.09108\n",
      "[1]\tvalidation-rmse:5.67541\n",
      "[2]\tvalidation-rmse:3.98384\n",
      "[3]\tvalidation-rmse:2.80147\n",
      "[4]\tvalidation-rmse:1.97734\n",
      "[5]\tvalidation-rmse:1.39589\n"
     ]
    },
    {
     "name": "stderr",
     "output_type": "stream",
     "text": [
      "\u001b[32m[I 2021-06-19 00:13:12,508]\u001b[0m Trial 20 pruned. Trial was pruned at iteration 6.\u001b[0m\n"
     ]
    },
    {
     "name": "stdout",
     "output_type": "stream",
     "text": [
      "[00:13:12] WARNING: C:/Users/Administrator/workspace/xgboost-win64_release_1.4.0/src/learner.cc:573: \n",
      "Parameters: { \"n_estimators\" } might not be used.\n",
      "\n",
      "  This may not be accurate due to some parameters are only used in language bindings but\n",
      "  passed down to XGBoost core.  Or some parameters are not used but slip through this\n",
      "  verification. Please open an issue if you find above cases.\n",
      "\n",
      "\n",
      "[0]\tvalidation-rmse:8.09108\n",
      "[1]\tvalidation-rmse:5.67541\n",
      "[2]\tvalidation-rmse:3.98384\n",
      "[3]\tvalidation-rmse:2.80147\n",
      "[4]\tvalidation-rmse:1.97734\n",
      "[5]\tvalidation-rmse:1.39589\n",
      "[6]\tvalidation-rmse:0.98844\n",
      "[7]\tvalidation-rmse:0.70867\n",
      "[8]\tvalidation-rmse:0.51631\n",
      "[9]\tvalidation-rmse:0.38524\n"
     ]
    },
    {
     "name": "stderr",
     "output_type": "stream",
     "text": [
      "\u001b[32m[I 2021-06-19 00:13:12,602]\u001b[0m Trial 21 finished with value: 0.3856247663497925 and parameters: {'rf_n_estimators': 885, 'rf_max_depth': 3}. Best is trial 7 with value: 0.385240763425827.\u001b[0m\n"
     ]
    },
    {
     "name": "stdout",
     "output_type": "stream",
     "text": [
      "[00:13:12] WARNING: C:/Users/Administrator/workspace/xgboost-win64_release_1.4.0/src/learner.cc:573: \n",
      "Parameters: { \"n_estimators\" } might not be used.\n",
      "\n",
      "  This may not be accurate due to some parameters are only used in language bindings but\n",
      "  passed down to XGBoost core.  Or some parameters are not used but slip through this\n",
      "  verification. Please open an issue if you find above cases.\n",
      "\n",
      "\n",
      "[0]\tvalidation-rmse:8.09108\n",
      "[1]\tvalidation-rmse:5.67541\n",
      "[2]\tvalidation-rmse:3.98384\n",
      "[3]\tvalidation-rmse:2.80147\n",
      "[4]\tvalidation-rmse:1.97734\n",
      "[5]\tvalidation-rmse:1.39641\n"
     ]
    },
    {
     "name": "stderr",
     "output_type": "stream",
     "text": [
      "\u001b[32m[I 2021-06-19 00:13:12,655]\u001b[0m Trial 22 pruned. Trial was pruned at iteration 5.\u001b[0m\n"
     ]
    },
    {
     "name": "stdout",
     "output_type": "stream",
     "text": [
      "[00:13:12] WARNING: C:/Users/Administrator/workspace/xgboost-win64_release_1.4.0/src/learner.cc:573: \n",
      "Parameters: { \"n_estimators\" } might not be used.\n",
      "\n",
      "  This may not be accurate due to some parameters are only used in language bindings but\n",
      "  passed down to XGBoost core.  Or some parameters are not used but slip through this\n",
      "  verification. Please open an issue if you find above cases.\n",
      "\n",
      "\n",
      "[0]\tvalidation-rmse:8.09108\n",
      "[1]\tvalidation-rmse:5.67541\n",
      "[2]\tvalidation-rmse:3.98384\n",
      "[3]\tvalidation-rmse:2.80147\n",
      "[4]\tvalidation-rmse:1.97734\n",
      "[5]\tvalidation-rmse:1.39589\n",
      "[6]\tvalidation-rmse:0.98844\n",
      "[7]\tvalidation-rmse:0.70867\n",
      "[8]\tvalidation-rmse:0.51631\n",
      "[9]\tvalidation-rmse:0.38524\n"
     ]
    },
    {
     "name": "stderr",
     "output_type": "stream",
     "text": [
      "\u001b[32m[I 2021-06-19 00:13:12,751]\u001b[0m Trial 23 finished with value: 0.3856247663497925 and parameters: {'rf_n_estimators': 579, 'rf_max_depth': 3}. Best is trial 7 with value: 0.385240763425827.\u001b[0m\n"
     ]
    },
    {
     "name": "stdout",
     "output_type": "stream",
     "text": [
      "[00:13:12] WARNING: C:/Users/Administrator/workspace/xgboost-win64_release_1.4.0/src/learner.cc:573: \n",
      "Parameters: { \"n_estimators\" } might not be used.\n",
      "\n",
      "  This may not be accurate due to some parameters are only used in language bindings but\n",
      "  passed down to XGBoost core.  Or some parameters are not used but slip through this\n",
      "  verification. Please open an issue if you find above cases.\n",
      "\n",
      "\n",
      "[0]\tvalidation-rmse:8.09108\n",
      "[1]\tvalidation-rmse:5.67541\n",
      "[2]\tvalidation-rmse:3.98384\n",
      "[3]\tvalidation-rmse:2.80147\n",
      "[4]\tvalidation-rmse:1.97734\n",
      "[5]\tvalidation-rmse:1.39589\n",
      "[6]\tvalidation-rmse:0.98914\n"
     ]
    },
    {
     "name": "stderr",
     "output_type": "stream",
     "text": [
      "\u001b[32m[I 2021-06-19 00:13:12,813]\u001b[0m Trial 24 pruned. Trial was pruned at iteration 6.\u001b[0m\n"
     ]
    },
    {
     "name": "stdout",
     "output_type": "stream",
     "text": [
      "[00:13:12] WARNING: C:/Users/Administrator/workspace/xgboost-win64_release_1.4.0/src/learner.cc:573: \n",
      "Parameters: { \"n_estimators\" } might not be used.\n",
      "\n",
      "  This may not be accurate due to some parameters are only used in language bindings but\n",
      "  passed down to XGBoost core.  Or some parameters are not used but slip through this\n",
      "  verification. Please open an issue if you find above cases.\n",
      "\n",
      "\n",
      "[0]\tvalidation-rmse:8.09108\n",
      "[1]\tvalidation-rmse:5.67541\n",
      "[2]\tvalidation-rmse:3.98384\n",
      "[3]\tvalidation-rmse:2.80147\n",
      "[4]\tvalidation-rmse:1.97734\n",
      "[5]\tvalidation-rmse:1.39641\n"
     ]
    },
    {
     "name": "stderr",
     "output_type": "stream",
     "text": [
      "\u001b[32m[I 2021-06-19 00:13:12,873]\u001b[0m Trial 25 pruned. Trial was pruned at iteration 5.\u001b[0m\n"
     ]
    },
    {
     "name": "stdout",
     "output_type": "stream",
     "text": [
      "[00:13:12] WARNING: C:/Users/Administrator/workspace/xgboost-win64_release_1.4.0/src/learner.cc:573: \n",
      "Parameters: { \"n_estimators\" } might not be used.\n",
      "\n",
      "  This may not be accurate due to some parameters are only used in language bindings but\n",
      "  passed down to XGBoost core.  Or some parameters are not used but slip through this\n",
      "  verification. Please open an issue if you find above cases.\n",
      "\n",
      "\n",
      "[0]\tvalidation-rmse:8.09108\n",
      "[1]\tvalidation-rmse:5.67541\n",
      "[2]\tvalidation-rmse:3.98384\n",
      "[3]\tvalidation-rmse:2.80147\n",
      "[4]\tvalidation-rmse:1.97734\n",
      "[5]\tvalidation-rmse:1.39589\n"
     ]
    },
    {
     "name": "stderr",
     "output_type": "stream",
     "text": [
      "\u001b[32m[I 2021-06-19 00:13:12,940]\u001b[0m Trial 26 pruned. Trial was pruned at iteration 6.\u001b[0m\n"
     ]
    },
    {
     "name": "stdout",
     "output_type": "stream",
     "text": [
      "[00:13:12] WARNING: C:/Users/Administrator/workspace/xgboost-win64_release_1.4.0/src/learner.cc:573: \n",
      "Parameters: { \"n_estimators\" } might not be used.\n",
      "\n",
      "  This may not be accurate due to some parameters are only used in language bindings but\n",
      "  passed down to XGBoost core.  Or some parameters are not used but slip through this\n",
      "  verification. Please open an issue if you find above cases.\n",
      "\n",
      "\n",
      "[0]\tvalidation-rmse:8.09108\n",
      "[1]\tvalidation-rmse:5.67541\n",
      "[2]\tvalidation-rmse:3.98384\n",
      "[3]\tvalidation-rmse:2.80147\n",
      "[4]\tvalidation-rmse:1.97734\n",
      "[5]\tvalidation-rmse:1.39641\n"
     ]
    },
    {
     "name": "stderr",
     "output_type": "stream",
     "text": [
      "\u001b[32m[I 2021-06-19 00:13:12,999]\u001b[0m Trial 27 pruned. Trial was pruned at iteration 5.\u001b[0m\n"
     ]
    },
    {
     "name": "stdout",
     "output_type": "stream",
     "text": [
      "[00:13:13] WARNING: C:/Users/Administrator/workspace/xgboost-win64_release_1.4.0/src/learner.cc:573: \n",
      "Parameters: { \"n_estimators\" } might not be used.\n",
      "\n",
      "  This may not be accurate due to some parameters are only used in language bindings but\n",
      "  passed down to XGBoost core.  Or some parameters are not used but slip through this\n",
      "  verification. Please open an issue if you find above cases.\n",
      "\n",
      "\n",
      "[0]\tvalidation-rmse:8.09108\n",
      "[1]\tvalidation-rmse:5.67541\n",
      "[2]\tvalidation-rmse:3.98384\n",
      "[3]\tvalidation-rmse:2.80147\n",
      "[4]\tvalidation-rmse:1.97734\n"
     ]
    },
    {
     "name": "stderr",
     "output_type": "stream",
     "text": [
      "\u001b[32m[I 2021-06-19 00:13:13,060]\u001b[0m Trial 28 pruned. Trial was pruned at iteration 5.\u001b[0m\n"
     ]
    },
    {
     "name": "stdout",
     "output_type": "stream",
     "text": [
      "[00:13:13] WARNING: C:/Users/Administrator/workspace/xgboost-win64_release_1.4.0/src/learner.cc:573: \n",
      "Parameters: { \"n_estimators\" } might not be used.\n",
      "\n",
      "  This may not be accurate due to some parameters are only used in language bindings but\n",
      "  passed down to XGBoost core.  Or some parameters are not used but slip through this\n",
      "  verification. Please open an issue if you find above cases.\n",
      "\n",
      "\n",
      "[0]\tvalidation-rmse:8.09108\n",
      "[1]\tvalidation-rmse:5.67541\n",
      "[2]\tvalidation-rmse:3.98384\n",
      "[3]\tvalidation-rmse:2.80147\n",
      "[4]\tvalidation-rmse:1.97734\n",
      "[5]\tvalidation-rmse:1.39589\n",
      "[6]\tvalidation-rmse:0.98844\n",
      "[7]\tvalidation-rmse:0.70867\n",
      "[8]\tvalidation-rmse:0.51631\n",
      "[9]\tvalidation-rmse:0.38524\n"
     ]
    },
    {
     "name": "stderr",
     "output_type": "stream",
     "text": [
      "\u001b[32m[I 2021-06-19 00:13:13,157]\u001b[0m Trial 29 finished with value: 0.385240763425827 and parameters: {'rf_n_estimators': 397, 'rf_max_depth': 3}. Best is trial 7 with value: 0.385240763425827.\u001b[0m\n"
     ]
    },
    {
     "name": "stdout",
     "output_type": "stream",
     "text": [
      "[00:13:13] WARNING: C:/Users/Administrator/workspace/xgboost-win64_release_1.4.0/src/learner.cc:573: \n",
      "Parameters: { \"n_estimators\" } might not be used.\n",
      "\n",
      "  This may not be accurate due to some parameters are only used in language bindings but\n",
      "  passed down to XGBoost core.  Or some parameters are not used but slip through this\n",
      "  verification. Please open an issue if you find above cases.\n",
      "\n",
      "\n",
      "[0]\tvalidation-rmse:8.09108\n",
      "[1]\tvalidation-rmse:5.67541\n",
      "[2]\tvalidation-rmse:3.98384\n",
      "[3]\tvalidation-rmse:2.80147\n",
      "[4]\tvalidation-rmse:1.97734\n",
      "[5]\tvalidation-rmse:1.39589\n",
      "[6]\tvalidation-rmse:0.98844\n",
      "[7]\tvalidation-rmse:0.70867\n",
      "[8]\tvalidation-rmse:0.51631\n",
      "[9]\tvalidation-rmse:0.38524\n"
     ]
    },
    {
     "name": "stderr",
     "output_type": "stream",
     "text": [
      "\u001b[32m[I 2021-06-19 00:13:13,258]\u001b[0m Trial 30 finished with value: 0.385240763425827 and parameters: {'rf_n_estimators': 268, 'rf_max_depth': 3}. Best is trial 7 with value: 0.385240763425827.\u001b[0m\n"
     ]
    },
    {
     "name": "stdout",
     "output_type": "stream",
     "text": [
      "[00:13:13] WARNING: C:/Users/Administrator/workspace/xgboost-win64_release_1.4.0/src/learner.cc:573: \n",
      "Parameters: { \"n_estimators\" } might not be used.\n",
      "\n",
      "  This may not be accurate due to some parameters are only used in language bindings but\n",
      "  passed down to XGBoost core.  Or some parameters are not used but slip through this\n",
      "  verification. Please open an issue if you find above cases.\n",
      "\n",
      "\n",
      "[0]\tvalidation-rmse:8.09108\n",
      "[1]\tvalidation-rmse:5.67541\n",
      "[2]\tvalidation-rmse:3.98384\n",
      "[3]\tvalidation-rmse:2.80147\n",
      "[4]\tvalidation-rmse:1.97734\n",
      "[5]\tvalidation-rmse:1.39589\n",
      "[6]\tvalidation-rmse:0.98844\n",
      "[7]\tvalidation-rmse:0.70867\n",
      "[8]\tvalidation-rmse:0.51631\n",
      "[9]\tvalidation-rmse:0.38524\n"
     ]
    },
    {
     "name": "stderr",
     "output_type": "stream",
     "text": [
      "\u001b[32m[I 2021-06-19 00:13:13,357]\u001b[0m Trial 31 finished with value: 0.385240763425827 and parameters: {'rf_n_estimators': 10, 'rf_max_depth': 3}. Best is trial 7 with value: 0.385240763425827.\u001b[0m\n"
     ]
    },
    {
     "name": "stdout",
     "output_type": "stream",
     "text": [
      "[00:13:13] WARNING: C:/Users/Administrator/workspace/xgboost-win64_release_1.4.0/src/learner.cc:573: \n",
      "Parameters: { \"n_estimators\" } might not be used.\n",
      "\n",
      "  This may not be accurate due to some parameters are only used in language bindings but\n",
      "  passed down to XGBoost core.  Or some parameters are not used but slip through this\n",
      "  verification. Please open an issue if you find above cases.\n",
      "\n",
      "\n",
      "[0]\tvalidation-rmse:8.09108\n",
      "[1]\tvalidation-rmse:5.67541\n",
      "[2]\tvalidation-rmse:3.98384\n",
      "[3]\tvalidation-rmse:2.80147\n",
      "[4]\tvalidation-rmse:1.97734\n",
      "[5]\tvalidation-rmse:1.39641\n"
     ]
    },
    {
     "name": "stderr",
     "output_type": "stream",
     "text": [
      "\u001b[32m[I 2021-06-19 00:13:13,416]\u001b[0m Trial 32 pruned. Trial was pruned at iteration 5.\u001b[0m\n"
     ]
    },
    {
     "name": "stdout",
     "output_type": "stream",
     "text": [
      "[00:13:13] WARNING: C:/Users/Administrator/workspace/xgboost-win64_release_1.4.0/src/learner.cc:573: \n",
      "Parameters: { \"n_estimators\" } might not be used.\n",
      "\n",
      "  This may not be accurate due to some parameters are only used in language bindings but\n",
      "  passed down to XGBoost core.  Or some parameters are not used but slip through this\n",
      "  verification. Please open an issue if you find above cases.\n",
      "\n",
      "\n",
      "[0]\tvalidation-rmse:8.09108\n",
      "[1]\tvalidation-rmse:5.67541\n",
      "[2]\tvalidation-rmse:3.98384\n",
      "[3]\tvalidation-rmse:2.80147\n",
      "[4]\tvalidation-rmse:1.97734\n",
      "[5]\tvalidation-rmse:1.39589\n",
      "[6]\tvalidation-rmse:0.98844\n",
      "[7]\tvalidation-rmse:0.70867\n",
      "[8]\tvalidation-rmse:0.51631\n",
      "[9]\tvalidation-rmse:0.38524\n"
     ]
    },
    {
     "name": "stderr",
     "output_type": "stream",
     "text": [
      "\u001b[32m[I 2021-06-19 00:13:13,514]\u001b[0m Trial 33 finished with value: 0.385240763425827 and parameters: {'rf_n_estimators': 289, 'rf_max_depth': 3}. Best is trial 7 with value: 0.385240763425827.\u001b[0m\n"
     ]
    },
    {
     "name": "stdout",
     "output_type": "stream",
     "text": [
      "[00:13:13] WARNING: C:/Users/Administrator/workspace/xgboost-win64_release_1.4.0/src/learner.cc:573: \n",
      "Parameters: { \"n_estimators\" } might not be used.\n",
      "\n",
      "  This may not be accurate due to some parameters are only used in language bindings but\n",
      "  passed down to XGBoost core.  Or some parameters are not used but slip through this\n",
      "  verification. Please open an issue if you find above cases.\n",
      "\n",
      "\n",
      "[0]\tvalidation-rmse:8.09108\n",
      "[1]\tvalidation-rmse:5.67541\n",
      "[2]\tvalidation-rmse:3.98384\n",
      "[3]\tvalidation-rmse:2.80147\n",
      "[4]\tvalidation-rmse:1.97734\n",
      "[5]\tvalidation-rmse:1.39641\n"
     ]
    },
    {
     "name": "stderr",
     "output_type": "stream",
     "text": [
      "\u001b[32m[I 2021-06-19 00:13:13,572]\u001b[0m Trial 34 pruned. Trial was pruned at iteration 5.\u001b[0m\n"
     ]
    },
    {
     "name": "stdout",
     "output_type": "stream",
     "text": [
      "[00:13:13] WARNING: C:/Users/Administrator/workspace/xgboost-win64_release_1.4.0/src/learner.cc:573: \n",
      "Parameters: { \"n_estimators\" } might not be used.\n",
      "\n",
      "  This may not be accurate due to some parameters are only used in language bindings but\n",
      "  passed down to XGBoost core.  Or some parameters are not used but slip through this\n",
      "  verification. Please open an issue if you find above cases.\n",
      "\n",
      "\n",
      "[0]\tvalidation-rmse:8.09108\n",
      "[1]\tvalidation-rmse:5.67541\n",
      "[2]\tvalidation-rmse:3.98384\n",
      "[3]\tvalidation-rmse:2.80147\n",
      "[4]\tvalidation-rmse:1.97734\n"
     ]
    },
    {
     "name": "stderr",
     "output_type": "stream",
     "text": [
      "\u001b[32m[I 2021-06-19 00:13:13,627]\u001b[0m Trial 35 pruned. Trial was pruned at iteration 5.\u001b[0m\n"
     ]
    },
    {
     "name": "stdout",
     "output_type": "stream",
     "text": [
      "[00:13:13] WARNING: C:/Users/Administrator/workspace/xgboost-win64_release_1.4.0/src/learner.cc:573: \n",
      "Parameters: { \"n_estimators\" } might not be used.\n",
      "\n",
      "  This may not be accurate due to some parameters are only used in language bindings but\n",
      "  passed down to XGBoost core.  Or some parameters are not used but slip through this\n",
      "  verification. Please open an issue if you find above cases.\n",
      "\n",
      "\n",
      "[0]\tvalidation-rmse:8.09108\n",
      "[1]\tvalidation-rmse:5.67541\n",
      "[2]\tvalidation-rmse:3.98384\n",
      "[3]\tvalidation-rmse:2.80147\n",
      "[4]\tvalidation-rmse:1.97734\n",
      "[5]\tvalidation-rmse:1.39641\n"
     ]
    },
    {
     "name": "stderr",
     "output_type": "stream",
     "text": [
      "\u001b[32m[I 2021-06-19 00:13:13,690]\u001b[0m Trial 36 pruned. Trial was pruned at iteration 5.\u001b[0m\n"
     ]
    },
    {
     "name": "stdout",
     "output_type": "stream",
     "text": [
      "[00:13:13] WARNING: C:/Users/Administrator/workspace/xgboost-win64_release_1.4.0/src/learner.cc:573: \n",
      "Parameters: { \"n_estimators\" } might not be used.\n",
      "\n",
      "  This may not be accurate due to some parameters are only used in language bindings but\n",
      "  passed down to XGBoost core.  Or some parameters are not used but slip through this\n",
      "  verification. Please open an issue if you find above cases.\n",
      "\n",
      "\n",
      "[0]\tvalidation-rmse:8.09108\n",
      "[1]\tvalidation-rmse:5.67541\n",
      "[2]\tvalidation-rmse:3.98384\n",
      "[3]\tvalidation-rmse:2.80147\n",
      "[4]\tvalidation-rmse:1.97734\n",
      "[5]\tvalidation-rmse:1.39589\n"
     ]
    },
    {
     "name": "stderr",
     "output_type": "stream",
     "text": [
      "\u001b[32m[I 2021-06-19 00:13:13,757]\u001b[0m Trial 37 pruned. Trial was pruned at iteration 6.\u001b[0m\n"
     ]
    },
    {
     "name": "stdout",
     "output_type": "stream",
     "text": [
      "[00:13:13] WARNING: C:/Users/Administrator/workspace/xgboost-win64_release_1.4.0/src/learner.cc:573: \n",
      "Parameters: { \"n_estimators\" } might not be used.\n",
      "\n",
      "  This may not be accurate due to some parameters are only used in language bindings but\n",
      "  passed down to XGBoost core.  Or some parameters are not used but slip through this\n",
      "  verification. Please open an issue if you find above cases.\n",
      "\n",
      "\n",
      "[0]\tvalidation-rmse:8.09108\n",
      "[1]\tvalidation-rmse:5.67541\n",
      "[2]\tvalidation-rmse:3.98384\n",
      "[3]\tvalidation-rmse:2.80147\n",
      "[4]\tvalidation-rmse:1.97734\n",
      "[5]\tvalidation-rmse:1.39589\n",
      "[6]\tvalidation-rmse:0.98844\n",
      "[7]\tvalidation-rmse:0.70867\n",
      "[8]\tvalidation-rmse:0.51631\n",
      "[9]\tvalidation-rmse:0.38524\n"
     ]
    },
    {
     "name": "stderr",
     "output_type": "stream",
     "text": [
      "\u001b[32m[I 2021-06-19 00:13:13,861]\u001b[0m Trial 38 finished with value: 0.3856247663497925 and parameters: {'rf_n_estimators': 365, 'rf_max_depth': 3}. Best is trial 7 with value: 0.385240763425827.\u001b[0m\n"
     ]
    },
    {
     "name": "stdout",
     "output_type": "stream",
     "text": [
      "[00:13:13] WARNING: C:/Users/Administrator/workspace/xgboost-win64_release_1.4.0/src/learner.cc:573: \n",
      "Parameters: { \"n_estimators\" } might not be used.\n",
      "\n",
      "  This may not be accurate due to some parameters are only used in language bindings but\n",
      "  passed down to XGBoost core.  Or some parameters are not used but slip through this\n",
      "  verification. Please open an issue if you find above cases.\n",
      "\n",
      "\n",
      "[0]\tvalidation-rmse:8.09108\n",
      "[1]\tvalidation-rmse:5.67541\n",
      "[2]\tvalidation-rmse:3.98384\n",
      "[3]\tvalidation-rmse:2.80147\n",
      "[4]\tvalidation-rmse:1.97734\n"
     ]
    },
    {
     "name": "stderr",
     "output_type": "stream",
     "text": [
      "\u001b[32m[I 2021-06-19 00:13:13,920]\u001b[0m Trial 39 pruned. Trial was pruned at iteration 5.\u001b[0m\n"
     ]
    },
    {
     "name": "stdout",
     "output_type": "stream",
     "text": [
      "[00:13:13] WARNING: C:/Users/Administrator/workspace/xgboost-win64_release_1.4.0/src/learner.cc:573: \n",
      "Parameters: { \"n_estimators\" } might not be used.\n",
      "\n",
      "  This may not be accurate due to some parameters are only used in language bindings but\n",
      "  passed down to XGBoost core.  Or some parameters are not used but slip through this\n",
      "  verification. Please open an issue if you find above cases.\n",
      "\n",
      "\n",
      "[0]\tvalidation-rmse:8.09108\n",
      "[1]\tvalidation-rmse:5.67541\n",
      "[2]\tvalidation-rmse:3.98384\n",
      "[3]\tvalidation-rmse:2.80147\n",
      "[4]\tvalidation-rmse:1.97734\n",
      "[5]\tvalidation-rmse:1.39641\n"
     ]
    },
    {
     "name": "stderr",
     "output_type": "stream",
     "text": [
      "\u001b[32m[I 2021-06-19 00:13:13,982]\u001b[0m Trial 40 pruned. Trial was pruned at iteration 5.\u001b[0m\n"
     ]
    },
    {
     "name": "stdout",
     "output_type": "stream",
     "text": [
      "[00:13:14] WARNING: C:/Users/Administrator/workspace/xgboost-win64_release_1.4.0/src/learner.cc:573: \n",
      "Parameters: { \"n_estimators\" } might not be used.\n",
      "\n",
      "  This may not be accurate due to some parameters are only used in language bindings but\n",
      "  passed down to XGBoost core.  Or some parameters are not used but slip through this\n",
      "  verification. Please open an issue if you find above cases.\n",
      "\n",
      "\n",
      "[0]\tvalidation-rmse:8.09108\n",
      "[1]\tvalidation-rmse:5.67541\n",
      "[2]\tvalidation-rmse:3.98384\n",
      "[3]\tvalidation-rmse:2.80147\n",
      "[4]\tvalidation-rmse:1.97734\n",
      "[5]\tvalidation-rmse:1.39589\n",
      "[6]\tvalidation-rmse:0.98844\n",
      "[7]\tvalidation-rmse:0.70867\n",
      "[8]\tvalidation-rmse:0.51631\n",
      "[9]\tvalidation-rmse:0.38524\n"
     ]
    },
    {
     "name": "stderr",
     "output_type": "stream",
     "text": [
      "\u001b[32m[I 2021-06-19 00:13:14,082]\u001b[0m Trial 41 finished with value: 0.385240763425827 and parameters: {'rf_n_estimators': 414, 'rf_max_depth': 3}. Best is trial 7 with value: 0.385240763425827.\u001b[0m\n"
     ]
    },
    {
     "name": "stdout",
     "output_type": "stream",
     "text": [
      "[00:13:14] WARNING: C:/Users/Administrator/workspace/xgboost-win64_release_1.4.0/src/learner.cc:573: \n",
      "Parameters: { \"n_estimators\" } might not be used.\n",
      "\n",
      "  This may not be accurate due to some parameters are only used in language bindings but\n",
      "  passed down to XGBoost core.  Or some parameters are not used but slip through this\n",
      "  verification. Please open an issue if you find above cases.\n",
      "\n",
      "\n",
      "[0]\tvalidation-rmse:8.09108\n",
      "[1]\tvalidation-rmse:5.67541\n",
      "[2]\tvalidation-rmse:3.98384\n",
      "[3]\tvalidation-rmse:2.80147\n",
      "[4]\tvalidation-rmse:1.97734\n",
      "[5]\tvalidation-rmse:1.39641\n"
     ]
    },
    {
     "name": "stderr",
     "output_type": "stream",
     "text": [
      "\u001b[32m[I 2021-06-19 00:13:14,141]\u001b[0m Trial 42 pruned. Trial was pruned at iteration 5.\u001b[0m\n"
     ]
    },
    {
     "name": "stdout",
     "output_type": "stream",
     "text": [
      "[00:13:14] WARNING: C:/Users/Administrator/workspace/xgboost-win64_release_1.4.0/src/learner.cc:573: \n",
      "Parameters: { \"n_estimators\" } might not be used.\n",
      "\n",
      "  This may not be accurate due to some parameters are only used in language bindings but\n",
      "  passed down to XGBoost core.  Or some parameters are not used but slip through this\n",
      "  verification. Please open an issue if you find above cases.\n",
      "\n",
      "\n",
      "[0]\tvalidation-rmse:8.09108\n",
      "[1]\tvalidation-rmse:5.67541\n",
      "[2]\tvalidation-rmse:3.98384\n",
      "[3]\tvalidation-rmse:2.80147\n",
      "[4]\tvalidation-rmse:1.97734\n",
      "[5]\tvalidation-rmse:1.39641\n"
     ]
    },
    {
     "name": "stderr",
     "output_type": "stream",
     "text": [
      "\u001b[32m[I 2021-06-19 00:13:14,199]\u001b[0m Trial 43 pruned. Trial was pruned at iteration 5.\u001b[0m\n"
     ]
    },
    {
     "name": "stdout",
     "output_type": "stream",
     "text": [
      "[00:13:14] WARNING: C:/Users/Administrator/workspace/xgboost-win64_release_1.4.0/src/learner.cc:573: \n",
      "Parameters: { \"n_estimators\" } might not be used.\n",
      "\n",
      "  This may not be accurate due to some parameters are only used in language bindings but\n",
      "  passed down to XGBoost core.  Or some parameters are not used but slip through this\n",
      "  verification. Please open an issue if you find above cases.\n",
      "\n",
      "\n",
      "[0]\tvalidation-rmse:8.09108\n",
      "[1]\tvalidation-rmse:5.67541\n",
      "[2]\tvalidation-rmse:3.98384\n",
      "[3]\tvalidation-rmse:2.80147\n",
      "[4]\tvalidation-rmse:1.97734\n"
     ]
    },
    {
     "name": "stderr",
     "output_type": "stream",
     "text": [
      "\u001b[32m[I 2021-06-19 00:13:14,260]\u001b[0m Trial 44 pruned. Trial was pruned at iteration 5.\u001b[0m\n"
     ]
    },
    {
     "name": "stdout",
     "output_type": "stream",
     "text": [
      "[00:13:14] WARNING: C:/Users/Administrator/workspace/xgboost-win64_release_1.4.0/src/learner.cc:573: \n",
      "Parameters: { \"n_estimators\" } might not be used.\n",
      "\n",
      "  This may not be accurate due to some parameters are only used in language bindings but\n",
      "  passed down to XGBoost core.  Or some parameters are not used but slip through this\n",
      "  verification. Please open an issue if you find above cases.\n",
      "\n",
      "\n",
      "[0]\tvalidation-rmse:8.09108\n",
      "[1]\tvalidation-rmse:5.67541\n",
      "[2]\tvalidation-rmse:3.98384\n",
      "[3]\tvalidation-rmse:2.80147\n",
      "[4]\tvalidation-rmse:1.97734\n",
      "[5]\tvalidation-rmse:1.39641\n"
     ]
    },
    {
     "name": "stderr",
     "output_type": "stream",
     "text": [
      "\u001b[32m[I 2021-06-19 00:13:14,322]\u001b[0m Trial 45 pruned. Trial was pruned at iteration 5.\u001b[0m\n"
     ]
    },
    {
     "name": "stdout",
     "output_type": "stream",
     "text": [
      "[00:13:14] WARNING: C:/Users/Administrator/workspace/xgboost-win64_release_1.4.0/src/learner.cc:573: \n",
      "Parameters: { \"n_estimators\" } might not be used.\n",
      "\n",
      "  This may not be accurate due to some parameters are only used in language bindings but\n",
      "  passed down to XGBoost core.  Or some parameters are not used but slip through this\n",
      "  verification. Please open an issue if you find above cases.\n",
      "\n",
      "\n",
      "[0]\tvalidation-rmse:8.09108\n",
      "[1]\tvalidation-rmse:5.67541\n",
      "[2]\tvalidation-rmse:3.98384\n",
      "[3]\tvalidation-rmse:2.80147\n",
      "[4]\tvalidation-rmse:1.97734\n",
      "[5]\tvalidation-rmse:1.39641\n"
     ]
    },
    {
     "name": "stderr",
     "output_type": "stream",
     "text": [
      "\u001b[32m[I 2021-06-19 00:13:14,387]\u001b[0m Trial 46 pruned. Trial was pruned at iteration 5.\u001b[0m\n"
     ]
    },
    {
     "name": "stdout",
     "output_type": "stream",
     "text": [
      "[00:13:14] WARNING: C:/Users/Administrator/workspace/xgboost-win64_release_1.4.0/src/learner.cc:573: \n",
      "Parameters: { \"n_estimators\" } might not be used.\n",
      "\n",
      "  This may not be accurate due to some parameters are only used in language bindings but\n",
      "  passed down to XGBoost core.  Or some parameters are not used but slip through this\n",
      "  verification. Please open an issue if you find above cases.\n",
      "\n",
      "\n",
      "[0]\tvalidation-rmse:8.09108\n",
      "[1]\tvalidation-rmse:5.67541\n",
      "[2]\tvalidation-rmse:3.98384\n",
      "[3]\tvalidation-rmse:2.80147\n",
      "[4]\tvalidation-rmse:1.97734\n"
     ]
    },
    {
     "name": "stderr",
     "output_type": "stream",
     "text": [
      "\u001b[32m[I 2021-06-19 00:13:14,445]\u001b[0m Trial 47 pruned. Trial was pruned at iteration 5.\u001b[0m\n"
     ]
    },
    {
     "name": "stdout",
     "output_type": "stream",
     "text": [
      "[00:13:14] WARNING: C:/Users/Administrator/workspace/xgboost-win64_release_1.4.0/src/learner.cc:573: \n",
      "Parameters: { \"n_estimators\" } might not be used.\n",
      "\n",
      "  This may not be accurate due to some parameters are only used in language bindings but\n",
      "  passed down to XGBoost core.  Or some parameters are not used but slip through this\n",
      "  verification. Please open an issue if you find above cases.\n",
      "\n",
      "\n",
      "[0]\tvalidation-rmse:8.09108\n",
      "[1]\tvalidation-rmse:5.67541\n",
      "[2]\tvalidation-rmse:3.98384\n",
      "[3]\tvalidation-rmse:2.80147\n",
      "[4]\tvalidation-rmse:1.97734\n",
      "[5]\tvalidation-rmse:1.39589\n",
      "[6]\tvalidation-rmse:0.98844\n",
      "[7]\tvalidation-rmse:0.70867\n",
      "[8]\tvalidation-rmse:0.51631\n",
      "[9]\tvalidation-rmse:0.38524\n"
     ]
    },
    {
     "name": "stderr",
     "output_type": "stream",
     "text": [
      "\u001b[32m[I 2021-06-19 00:13:14,543]\u001b[0m Trial 48 finished with value: 0.385240763425827 and parameters: {'rf_n_estimators': 412, 'rf_max_depth': 3}. Best is trial 7 with value: 0.385240763425827.\u001b[0m\n"
     ]
    },
    {
     "name": "stdout",
     "output_type": "stream",
     "text": [
      "[00:13:14] WARNING: C:/Users/Administrator/workspace/xgboost-win64_release_1.4.0/src/learner.cc:573: \n",
      "Parameters: { \"n_estimators\" } might not be used.\n",
      "\n",
      "  This may not be accurate due to some parameters are only used in language bindings but\n",
      "  passed down to XGBoost core.  Or some parameters are not used but slip through this\n",
      "  verification. Please open an issue if you find above cases.\n",
      "\n",
      "\n",
      "[0]\tvalidation-rmse:8.09108\n",
      "[1]\tvalidation-rmse:5.67541\n",
      "[2]\tvalidation-rmse:3.98384\n",
      "[3]\tvalidation-rmse:2.80147\n",
      "[4]\tvalidation-rmse:1.97734\n",
      "[5]\tvalidation-rmse:1.39589\n",
      "[6]\tvalidation-rmse:0.98844\n",
      "[7]\tvalidation-rmse:0.70867\n",
      "[8]\tvalidation-rmse:0.51631\n",
      "[9]\tvalidation-rmse:0.38524\n"
     ]
    },
    {
     "name": "stderr",
     "output_type": "stream",
     "text": [
      "\u001b[32m[I 2021-06-19 00:13:14,642]\u001b[0m Trial 49 finished with value: 0.385240763425827 and parameters: {'rf_n_estimators': 437, 'rf_max_depth': 3}. Best is trial 7 with value: 0.385240763425827.\u001b[0m\n"
     ]
    },
    {
     "name": "stdout",
     "output_type": "stream",
     "text": [
      "[00:13:14] WARNING: C:/Users/Administrator/workspace/xgboost-win64_release_1.4.0/src/learner.cc:573: \n",
      "Parameters: { \"n_estimators\" } might not be used.\n",
      "\n",
      "  This may not be accurate due to some parameters are only used in language bindings but\n",
      "  passed down to XGBoost core.  Or some parameters are not used but slip through this\n",
      "  verification. Please open an issue if you find above cases.\n",
      "\n",
      "\n",
      "[0]\tvalidation-rmse:8.09108\n",
      "[1]\tvalidation-rmse:5.67541\n",
      "[2]\tvalidation-rmse:3.98384\n",
      "[3]\tvalidation-rmse:2.80147\n",
      "[4]\tvalidation-rmse:1.97734\n"
     ]
    },
    {
     "name": "stderr",
     "output_type": "stream",
     "text": [
      "\u001b[32m[I 2021-06-19 00:13:14,702]\u001b[0m Trial 50 pruned. Trial was pruned at iteration 5.\u001b[0m\n"
     ]
    },
    {
     "name": "stdout",
     "output_type": "stream",
     "text": [
      "[00:13:14] WARNING: C:/Users/Administrator/workspace/xgboost-win64_release_1.4.0/src/learner.cc:573: \n",
      "Parameters: { \"n_estimators\" } might not be used.\n",
      "\n",
      "  This may not be accurate due to some parameters are only used in language bindings but\n",
      "  passed down to XGBoost core.  Or some parameters are not used but slip through this\n",
      "  verification. Please open an issue if you find above cases.\n",
      "\n",
      "\n",
      "[0]\tvalidation-rmse:8.09108\n",
      "[1]\tvalidation-rmse:5.67541\n",
      "[2]\tvalidation-rmse:3.98384\n",
      "[3]\tvalidation-rmse:2.80147\n",
      "[4]\tvalidation-rmse:1.97734\n"
     ]
    },
    {
     "name": "stderr",
     "output_type": "stream",
     "text": [
      "\u001b[32m[I 2021-06-19 00:13:14,760]\u001b[0m Trial 51 pruned. Trial was pruned at iteration 5.\u001b[0m\n"
     ]
    },
    {
     "name": "stdout",
     "output_type": "stream",
     "text": [
      "[00:13:14] WARNING: C:/Users/Administrator/workspace/xgboost-win64_release_1.4.0/src/learner.cc:573: \n",
      "Parameters: { \"n_estimators\" } might not be used.\n",
      "\n",
      "  This may not be accurate due to some parameters are only used in language bindings but\n",
      "  passed down to XGBoost core.  Or some parameters are not used but slip through this\n",
      "  verification. Please open an issue if you find above cases.\n",
      "\n",
      "\n",
      "[0]\tvalidation-rmse:8.09108\n",
      "[1]\tvalidation-rmse:5.67541\n",
      "[2]\tvalidation-rmse:3.98384\n",
      "[3]\tvalidation-rmse:2.80147\n",
      "[4]\tvalidation-rmse:1.97734\n"
     ]
    },
    {
     "name": "stderr",
     "output_type": "stream",
     "text": [
      "\u001b[32m[I 2021-06-19 00:13:14,819]\u001b[0m Trial 52 pruned. Trial was pruned at iteration 5.\u001b[0m\n"
     ]
    },
    {
     "name": "stdout",
     "output_type": "stream",
     "text": [
      "[00:13:14] WARNING: C:/Users/Administrator/workspace/xgboost-win64_release_1.4.0/src/learner.cc:573: \n",
      "Parameters: { \"n_estimators\" } might not be used.\n",
      "\n",
      "  This may not be accurate due to some parameters are only used in language bindings but\n",
      "  passed down to XGBoost core.  Or some parameters are not used but slip through this\n",
      "  verification. Please open an issue if you find above cases.\n",
      "\n",
      "\n",
      "[0]\tvalidation-rmse:8.09108\n",
      "[1]\tvalidation-rmse:5.67541\n",
      "[2]\tvalidation-rmse:3.98384\n",
      "[3]\tvalidation-rmse:2.80147\n",
      "[4]\tvalidation-rmse:1.97734\n",
      "[5]\tvalidation-rmse:1.39589\n",
      "[6]\tvalidation-rmse:0.98844\n",
      "[7]\tvalidation-rmse:0.70867\n",
      "[8]\tvalidation-rmse:0.51631\n",
      "[9]\tvalidation-rmse:0.38524\n"
     ]
    },
    {
     "name": "stderr",
     "output_type": "stream",
     "text": [
      "\u001b[32m[I 2021-06-19 00:13:14,918]\u001b[0m Trial 53 finished with value: 0.385240763425827 and parameters: {'rf_n_estimators': 346, 'rf_max_depth': 3}. Best is trial 7 with value: 0.385240763425827.\u001b[0m\n"
     ]
    },
    {
     "name": "stdout",
     "output_type": "stream",
     "text": [
      "[00:13:14] WARNING: C:/Users/Administrator/workspace/xgboost-win64_release_1.4.0/src/learner.cc:573: \n",
      "Parameters: { \"n_estimators\" } might not be used.\n",
      "\n",
      "  This may not be accurate due to some parameters are only used in language bindings but\n",
      "  passed down to XGBoost core.  Or some parameters are not used but slip through this\n",
      "  verification. Please open an issue if you find above cases.\n",
      "\n",
      "\n",
      "[0]\tvalidation-rmse:8.09108\n",
      "[1]\tvalidation-rmse:5.67541\n",
      "[2]\tvalidation-rmse:3.98384\n",
      "[3]\tvalidation-rmse:2.80147\n",
      "[4]\tvalidation-rmse:1.97734\n",
      "[5]\tvalidation-rmse:1.39641\n"
     ]
    },
    {
     "name": "stderr",
     "output_type": "stream",
     "text": [
      "\u001b[32m[I 2021-06-19 00:13:14,977]\u001b[0m Trial 54 pruned. Trial was pruned at iteration 5.\u001b[0m\n"
     ]
    },
    {
     "name": "stdout",
     "output_type": "stream",
     "text": [
      "[00:13:15] WARNING: C:/Users/Administrator/workspace/xgboost-win64_release_1.4.0/src/learner.cc:573: \n",
      "Parameters: { \"n_estimators\" } might not be used.\n",
      "\n",
      "  This may not be accurate due to some parameters are only used in language bindings but\n",
      "  passed down to XGBoost core.  Or some parameters are not used but slip through this\n",
      "  verification. Please open an issue if you find above cases.\n",
      "\n",
      "\n",
      "[0]\tvalidation-rmse:8.09108\n",
      "[1]\tvalidation-rmse:5.67541\n",
      "[2]\tvalidation-rmse:3.98384\n",
      "[3]\tvalidation-rmse:2.80147\n",
      "[4]\tvalidation-rmse:1.97734\n"
     ]
    },
    {
     "name": "stderr",
     "output_type": "stream",
     "text": [
      "\u001b[32m[I 2021-06-19 00:13:15,036]\u001b[0m Trial 55 pruned. Trial was pruned at iteration 5.\u001b[0m\n"
     ]
    },
    {
     "name": "stdout",
     "output_type": "stream",
     "text": [
      "[00:13:15] WARNING: C:/Users/Administrator/workspace/xgboost-win64_release_1.4.0/src/learner.cc:573: \n",
      "Parameters: { \"n_estimators\" } might not be used.\n",
      "\n",
      "  This may not be accurate due to some parameters are only used in language bindings but\n",
      "  passed down to XGBoost core.  Or some parameters are not used but slip through this\n",
      "  verification. Please open an issue if you find above cases.\n",
      "\n",
      "\n",
      "[0]\tvalidation-rmse:8.09108\n",
      "[1]\tvalidation-rmse:5.67541\n",
      "[2]\tvalidation-rmse:3.98384\n",
      "[3]\tvalidation-rmse:2.80147\n",
      "[4]\tvalidation-rmse:1.97734\n"
     ]
    },
    {
     "name": "stderr",
     "output_type": "stream",
     "text": [
      "\u001b[32m[I 2021-06-19 00:13:15,095]\u001b[0m Trial 56 pruned. Trial was pruned at iteration 5.\u001b[0m\n"
     ]
    },
    {
     "name": "stdout",
     "output_type": "stream",
     "text": [
      "[00:13:15] WARNING: C:/Users/Administrator/workspace/xgboost-win64_release_1.4.0/src/learner.cc:573: \n",
      "Parameters: { \"n_estimators\" } might not be used.\n",
      "\n",
      "  This may not be accurate due to some parameters are only used in language bindings but\n",
      "  passed down to XGBoost core.  Or some parameters are not used but slip through this\n",
      "  verification. Please open an issue if you find above cases.\n",
      "\n",
      "\n",
      "[0]\tvalidation-rmse:8.09108\n",
      "[1]\tvalidation-rmse:5.67541\n",
      "[2]\tvalidation-rmse:3.98384\n",
      "[3]\tvalidation-rmse:2.80147\n",
      "[4]\tvalidation-rmse:1.97734\n",
      "[5]\tvalidation-rmse:1.39641\n"
     ]
    },
    {
     "name": "stderr",
     "output_type": "stream",
     "text": [
      "\u001b[32m[I 2021-06-19 00:13:15,157]\u001b[0m Trial 57 pruned. Trial was pruned at iteration 5.\u001b[0m\n"
     ]
    },
    {
     "name": "stdout",
     "output_type": "stream",
     "text": [
      "[00:13:15] WARNING: C:/Users/Administrator/workspace/xgboost-win64_release_1.4.0/src/learner.cc:573: \n",
      "Parameters: { \"n_estimators\" } might not be used.\n",
      "\n",
      "  This may not be accurate due to some parameters are only used in language bindings but\n",
      "  passed down to XGBoost core.  Or some parameters are not used but slip through this\n",
      "  verification. Please open an issue if you find above cases.\n",
      "\n",
      "\n",
      "[0]\tvalidation-rmse:8.09108\n",
      "[1]\tvalidation-rmse:5.67541\n",
      "[2]\tvalidation-rmse:3.98384\n",
      "[3]\tvalidation-rmse:2.80147\n",
      "[4]\tvalidation-rmse:1.97734\n"
     ]
    },
    {
     "name": "stderr",
     "output_type": "stream",
     "text": [
      "\u001b[32m[I 2021-06-19 00:13:15,216]\u001b[0m Trial 58 pruned. Trial was pruned at iteration 5.\u001b[0m\n"
     ]
    },
    {
     "name": "stdout",
     "output_type": "stream",
     "text": [
      "[00:13:15] WARNING: C:/Users/Administrator/workspace/xgboost-win64_release_1.4.0/src/learner.cc:573: \n",
      "Parameters: { \"n_estimators\" } might not be used.\n",
      "\n",
      "  This may not be accurate due to some parameters are only used in language bindings but\n",
      "  passed down to XGBoost core.  Or some parameters are not used but slip through this\n",
      "  verification. Please open an issue if you find above cases.\n",
      "\n",
      "\n",
      "[0]\tvalidation-rmse:8.09108\n",
      "[1]\tvalidation-rmse:5.67541\n",
      "[2]\tvalidation-rmse:3.98384\n",
      "[3]\tvalidation-rmse:2.80147\n",
      "[4]\tvalidation-rmse:1.97734\n"
     ]
    },
    {
     "name": "stderr",
     "output_type": "stream",
     "text": [
      "\u001b[32m[I 2021-06-19 00:13:15,274]\u001b[0m Trial 59 pruned. Trial was pruned at iteration 5.\u001b[0m\n"
     ]
    },
    {
     "name": "stdout",
     "output_type": "stream",
     "text": [
      "[00:13:15] WARNING: C:/Users/Administrator/workspace/xgboost-win64_release_1.4.0/src/learner.cc:573: \n",
      "Parameters: { \"n_estimators\" } might not be used.\n",
      "\n",
      "  This may not be accurate due to some parameters are only used in language bindings but\n",
      "  passed down to XGBoost core.  Or some parameters are not used but slip through this\n",
      "  verification. Please open an issue if you find above cases.\n",
      "\n",
      "\n",
      "[0]\tvalidation-rmse:8.09108\n",
      "[1]\tvalidation-rmse:5.67541\n",
      "[2]\tvalidation-rmse:3.98384\n",
      "[3]\tvalidation-rmse:2.80147\n",
      "[4]\tvalidation-rmse:1.97734\n",
      "[5]\tvalidation-rmse:1.39589\n",
      "[6]\tvalidation-rmse:0.98844\n",
      "[7]\tvalidation-rmse:0.70867\n",
      "[8]\tvalidation-rmse:0.51631\n",
      "[9]\tvalidation-rmse:0.38524\n"
     ]
    },
    {
     "name": "stderr",
     "output_type": "stream",
     "text": [
      "\u001b[32m[I 2021-06-19 00:13:15,372]\u001b[0m Trial 60 finished with value: 0.3856247663497925 and parameters: {'rf_n_estimators': 749, 'rf_max_depth': 3}. Best is trial 7 with value: 0.385240763425827.\u001b[0m\n"
     ]
    },
    {
     "name": "stdout",
     "output_type": "stream",
     "text": [
      "[00:13:15] WARNING: C:/Users/Administrator/workspace/xgboost-win64_release_1.4.0/src/learner.cc:573: \n",
      "Parameters: { \"n_estimators\" } might not be used.\n",
      "\n",
      "  This may not be accurate due to some parameters are only used in language bindings but\n",
      "  passed down to XGBoost core.  Or some parameters are not used but slip through this\n",
      "  verification. Please open an issue if you find above cases.\n",
      "\n",
      "\n",
      "[0]\tvalidation-rmse:8.09108\n",
      "[1]\tvalidation-rmse:5.67541\n",
      "[2]\tvalidation-rmse:3.98384\n",
      "[3]\tvalidation-rmse:2.80147\n",
      "[4]\tvalidation-rmse:1.97734\n",
      "[5]\tvalidation-rmse:1.39589\n",
      "[6]\tvalidation-rmse:0.98844\n",
      "[7]\tvalidation-rmse:0.70867\n",
      "[8]\tvalidation-rmse:0.51631\n",
      "[9]\tvalidation-rmse:0.38524\n"
     ]
    },
    {
     "name": "stderr",
     "output_type": "stream",
     "text": [
      "\u001b[32m[I 2021-06-19 00:13:15,469]\u001b[0m Trial 61 finished with value: 0.385240763425827 and parameters: {'rf_n_estimators': 332, 'rf_max_depth': 3}. Best is trial 7 with value: 0.385240763425827.\u001b[0m\n"
     ]
    },
    {
     "name": "stdout",
     "output_type": "stream",
     "text": [
      "[00:13:15] WARNING: C:/Users/Administrator/workspace/xgboost-win64_release_1.4.0/src/learner.cc:573: \n",
      "Parameters: { \"n_estimators\" } might not be used.\n",
      "\n",
      "  This may not be accurate due to some parameters are only used in language bindings but\n",
      "  passed down to XGBoost core.  Or some parameters are not used but slip through this\n",
      "  verification. Please open an issue if you find above cases.\n",
      "\n",
      "\n",
      "[0]\tvalidation-rmse:8.09108\n",
      "[1]\tvalidation-rmse:5.67541\n",
      "[2]\tvalidation-rmse:3.98384\n",
      "[3]\tvalidation-rmse:2.80147\n",
      "[4]\tvalidation-rmse:1.97734\n",
      "[5]\tvalidation-rmse:1.39641\n"
     ]
    },
    {
     "name": "stderr",
     "output_type": "stream",
     "text": [
      "\u001b[32m[I 2021-06-19 00:13:15,527]\u001b[0m Trial 62 pruned. Trial was pruned at iteration 5.\u001b[0m\n"
     ]
    },
    {
     "name": "stdout",
     "output_type": "stream",
     "text": [
      "[00:13:15] WARNING: C:/Users/Administrator/workspace/xgboost-win64_release_1.4.0/src/learner.cc:573: \n",
      "Parameters: { \"n_estimators\" } might not be used.\n",
      "\n",
      "  This may not be accurate due to some parameters are only used in language bindings but\n",
      "  passed down to XGBoost core.  Or some parameters are not used but slip through this\n",
      "  verification. Please open an issue if you find above cases.\n",
      "\n",
      "\n",
      "[0]\tvalidation-rmse:8.09108\n",
      "[1]\tvalidation-rmse:5.67541\n",
      "[2]\tvalidation-rmse:3.98384\n",
      "[3]\tvalidation-rmse:2.80147\n",
      "[4]\tvalidation-rmse:1.97734\n",
      "[5]\tvalidation-rmse:1.39641\n"
     ]
    },
    {
     "name": "stderr",
     "output_type": "stream",
     "text": [
      "\u001b[32m[I 2021-06-19 00:13:15,586]\u001b[0m Trial 63 pruned. Trial was pruned at iteration 5.\u001b[0m\n"
     ]
    },
    {
     "name": "stdout",
     "output_type": "stream",
     "text": [
      "[00:13:15] WARNING: C:/Users/Administrator/workspace/xgboost-win64_release_1.4.0/src/learner.cc:573: \n",
      "Parameters: { \"n_estimators\" } might not be used.\n",
      "\n",
      "  This may not be accurate due to some parameters are only used in language bindings but\n",
      "  passed down to XGBoost core.  Or some parameters are not used but slip through this\n",
      "  verification. Please open an issue if you find above cases.\n",
      "\n",
      "\n",
      "[0]\tvalidation-rmse:8.09108\n",
      "[1]\tvalidation-rmse:5.67541\n",
      "[2]\tvalidation-rmse:3.98384\n",
      "[3]\tvalidation-rmse:2.80147\n",
      "[4]\tvalidation-rmse:1.97734\n",
      "[5]\tvalidation-rmse:1.39589\n",
      "[6]\tvalidation-rmse:0.98844\n",
      "[7]\tvalidation-rmse:0.70867\n",
      "[8]\tvalidation-rmse:0.51631\n",
      "[9]\tvalidation-rmse:0.38524\n"
     ]
    },
    {
     "name": "stderr",
     "output_type": "stream",
     "text": [
      "\u001b[32m[I 2021-06-19 00:13:15,682]\u001b[0m Trial 64 finished with value: 0.385240763425827 and parameters: {'rf_n_estimators': 807, 'rf_max_depth': 3}. Best is trial 7 with value: 0.385240763425827.\u001b[0m\n"
     ]
    },
    {
     "name": "stdout",
     "output_type": "stream",
     "text": [
      "[00:13:15] WARNING: C:/Users/Administrator/workspace/xgboost-win64_release_1.4.0/src/learner.cc:573: \n",
      "Parameters: { \"n_estimators\" } might not be used.\n",
      "\n",
      "  This may not be accurate due to some parameters are only used in language bindings but\n",
      "  passed down to XGBoost core.  Or some parameters are not used but slip through this\n",
      "  verification. Please open an issue if you find above cases.\n",
      "\n",
      "\n",
      "[0]\tvalidation-rmse:8.09108\n",
      "[1]\tvalidation-rmse:5.67541\n",
      "[2]\tvalidation-rmse:3.98384\n",
      "[3]\tvalidation-rmse:2.80147\n",
      "[4]\tvalidation-rmse:1.97734\n"
     ]
    },
    {
     "name": "stderr",
     "output_type": "stream",
     "text": [
      "\u001b[32m[I 2021-06-19 00:13:15,739]\u001b[0m Trial 65 pruned. Trial was pruned at iteration 5.\u001b[0m\n"
     ]
    },
    {
     "name": "stdout",
     "output_type": "stream",
     "text": [
      "[00:13:15] WARNING: C:/Users/Administrator/workspace/xgboost-win64_release_1.4.0/src/learner.cc:573: \n",
      "Parameters: { \"n_estimators\" } might not be used.\n",
      "\n",
      "  This may not be accurate due to some parameters are only used in language bindings but\n",
      "  passed down to XGBoost core.  Or some parameters are not used but slip through this\n",
      "  verification. Please open an issue if you find above cases.\n",
      "\n",
      "\n",
      "[0]\tvalidation-rmse:8.09108\n",
      "[1]\tvalidation-rmse:5.67541\n",
      "[2]\tvalidation-rmse:3.98384\n",
      "[3]\tvalidation-rmse:2.80147\n",
      "[4]\tvalidation-rmse:1.97734\n",
      "[5]\tvalidation-rmse:1.39589\n",
      "[6]\tvalidation-rmse:0.98844\n",
      "[7]\tvalidation-rmse:0.70867\n",
      "[8]\tvalidation-rmse:0.51631\n",
      "[9]\tvalidation-rmse:0.38524\n"
     ]
    },
    {
     "name": "stderr",
     "output_type": "stream",
     "text": [
      "\u001b[32m[I 2021-06-19 00:13:15,841]\u001b[0m Trial 66 finished with value: 0.3856247663497925 and parameters: {'rf_n_estimators': 398, 'rf_max_depth': 3}. Best is trial 7 with value: 0.385240763425827.\u001b[0m\n"
     ]
    },
    {
     "name": "stdout",
     "output_type": "stream",
     "text": [
      "[00:13:15] WARNING: C:/Users/Administrator/workspace/xgboost-win64_release_1.4.0/src/learner.cc:573: \n",
      "Parameters: { \"n_estimators\" } might not be used.\n",
      "\n",
      "  This may not be accurate due to some parameters are only used in language bindings but\n",
      "  passed down to XGBoost core.  Or some parameters are not used but slip through this\n",
      "  verification. Please open an issue if you find above cases.\n",
      "\n",
      "\n",
      "[0]\tvalidation-rmse:8.09108\n",
      "[1]\tvalidation-rmse:5.67541\n",
      "[2]\tvalidation-rmse:3.98384\n",
      "[3]\tvalidation-rmse:2.80147\n",
      "[4]\tvalidation-rmse:1.97734\n",
      "[5]\tvalidation-rmse:1.39589\n",
      "[6]\tvalidation-rmse:0.98844\n",
      "[7]\tvalidation-rmse:0.70867\n",
      "[8]\tvalidation-rmse:0.51631\n",
      "[9]\tvalidation-rmse:0.38524\n"
     ]
    },
    {
     "name": "stderr",
     "output_type": "stream",
     "text": [
      "\u001b[32m[I 2021-06-19 00:13:15,945]\u001b[0m Trial 67 finished with value: 0.385240763425827 and parameters: {'rf_n_estimators': 333, 'rf_max_depth': 3}. Best is trial 7 with value: 0.385240763425827.\u001b[0m\n"
     ]
    },
    {
     "name": "stdout",
     "output_type": "stream",
     "text": [
      "[00:13:15] WARNING: C:/Users/Administrator/workspace/xgboost-win64_release_1.4.0/src/learner.cc:573: \n",
      "Parameters: { \"n_estimators\" } might not be used.\n",
      "\n",
      "  This may not be accurate due to some parameters are only used in language bindings but\n",
      "  passed down to XGBoost core.  Or some parameters are not used but slip through this\n",
      "  verification. Please open an issue if you find above cases.\n",
      "\n",
      "\n",
      "[0]\tvalidation-rmse:8.09108\n",
      "[1]\tvalidation-rmse:5.67541\n",
      "[2]\tvalidation-rmse:3.98384\n",
      "[3]\tvalidation-rmse:2.80147\n",
      "[4]\tvalidation-rmse:1.97734\n"
     ]
    },
    {
     "name": "stderr",
     "output_type": "stream",
     "text": [
      "\u001b[32m[I 2021-06-19 00:13:16,009]\u001b[0m Trial 68 pruned. Trial was pruned at iteration 5.\u001b[0m\n"
     ]
    },
    {
     "name": "stdout",
     "output_type": "stream",
     "text": [
      "[00:13:16] WARNING: C:/Users/Administrator/workspace/xgboost-win64_release_1.4.0/src/learner.cc:573: \n",
      "Parameters: { \"n_estimators\" } might not be used.\n",
      "\n",
      "  This may not be accurate due to some parameters are only used in language bindings but\n",
      "  passed down to XGBoost core.  Or some parameters are not used but slip through this\n",
      "  verification. Please open an issue if you find above cases.\n",
      "\n",
      "\n",
      "[0]\tvalidation-rmse:8.09108\n",
      "[1]\tvalidation-rmse:5.67541\n",
      "[2]\tvalidation-rmse:3.98384\n",
      "[3]\tvalidation-rmse:2.80147\n",
      "[4]\tvalidation-rmse:1.97734\n"
     ]
    },
    {
     "name": "stderr",
     "output_type": "stream",
     "text": [
      "\u001b[32m[I 2021-06-19 00:13:16,073]\u001b[0m Trial 69 pruned. Trial was pruned at iteration 5.\u001b[0m\n"
     ]
    },
    {
     "name": "stdout",
     "output_type": "stream",
     "text": [
      "[00:13:16] WARNING: C:/Users/Administrator/workspace/xgboost-win64_release_1.4.0/src/learner.cc:573: \n",
      "Parameters: { \"n_estimators\" } might not be used.\n",
      "\n",
      "  This may not be accurate due to some parameters are only used in language bindings but\n",
      "  passed down to XGBoost core.  Or some parameters are not used but slip through this\n",
      "  verification. Please open an issue if you find above cases.\n",
      "\n",
      "\n",
      "[0]\tvalidation-rmse:8.09108\n",
      "[1]\tvalidation-rmse:5.67541\n",
      "[2]\tvalidation-rmse:3.98384\n",
      "[3]\tvalidation-rmse:2.80147\n",
      "[4]\tvalidation-rmse:1.97734\n",
      "[5]\tvalidation-rmse:1.39641\n"
     ]
    },
    {
     "name": "stderr",
     "output_type": "stream",
     "text": [
      "\u001b[32m[I 2021-06-19 00:13:16,137]\u001b[0m Trial 70 pruned. Trial was pruned at iteration 5.\u001b[0m\n"
     ]
    },
    {
     "name": "stdout",
     "output_type": "stream",
     "text": [
      "[00:13:16] WARNING: C:/Users/Administrator/workspace/xgboost-win64_release_1.4.0/src/learner.cc:573: \n",
      "Parameters: { \"n_estimators\" } might not be used.\n",
      "\n",
      "  This may not be accurate due to some parameters are only used in language bindings but\n",
      "  passed down to XGBoost core.  Or some parameters are not used but slip through this\n",
      "  verification. Please open an issue if you find above cases.\n",
      "\n",
      "\n",
      "[0]\tvalidation-rmse:8.09108\n",
      "[1]\tvalidation-rmse:5.67541\n",
      "[2]\tvalidation-rmse:3.98384\n",
      "[3]\tvalidation-rmse:2.80147\n",
      "[4]\tvalidation-rmse:1.97734\n"
     ]
    },
    {
     "name": "stderr",
     "output_type": "stream",
     "text": [
      "\u001b[32m[I 2021-06-19 00:13:16,196]\u001b[0m Trial 71 pruned. Trial was pruned at iteration 5.\u001b[0m\n"
     ]
    },
    {
     "name": "stdout",
     "output_type": "stream",
     "text": [
      "[00:13:16] WARNING: C:/Users/Administrator/workspace/xgboost-win64_release_1.4.0/src/learner.cc:573: \n",
      "Parameters: { \"n_estimators\" } might not be used.\n",
      "\n",
      "  This may not be accurate due to some parameters are only used in language bindings but\n",
      "  passed down to XGBoost core.  Or some parameters are not used but slip through this\n",
      "  verification. Please open an issue if you find above cases.\n",
      "\n",
      "\n",
      "[0]\tvalidation-rmse:8.09108\n",
      "[1]\tvalidation-rmse:5.67541\n",
      "[2]\tvalidation-rmse:3.98384\n",
      "[3]\tvalidation-rmse:2.80147\n",
      "[4]\tvalidation-rmse:1.97734\n",
      "[5]\tvalidation-rmse:1.39589\n",
      "[6]\tvalidation-rmse:0.98844\n",
      "[7]\tvalidation-rmse:0.70867\n",
      "[8]\tvalidation-rmse:0.51631\n",
      "[9]\tvalidation-rmse:0.38524\n"
     ]
    },
    {
     "name": "stderr",
     "output_type": "stream",
     "text": [
      "\u001b[32m[I 2021-06-19 00:13:16,302]\u001b[0m Trial 72 finished with value: 0.385240763425827 and parameters: {'rf_n_estimators': 673, 'rf_max_depth': 3}. Best is trial 7 with value: 0.385240763425827.\u001b[0m\n"
     ]
    },
    {
     "name": "stdout",
     "output_type": "stream",
     "text": [
      "[00:13:16] WARNING: C:/Users/Administrator/workspace/xgboost-win64_release_1.4.0/src/learner.cc:573: \n",
      "Parameters: { \"n_estimators\" } might not be used.\n",
      "\n",
      "  This may not be accurate due to some parameters are only used in language bindings but\n",
      "  passed down to XGBoost core.  Or some parameters are not used but slip through this\n",
      "  verification. Please open an issue if you find above cases.\n",
      "\n",
      "\n",
      "[0]\tvalidation-rmse:8.09108\n",
      "[1]\tvalidation-rmse:5.67541\n",
      "[2]\tvalidation-rmse:3.98384\n",
      "[3]\tvalidation-rmse:2.80147\n",
      "[4]\tvalidation-rmse:1.97734\n",
      "[5]\tvalidation-rmse:1.39589\n",
      "[6]\tvalidation-rmse:0.98844\n",
      "[7]\tvalidation-rmse:0.70867\n",
      "[8]\tvalidation-rmse:0.51631\n",
      "[9]\tvalidation-rmse:0.38524\n"
     ]
    },
    {
     "name": "stderr",
     "output_type": "stream",
     "text": [
      "\u001b[32m[I 2021-06-19 00:13:16,403]\u001b[0m Trial 73 finished with value: 0.3856247663497925 and parameters: {'rf_n_estimators': 659, 'rf_max_depth': 3}. Best is trial 7 with value: 0.385240763425827.\u001b[0m\n"
     ]
    },
    {
     "name": "stdout",
     "output_type": "stream",
     "text": [
      "[00:13:16] WARNING: C:/Users/Administrator/workspace/xgboost-win64_release_1.4.0/src/learner.cc:573: \n",
      "Parameters: { \"n_estimators\" } might not be used.\n",
      "\n",
      "  This may not be accurate due to some parameters are only used in language bindings but\n",
      "  passed down to XGBoost core.  Or some parameters are not used but slip through this\n",
      "  verification. Please open an issue if you find above cases.\n",
      "\n",
      "\n",
      "[0]\tvalidation-rmse:8.09108\n",
      "[1]\tvalidation-rmse:5.67541\n",
      "[2]\tvalidation-rmse:3.98384\n",
      "[3]\tvalidation-rmse:2.80147\n",
      "[4]\tvalidation-rmse:1.97734\n",
      "[5]\tvalidation-rmse:1.39589\n",
      "[6]\tvalidation-rmse:0.98914\n"
     ]
    },
    {
     "name": "stderr",
     "output_type": "stream",
     "text": [
      "\u001b[32m[I 2021-06-19 00:13:16,475]\u001b[0m Trial 74 pruned. Trial was pruned at iteration 6.\u001b[0m\n"
     ]
    },
    {
     "name": "stdout",
     "output_type": "stream",
     "text": [
      "[00:13:16] WARNING: C:/Users/Administrator/workspace/xgboost-win64_release_1.4.0/src/learner.cc:573: \n",
      "Parameters: { \"n_estimators\" } might not be used.\n",
      "\n",
      "  This may not be accurate due to some parameters are only used in language bindings but\n",
      "  passed down to XGBoost core.  Or some parameters are not used but slip through this\n",
      "  verification. Please open an issue if you find above cases.\n",
      "\n",
      "\n",
      "[0]\tvalidation-rmse:8.09108\n",
      "[1]\tvalidation-rmse:5.67541\n",
      "[2]\tvalidation-rmse:3.98384\n",
      "[3]\tvalidation-rmse:2.80147\n",
      "[4]\tvalidation-rmse:1.97734\n",
      "[5]\tvalidation-rmse:1.39589\n",
      "[6]\tvalidation-rmse:0.98844\n",
      "[7]\tvalidation-rmse:0.70867\n",
      "[8]\tvalidation-rmse:0.51631\n",
      "[9]\tvalidation-rmse:0.38524\n"
     ]
    },
    {
     "name": "stderr",
     "output_type": "stream",
     "text": [
      "\u001b[32m[I 2021-06-19 00:13:16,578]\u001b[0m Trial 75 finished with value: 0.385240763425827 and parameters: {'rf_n_estimators': 380, 'rf_max_depth': 3}. Best is trial 7 with value: 0.385240763425827.\u001b[0m\n"
     ]
    },
    {
     "name": "stdout",
     "output_type": "stream",
     "text": [
      "[00:13:16] WARNING: C:/Users/Administrator/workspace/xgboost-win64_release_1.4.0/src/learner.cc:573: \n",
      "Parameters: { \"n_estimators\" } might not be used.\n",
      "\n",
      "  This may not be accurate due to some parameters are only used in language bindings but\n",
      "  passed down to XGBoost core.  Or some parameters are not used but slip through this\n",
      "  verification. Please open an issue if you find above cases.\n",
      "\n",
      "\n",
      "[0]\tvalidation-rmse:8.09108\n",
      "[1]\tvalidation-rmse:5.67541\n",
      "[2]\tvalidation-rmse:3.98384\n",
      "[3]\tvalidation-rmse:2.80147\n",
      "[4]\tvalidation-rmse:1.97734\n",
      "[5]\tvalidation-rmse:1.39589\n",
      "[6]\tvalidation-rmse:0.98844\n",
      "[7]\tvalidation-rmse:0.70867\n",
      "[8]\tvalidation-rmse:0.51631\n",
      "[9]\tvalidation-rmse:0.38524\n"
     ]
    },
    {
     "name": "stderr",
     "output_type": "stream",
     "text": [
      "\u001b[32m[I 2021-06-19 00:13:16,683]\u001b[0m Trial 76 finished with value: 0.385240763425827 and parameters: {'rf_n_estimators': 450, 'rf_max_depth': 3}. Best is trial 7 with value: 0.385240763425827.\u001b[0m\n"
     ]
    },
    {
     "name": "stdout",
     "output_type": "stream",
     "text": [
      "[00:13:16] WARNING: C:/Users/Administrator/workspace/xgboost-win64_release_1.4.0/src/learner.cc:573: \n",
      "Parameters: { \"n_estimators\" } might not be used.\n",
      "\n",
      "  This may not be accurate due to some parameters are only used in language bindings but\n",
      "  passed down to XGBoost core.  Or some parameters are not used but slip through this\n",
      "  verification. Please open an issue if you find above cases.\n",
      "\n",
      "\n",
      "[0]\tvalidation-rmse:8.09108\n",
      "[1]\tvalidation-rmse:5.67541\n",
      "[2]\tvalidation-rmse:3.98384\n",
      "[3]\tvalidation-rmse:2.80147\n",
      "[4]\tvalidation-rmse:1.97734\n",
      "[5]\tvalidation-rmse:1.39641\n"
     ]
    },
    {
     "name": "stderr",
     "output_type": "stream",
     "text": [
      "\u001b[32m[I 2021-06-19 00:13:16,741]\u001b[0m Trial 77 pruned. Trial was pruned at iteration 5.\u001b[0m\n"
     ]
    },
    {
     "name": "stdout",
     "output_type": "stream",
     "text": [
      "[00:13:16] WARNING: C:/Users/Administrator/workspace/xgboost-win64_release_1.4.0/src/learner.cc:573: \n",
      "Parameters: { \"n_estimators\" } might not be used.\n",
      "\n",
      "  This may not be accurate due to some parameters are only used in language bindings but\n",
      "  passed down to XGBoost core.  Or some parameters are not used but slip through this\n",
      "  verification. Please open an issue if you find above cases.\n",
      "\n",
      "\n",
      "[0]\tvalidation-rmse:8.09108\n",
      "[1]\tvalidation-rmse:5.67541\n",
      "[2]\tvalidation-rmse:3.98384\n",
      "[3]\tvalidation-rmse:2.80147\n",
      "[4]\tvalidation-rmse:1.97734\n",
      "[5]\tvalidation-rmse:1.39589\n",
      "[6]\tvalidation-rmse:0.98844\n",
      "[7]\tvalidation-rmse:0.70867\n",
      "[8]\tvalidation-rmse:0.51631\n",
      "[9]\tvalidation-rmse:0.38524\n"
     ]
    },
    {
     "name": "stderr",
     "output_type": "stream",
     "text": [
      "\u001b[32m[I 2021-06-19 00:13:16,843]\u001b[0m Trial 78 finished with value: 0.385240763425827 and parameters: {'rf_n_estimators': 422, 'rf_max_depth': 3}. Best is trial 7 with value: 0.385240763425827.\u001b[0m\n"
     ]
    },
    {
     "name": "stdout",
     "output_type": "stream",
     "text": [
      "[00:13:16] WARNING: C:/Users/Administrator/workspace/xgboost-win64_release_1.4.0/src/learner.cc:573: \n",
      "Parameters: { \"n_estimators\" } might not be used.\n",
      "\n",
      "  This may not be accurate due to some parameters are only used in language bindings but\n",
      "  passed down to XGBoost core.  Or some parameters are not used but slip through this\n",
      "  verification. Please open an issue if you find above cases.\n",
      "\n",
      "\n",
      "[0]\tvalidation-rmse:8.09108\n",
      "[1]\tvalidation-rmse:5.67541\n",
      "[2]\tvalidation-rmse:3.98384\n",
      "[3]\tvalidation-rmse:2.80147\n",
      "[4]\tvalidation-rmse:1.97734\n"
     ]
    },
    {
     "name": "stderr",
     "output_type": "stream",
     "text": [
      "\u001b[32m[I 2021-06-19 00:13:16,905]\u001b[0m Trial 79 pruned. Trial was pruned at iteration 5.\u001b[0m\n"
     ]
    },
    {
     "name": "stdout",
     "output_type": "stream",
     "text": [
      "[00:13:16] WARNING: C:/Users/Administrator/workspace/xgboost-win64_release_1.4.0/src/learner.cc:573: \n",
      "Parameters: { \"n_estimators\" } might not be used.\n",
      "\n",
      "  This may not be accurate due to some parameters are only used in language bindings but\n",
      "  passed down to XGBoost core.  Or some parameters are not used but slip through this\n",
      "  verification. Please open an issue if you find above cases.\n",
      "\n",
      "\n",
      "[0]\tvalidation-rmse:8.09108\n",
      "[1]\tvalidation-rmse:5.67541\n",
      "[2]\tvalidation-rmse:3.98384\n",
      "[3]\tvalidation-rmse:2.80147\n",
      "[4]\tvalidation-rmse:1.97734\n",
      "[5]\tvalidation-rmse:1.39641\n"
     ]
    },
    {
     "name": "stderr",
     "output_type": "stream",
     "text": [
      "\u001b[32m[I 2021-06-19 00:13:16,966]\u001b[0m Trial 80 pruned. Trial was pruned at iteration 5.\u001b[0m\n"
     ]
    },
    {
     "name": "stdout",
     "output_type": "stream",
     "text": [
      "[00:13:16] WARNING: C:/Users/Administrator/workspace/xgboost-win64_release_1.4.0/src/learner.cc:573: \n",
      "Parameters: { \"n_estimators\" } might not be used.\n",
      "\n",
      "  This may not be accurate due to some parameters are only used in language bindings but\n",
      "  passed down to XGBoost core.  Or some parameters are not used but slip through this\n",
      "  verification. Please open an issue if you find above cases.\n",
      "\n",
      "\n",
      "[0]\tvalidation-rmse:8.09108\n",
      "[1]\tvalidation-rmse:5.67541\n",
      "[2]\tvalidation-rmse:3.98384\n",
      "[3]\tvalidation-rmse:2.80147\n",
      "[4]\tvalidation-rmse:1.97734\n",
      "[5]\tvalidation-rmse:1.39641\n"
     ]
    },
    {
     "name": "stderr",
     "output_type": "stream",
     "text": [
      "\u001b[32m[I 2021-06-19 00:13:17,027]\u001b[0m Trial 81 pruned. Trial was pruned at iteration 5.\u001b[0m\n"
     ]
    },
    {
     "name": "stdout",
     "output_type": "stream",
     "text": [
      "[00:13:17] WARNING: C:/Users/Administrator/workspace/xgboost-win64_release_1.4.0/src/learner.cc:573: \n",
      "Parameters: { \"n_estimators\" } might not be used.\n",
      "\n",
      "  This may not be accurate due to some parameters are only used in language bindings but\n",
      "  passed down to XGBoost core.  Or some parameters are not used but slip through this\n",
      "  verification. Please open an issue if you find above cases.\n",
      "\n",
      "\n",
      "[0]\tvalidation-rmse:8.09108\n",
      "[1]\tvalidation-rmse:5.67541\n",
      "[2]\tvalidation-rmse:3.98384\n",
      "[3]\tvalidation-rmse:2.80147\n",
      "[4]\tvalidation-rmse:1.97734\n",
      "[5]\tvalidation-rmse:1.39641\n"
     ]
    },
    {
     "name": "stderr",
     "output_type": "stream",
     "text": [
      "\u001b[32m[I 2021-06-19 00:13:17,089]\u001b[0m Trial 82 pruned. Trial was pruned at iteration 5.\u001b[0m\n"
     ]
    },
    {
     "name": "stdout",
     "output_type": "stream",
     "text": [
      "[00:13:17] WARNING: C:/Users/Administrator/workspace/xgboost-win64_release_1.4.0/src/learner.cc:573: \n",
      "Parameters: { \"n_estimators\" } might not be used.\n",
      "\n",
      "  This may not be accurate due to some parameters are only used in language bindings but\n",
      "  passed down to XGBoost core.  Or some parameters are not used but slip through this\n",
      "  verification. Please open an issue if you find above cases.\n",
      "\n",
      "\n",
      "[0]\tvalidation-rmse:8.09108\n",
      "[1]\tvalidation-rmse:5.67541\n",
      "[2]\tvalidation-rmse:3.98384\n",
      "[3]\tvalidation-rmse:2.80147\n",
      "[4]\tvalidation-rmse:1.97734\n",
      "[5]\tvalidation-rmse:1.39589\n",
      "[6]\tvalidation-rmse:0.98844\n",
      "[7]\tvalidation-rmse:0.70867\n",
      "[8]\tvalidation-rmse:0.51631\n",
      "[9]\tvalidation-rmse:0.38524\n"
     ]
    },
    {
     "name": "stderr",
     "output_type": "stream",
     "text": [
      "\u001b[32m[I 2021-06-19 00:13:17,198]\u001b[0m Trial 83 finished with value: 0.385240763425827 and parameters: {'rf_n_estimators': 331, 'rf_max_depth': 3}. Best is trial 7 with value: 0.385240763425827.\u001b[0m\n"
     ]
    },
    {
     "name": "stdout",
     "output_type": "stream",
     "text": [
      "[00:13:17] WARNING: C:/Users/Administrator/workspace/xgboost-win64_release_1.4.0/src/learner.cc:573: \n",
      "Parameters: { \"n_estimators\" } might not be used.\n",
      "\n",
      "  This may not be accurate due to some parameters are only used in language bindings but\n",
      "  passed down to XGBoost core.  Or some parameters are not used but slip through this\n",
      "  verification. Please open an issue if you find above cases.\n",
      "\n",
      "\n",
      "[0]\tvalidation-rmse:8.09108\n",
      "[1]\tvalidation-rmse:5.67541\n",
      "[2]\tvalidation-rmse:3.98384\n",
      "[3]\tvalidation-rmse:2.80147\n",
      "[4]\tvalidation-rmse:1.97734\n",
      "[5]\tvalidation-rmse:1.39589\n",
      "[6]\tvalidation-rmse:0.98844\n",
      "[7]\tvalidation-rmse:0.70867\n",
      "[8]\tvalidation-rmse:0.51631\n",
      "[9]\tvalidation-rmse:0.38524\n"
     ]
    },
    {
     "name": "stderr",
     "output_type": "stream",
     "text": [
      "\u001b[32m[I 2021-06-19 00:13:17,308]\u001b[0m Trial 84 finished with value: 0.385240763425827 and parameters: {'rf_n_estimators': 342, 'rf_max_depth': 3}. Best is trial 7 with value: 0.385240763425827.\u001b[0m\n"
     ]
    },
    {
     "name": "stdout",
     "output_type": "stream",
     "text": [
      "[00:13:17] WARNING: C:/Users/Administrator/workspace/xgboost-win64_release_1.4.0/src/learner.cc:573: \n",
      "Parameters: { \"n_estimators\" } might not be used.\n",
      "\n",
      "  This may not be accurate due to some parameters are only used in language bindings but\n",
      "  passed down to XGBoost core.  Or some parameters are not used but slip through this\n",
      "  verification. Please open an issue if you find above cases.\n",
      "\n",
      "\n",
      "[0]\tvalidation-rmse:8.09108\n",
      "[1]\tvalidation-rmse:5.67541\n",
      "[2]\tvalidation-rmse:3.98384\n",
      "[3]\tvalidation-rmse:2.80147\n",
      "[4]\tvalidation-rmse:1.97734\n",
      "[5]\tvalidation-rmse:1.39641\n"
     ]
    },
    {
     "name": "stderr",
     "output_type": "stream",
     "text": [
      "\u001b[32m[I 2021-06-19 00:13:17,376]\u001b[0m Trial 85 pruned. Trial was pruned at iteration 5.\u001b[0m\n"
     ]
    },
    {
     "name": "stdout",
     "output_type": "stream",
     "text": [
      "[00:13:17] WARNING: C:/Users/Administrator/workspace/xgboost-win64_release_1.4.0/src/learner.cc:573: \n",
      "Parameters: { \"n_estimators\" } might not be used.\n",
      "\n",
      "  This may not be accurate due to some parameters are only used in language bindings but\n",
      "  passed down to XGBoost core.  Or some parameters are not used but slip through this\n",
      "  verification. Please open an issue if you find above cases.\n",
      "\n",
      "\n",
      "[0]\tvalidation-rmse:8.09108\n",
      "[1]\tvalidation-rmse:5.67541\n",
      "[2]\tvalidation-rmse:3.98384\n",
      "[3]\tvalidation-rmse:2.80147\n",
      "[4]\tvalidation-rmse:1.97734\n",
      "[5]\tvalidation-rmse:1.39589\n",
      "[6]\tvalidation-rmse:0.98844\n",
      "[7]\tvalidation-rmse:0.70867\n",
      "[8]\tvalidation-rmse:0.51631\n",
      "[9]\tvalidation-rmse:0.38524\n"
     ]
    },
    {
     "name": "stderr",
     "output_type": "stream",
     "text": [
      "\u001b[32m[I 2021-06-19 00:13:17,487]\u001b[0m Trial 86 finished with value: 0.385240763425827 and parameters: {'rf_n_estimators': 379, 'rf_max_depth': 3}. Best is trial 7 with value: 0.385240763425827.\u001b[0m\n"
     ]
    },
    {
     "name": "stdout",
     "output_type": "stream",
     "text": [
      "[00:13:17] WARNING: C:/Users/Administrator/workspace/xgboost-win64_release_1.4.0/src/learner.cc:573: \n",
      "Parameters: { \"n_estimators\" } might not be used.\n",
      "\n",
      "  This may not be accurate due to some parameters are only used in language bindings but\n",
      "  passed down to XGBoost core.  Or some parameters are not used but slip through this\n",
      "  verification. Please open an issue if you find above cases.\n",
      "\n",
      "\n",
      "[0]\tvalidation-rmse:8.09108\n",
      "[1]\tvalidation-rmse:5.67541\n",
      "[2]\tvalidation-rmse:3.98384\n",
      "[3]\tvalidation-rmse:2.80147\n",
      "[4]\tvalidation-rmse:1.97734\n",
      "[5]\tvalidation-rmse:1.39589\n",
      "[6]\tvalidation-rmse:0.98844\n",
      "[7]\tvalidation-rmse:0.70867\n",
      "[8]\tvalidation-rmse:0.51631\n",
      "[9]\tvalidation-rmse:0.38524\n"
     ]
    },
    {
     "name": "stderr",
     "output_type": "stream",
     "text": [
      "\u001b[32m[I 2021-06-19 00:13:17,591]\u001b[0m Trial 87 finished with value: 0.385240763425827 and parameters: {'rf_n_estimators': 387, 'rf_max_depth': 3}. Best is trial 7 with value: 0.385240763425827.\u001b[0m\n"
     ]
    },
    {
     "name": "stdout",
     "output_type": "stream",
     "text": [
      "[00:13:17] WARNING: C:/Users/Administrator/workspace/xgboost-win64_release_1.4.0/src/learner.cc:573: \n",
      "Parameters: { \"n_estimators\" } might not be used.\n",
      "\n",
      "  This may not be accurate due to some parameters are only used in language bindings but\n",
      "  passed down to XGBoost core.  Or some parameters are not used but slip through this\n",
      "  verification. Please open an issue if you find above cases.\n",
      "\n",
      "\n",
      "[0]\tvalidation-rmse:8.09108\n",
      "[1]\tvalidation-rmse:5.67541\n",
      "[2]\tvalidation-rmse:3.98384\n",
      "[3]\tvalidation-rmse:2.80147\n",
      "[4]\tvalidation-rmse:1.97734\n",
      "[5]\tvalidation-rmse:1.39589\n",
      "[6]\tvalidation-rmse:0.98844\n",
      "[7]\tvalidation-rmse:0.70867\n",
      "[8]\tvalidation-rmse:0.51631\n",
      "[9]\tvalidation-rmse:0.38524\n"
     ]
    },
    {
     "name": "stderr",
     "output_type": "stream",
     "text": [
      "\u001b[32m[I 2021-06-19 00:13:17,699]\u001b[0m Trial 88 finished with value: 0.385240763425827 and parameters: {'rf_n_estimators': 409, 'rf_max_depth': 3}. Best is trial 7 with value: 0.385240763425827.\u001b[0m\n"
     ]
    },
    {
     "name": "stdout",
     "output_type": "stream",
     "text": [
      "[00:13:17] WARNING: C:/Users/Administrator/workspace/xgboost-win64_release_1.4.0/src/learner.cc:573: \n",
      "Parameters: { \"n_estimators\" } might not be used.\n",
      "\n",
      "  This may not be accurate due to some parameters are only used in language bindings but\n",
      "  passed down to XGBoost core.  Or some parameters are not used but slip through this\n",
      "  verification. Please open an issue if you find above cases.\n",
      "\n",
      "\n",
      "[0]\tvalidation-rmse:8.09108\n",
      "[1]\tvalidation-rmse:5.67541\n",
      "[2]\tvalidation-rmse:3.98384\n",
      "[3]\tvalidation-rmse:2.80147\n",
      "[4]\tvalidation-rmse:1.97734\n",
      "[5]\tvalidation-rmse:1.39589\n",
      "[6]\tvalidation-rmse:0.98844\n",
      "[7]\tvalidation-rmse:0.70867\n",
      "[8]\tvalidation-rmse:0.51631\n",
      "[9]\tvalidation-rmse:0.38524\n"
     ]
    },
    {
     "name": "stderr",
     "output_type": "stream",
     "text": [
      "\u001b[32m[I 2021-06-19 00:13:17,838]\u001b[0m Trial 89 finished with value: 0.385240763425827 and parameters: {'rf_n_estimators': 467, 'rf_max_depth': 3}. Best is trial 7 with value: 0.385240763425827.\u001b[0m\n"
     ]
    },
    {
     "name": "stdout",
     "output_type": "stream",
     "text": [
      "[00:13:17] WARNING: C:/Users/Administrator/workspace/xgboost-win64_release_1.4.0/src/learner.cc:573: \n",
      "Parameters: { \"n_estimators\" } might not be used.\n",
      "\n",
      "  This may not be accurate due to some parameters are only used in language bindings but\n",
      "  passed down to XGBoost core.  Or some parameters are not used but slip through this\n",
      "  verification. Please open an issue if you find above cases.\n",
      "\n",
      "\n",
      "[0]\tvalidation-rmse:8.09108\n",
      "[1]\tvalidation-rmse:5.67541\n",
      "[2]\tvalidation-rmse:3.98384\n",
      "[3]\tvalidation-rmse:2.80147\n",
      "[4]\tvalidation-rmse:1.97734\n",
      "[5]\tvalidation-rmse:1.39589\n",
      "[6]\tvalidation-rmse:0.98844\n",
      "[7]\tvalidation-rmse:0.70867\n",
      "[8]\tvalidation-rmse:0.51631\n",
      "[9]\tvalidation-rmse:0.38524\n"
     ]
    },
    {
     "name": "stderr",
     "output_type": "stream",
     "text": [
      "\u001b[32m[I 2021-06-19 00:13:17,949]\u001b[0m Trial 90 finished with value: 0.385240763425827 and parameters: {'rf_n_estimators': 463, 'rf_max_depth': 3}. Best is trial 7 with value: 0.385240763425827.\u001b[0m\n"
     ]
    },
    {
     "name": "stdout",
     "output_type": "stream",
     "text": [
      "[00:13:17] WARNING: C:/Users/Administrator/workspace/xgboost-win64_release_1.4.0/src/learner.cc:573: \n",
      "Parameters: { \"n_estimators\" } might not be used.\n",
      "\n",
      "  This may not be accurate due to some parameters are only used in language bindings but\n",
      "  passed down to XGBoost core.  Or some parameters are not used but slip through this\n",
      "  verification. Please open an issue if you find above cases.\n",
      "\n",
      "\n",
      "[0]\tvalidation-rmse:8.09108\n",
      "[1]\tvalidation-rmse:5.67541\n",
      "[2]\tvalidation-rmse:3.98384\n",
      "[3]\tvalidation-rmse:2.80147\n",
      "[4]\tvalidation-rmse:1.97734\n",
      "[5]\tvalidation-rmse:1.39589\n",
      "[6]\tvalidation-rmse:0.98844\n",
      "[7]\tvalidation-rmse:0.70867\n",
      "[8]\tvalidation-rmse:0.51631\n",
      "[9]\tvalidation-rmse:0.38524\n"
     ]
    },
    {
     "name": "stderr",
     "output_type": "stream",
     "text": [
      "\u001b[32m[I 2021-06-19 00:13:18,046]\u001b[0m Trial 91 finished with value: 0.385240763425827 and parameters: {'rf_n_estimators': 853, 'rf_max_depth': 3}. Best is trial 7 with value: 0.385240763425827.\u001b[0m\n"
     ]
    },
    {
     "name": "stdout",
     "output_type": "stream",
     "text": [
      "[00:13:18] WARNING: C:/Users/Administrator/workspace/xgboost-win64_release_1.4.0/src/learner.cc:573: \n",
      "Parameters: { \"n_estimators\" } might not be used.\n",
      "\n",
      "  This may not be accurate due to some parameters are only used in language bindings but\n",
      "  passed down to XGBoost core.  Or some parameters are not used but slip through this\n",
      "  verification. Please open an issue if you find above cases.\n",
      "\n",
      "\n",
      "[0]\tvalidation-rmse:8.09108\n",
      "[1]\tvalidation-rmse:5.67541\n",
      "[2]\tvalidation-rmse:3.98384\n",
      "[3]\tvalidation-rmse:2.80147\n",
      "[4]\tvalidation-rmse:1.97734\n",
      "[5]\tvalidation-rmse:1.39589\n",
      "[6]\tvalidation-rmse:0.98844\n",
      "[7]\tvalidation-rmse:0.70867\n",
      "[8]\tvalidation-rmse:0.51631\n",
      "[9]\tvalidation-rmse:0.38524\n"
     ]
    },
    {
     "name": "stderr",
     "output_type": "stream",
     "text": [
      "\u001b[32m[I 2021-06-19 00:13:18,148]\u001b[0m Trial 92 finished with value: 0.385240763425827 and parameters: {'rf_n_estimators': 277, 'rf_max_depth': 3}. Best is trial 7 with value: 0.385240763425827.\u001b[0m\n"
     ]
    },
    {
     "name": "stdout",
     "output_type": "stream",
     "text": [
      "[00:13:18] WARNING: C:/Users/Administrator/workspace/xgboost-win64_release_1.4.0/src/learner.cc:573: \n",
      "Parameters: { \"n_estimators\" } might not be used.\n",
      "\n",
      "  This may not be accurate due to some parameters are only used in language bindings but\n",
      "  passed down to XGBoost core.  Or some parameters are not used but slip through this\n",
      "  verification. Please open an issue if you find above cases.\n",
      "\n",
      "\n",
      "[0]\tvalidation-rmse:8.09108\n",
      "[1]\tvalidation-rmse:5.67541\n",
      "[2]\tvalidation-rmse:3.98384\n",
      "[3]\tvalidation-rmse:2.80147\n",
      "[4]\tvalidation-rmse:1.97734\n",
      "[5]\tvalidation-rmse:1.39589\n",
      "[6]\tvalidation-rmse:0.98844\n",
      "[7]\tvalidation-rmse:0.70867\n",
      "[8]\tvalidation-rmse:0.51631\n",
      "[9]\tvalidation-rmse:0.38524\n"
     ]
    },
    {
     "name": "stderr",
     "output_type": "stream",
     "text": [
      "\u001b[32m[I 2021-06-19 00:13:18,250]\u001b[0m Trial 93 finished with value: 0.385240763425827 and parameters: {'rf_n_estimators': 279, 'rf_max_depth': 3}. Best is trial 7 with value: 0.385240763425827.\u001b[0m\n"
     ]
    },
    {
     "name": "stdout",
     "output_type": "stream",
     "text": [
      "[00:13:18] WARNING: C:/Users/Administrator/workspace/xgboost-win64_release_1.4.0/src/learner.cc:573: \n",
      "Parameters: { \"n_estimators\" } might not be used.\n",
      "\n",
      "  This may not be accurate due to some parameters are only used in language bindings but\n",
      "  passed down to XGBoost core.  Or some parameters are not used but slip through this\n",
      "  verification. Please open an issue if you find above cases.\n",
      "\n",
      "\n",
      "[0]\tvalidation-rmse:8.09108\n",
      "[1]\tvalidation-rmse:5.67541\n",
      "[2]\tvalidation-rmse:3.98384\n",
      "[3]\tvalidation-rmse:2.80147\n",
      "[4]\tvalidation-rmse:1.97734\n",
      "[5]\tvalidation-rmse:1.39589\n",
      "[6]\tvalidation-rmse:0.98844\n",
      "[7]\tvalidation-rmse:0.70867\n",
      "[8]\tvalidation-rmse:0.51631\n",
      "[9]\tvalidation-rmse:0.38524\n"
     ]
    },
    {
     "name": "stderr",
     "output_type": "stream",
     "text": [
      "\u001b[32m[I 2021-06-19 00:13:18,354]\u001b[0m Trial 94 finished with value: 0.385240763425827 and parameters: {'rf_n_estimators': 230, 'rf_max_depth': 3}. Best is trial 7 with value: 0.385240763425827.\u001b[0m\n"
     ]
    },
    {
     "name": "stdout",
     "output_type": "stream",
     "text": [
      "[00:13:18] WARNING: C:/Users/Administrator/workspace/xgboost-win64_release_1.4.0/src/learner.cc:573: \n",
      "Parameters: { \"n_estimators\" } might not be used.\n",
      "\n",
      "  This may not be accurate due to some parameters are only used in language bindings but\n",
      "  passed down to XGBoost core.  Or some parameters are not used but slip through this\n",
      "  verification. Please open an issue if you find above cases.\n",
      "\n",
      "\n",
      "[0]\tvalidation-rmse:8.09108\n",
      "[1]\tvalidation-rmse:5.67541\n",
      "[2]\tvalidation-rmse:3.98384\n",
      "[3]\tvalidation-rmse:2.80147\n",
      "[4]\tvalidation-rmse:1.97734\n",
      "[5]\tvalidation-rmse:1.39589\n",
      "[6]\tvalidation-rmse:0.98844\n",
      "[7]\tvalidation-rmse:0.70867\n",
      "[8]\tvalidation-rmse:0.51631\n",
      "[9]\tvalidation-rmse:0.38524\n"
     ]
    },
    {
     "name": "stderr",
     "output_type": "stream",
     "text": [
      "\u001b[32m[I 2021-06-19 00:13:18,457]\u001b[0m Trial 95 finished with value: 0.385240763425827 and parameters: {'rf_n_estimators': 174, 'rf_max_depth': 3}. Best is trial 7 with value: 0.385240763425827.\u001b[0m\n"
     ]
    },
    {
     "name": "stdout",
     "output_type": "stream",
     "text": [
      "[00:13:18] WARNING: C:/Users/Administrator/workspace/xgboost-win64_release_1.4.0/src/learner.cc:573: \n",
      "Parameters: { \"n_estimators\" } might not be used.\n",
      "\n",
      "  This may not be accurate due to some parameters are only used in language bindings but\n",
      "  passed down to XGBoost core.  Or some parameters are not used but slip through this\n",
      "  verification. Please open an issue if you find above cases.\n",
      "\n",
      "\n",
      "[0]\tvalidation-rmse:8.09108\n",
      "[1]\tvalidation-rmse:5.67541\n",
      "[2]\tvalidation-rmse:3.98384\n",
      "[3]\tvalidation-rmse:2.80147\n",
      "[4]\tvalidation-rmse:1.97734\n",
      "[5]\tvalidation-rmse:1.39589\n",
      "[6]\tvalidation-rmse:0.98844\n",
      "[7]\tvalidation-rmse:0.70867\n",
      "[8]\tvalidation-rmse:0.51631\n",
      "[9]\tvalidation-rmse:0.38524\n"
     ]
    },
    {
     "name": "stderr",
     "output_type": "stream",
     "text": [
      "\u001b[32m[I 2021-06-19 00:13:18,564]\u001b[0m Trial 96 finished with value: 0.385240763425827 and parameters: {'rf_n_estimators': 166, 'rf_max_depth': 3}. Best is trial 7 with value: 0.385240763425827.\u001b[0m\n"
     ]
    },
    {
     "name": "stdout",
     "output_type": "stream",
     "text": [
      "[00:13:18] WARNING: C:/Users/Administrator/workspace/xgboost-win64_release_1.4.0/src/learner.cc:573: \n",
      "Parameters: { \"n_estimators\" } might not be used.\n",
      "\n",
      "  This may not be accurate due to some parameters are only used in language bindings but\n",
      "  passed down to XGBoost core.  Or some parameters are not used but slip through this\n",
      "  verification. Please open an issue if you find above cases.\n",
      "\n",
      "\n",
      "[0]\tvalidation-rmse:8.09108\n",
      "[1]\tvalidation-rmse:5.67541\n",
      "[2]\tvalidation-rmse:3.98384\n",
      "[3]\tvalidation-rmse:2.80147\n",
      "[4]\tvalidation-rmse:1.97734\n",
      "[5]\tvalidation-rmse:1.39589\n",
      "[6]\tvalidation-rmse:0.98844\n",
      "[7]\tvalidation-rmse:0.70867\n",
      "[8]\tvalidation-rmse:0.51631\n",
      "[9]\tvalidation-rmse:0.38524\n"
     ]
    },
    {
     "name": "stderr",
     "output_type": "stream",
     "text": [
      "\u001b[32m[I 2021-06-19 00:13:18,673]\u001b[0m Trial 97 finished with value: 0.385240763425827 and parameters: {'rf_n_estimators': 46, 'rf_max_depth': 3}. Best is trial 7 with value: 0.385240763425827.\u001b[0m\n"
     ]
    },
    {
     "name": "stdout",
     "output_type": "stream",
     "text": [
      "[00:13:18] WARNING: C:/Users/Administrator/workspace/xgboost-win64_release_1.4.0/src/learner.cc:573: \n",
      "Parameters: { \"n_estimators\" } might not be used.\n",
      "\n",
      "  This may not be accurate due to some parameters are only used in language bindings but\n",
      "  passed down to XGBoost core.  Or some parameters are not used but slip through this\n",
      "  verification. Please open an issue if you find above cases.\n",
      "\n",
      "\n",
      "[0]\tvalidation-rmse:8.09108\n",
      "[1]\tvalidation-rmse:5.67541\n",
      "[2]\tvalidation-rmse:3.98384\n",
      "[3]\tvalidation-rmse:2.80147\n",
      "[4]\tvalidation-rmse:1.97734\n",
      "[5]\tvalidation-rmse:1.39589\n",
      "[6]\tvalidation-rmse:0.98844\n",
      "[7]\tvalidation-rmse:0.70867\n",
      "[8]\tvalidation-rmse:0.51631\n",
      "[9]\tvalidation-rmse:0.38524\n"
     ]
    },
    {
     "name": "stderr",
     "output_type": "stream",
     "text": [
      "\u001b[32m[I 2021-06-19 00:13:18,772]\u001b[0m Trial 98 finished with value: 0.385240763425827 and parameters: {'rf_n_estimators': 309, 'rf_max_depth': 3}. Best is trial 7 with value: 0.385240763425827.\u001b[0m\n"
     ]
    },
    {
     "name": "stdout",
     "output_type": "stream",
     "text": [
      "[00:13:18] WARNING: C:/Users/Administrator/workspace/xgboost-win64_release_1.4.0/src/learner.cc:573: \n",
      "Parameters: { \"n_estimators\" } might not be used.\n",
      "\n",
      "  This may not be accurate due to some parameters are only used in language bindings but\n",
      "  passed down to XGBoost core.  Or some parameters are not used but slip through this\n",
      "  verification. Please open an issue if you find above cases.\n",
      "\n",
      "\n",
      "[0]\tvalidation-rmse:8.09108\n",
      "[1]\tvalidation-rmse:5.67541\n",
      "[2]\tvalidation-rmse:3.98384\n",
      "[3]\tvalidation-rmse:2.80147\n",
      "[4]\tvalidation-rmse:1.97734\n",
      "[5]\tvalidation-rmse:1.39589\n",
      "[6]\tvalidation-rmse:0.98844\n",
      "[7]\tvalidation-rmse:0.70867\n",
      "[8]\tvalidation-rmse:0.51631\n",
      "[9]\tvalidation-rmse:0.38524\n"
     ]
    },
    {
     "name": "stderr",
     "output_type": "stream",
     "text": [
      "\u001b[32m[I 2021-06-19 00:13:18,872]\u001b[0m Trial 99 finished with value: 0.385240763425827 and parameters: {'rf_n_estimators': 74, 'rf_max_depth': 3}. Best is trial 7 with value: 0.385240763425827.\u001b[0m\n"
     ]
    },
    {
     "name": "stdout",
     "output_type": "stream",
     "text": [
      "RMSE: 0.385240763425827\n",
      "Best hyperparameters: {'rf_n_estimators': 900, 'rf_max_depth': 3}\n"
     ]
    },
    {
     "name": "stderr",
     "output_type": "stream",
     "text": [
      "4:1: E302 expected 2 blank lines, found 1\n",
      "16:80: E501 line too long (90 > 79 characters)\n",
      "21:80: E501 line too long (92 > 79 characters)\n",
      "23:1: W293 blank line contains whitespace\n"
     ]
    }
   ],
   "source": [
    "train1 = xgb.DMatrix(train.drop(columns=\"SalePrice\"), label=train.SalePrice)\n",
    "test1 = xgb.DMatrix(test.drop(columns=\"SalePrice\"), label=test.SalePrice)\n",
    "\n",
    "def objective(trial, train, test):\n",
    "\n",
    "    param = {\n",
    "        \"objective\": \"reg:squarederror\",\n",
    "        \"eval_metric\": \"rmse\",\n",
    "        \"n_estimators\": 10,\n",
    "        \"max_depth\": 2\n",
    "    }\n",
    "\n",
    "    param[\"n_estimators\"] = trial.suggest_int(\"n_estimators\", 10, 1000)\n",
    "    param[\"max_depth\"] = trial.suggest_int(\"max_depth\", 2, 32, log=True)\n",
    "\n",
    "    pruning_callback = optuna.integration.XGBoostPruningCallback(trial,\n",
    "                                                                 'validation-rmse')\n",
    "    bst = xgb.train(param, train1, evals=[(test1, 'validation')],\n",
    "                    callbacks=[pruning_callback], maximize=False)\n",
    "    preds = bst.predict(test1)\n",
    "\n",
    "    rmse_score = sklearn.metrics.mean_squared_error(test1.get_label(),\n",
    "                                                    preds, squared=False)\n",
    "    return rmse_score\n",
    "\n",
    "\n",
    "study = optuna.create_study(direction='minimize')\n",
    "study.optimize(lambda trial: objective(trial, train1, test1), n_trials=100)\n",
    "\n",
    "trial = study.best_trial\n",
    "\n",
    "print('RMSE: {}'.format(trial.value))\n",
    "print(\"Best hyperparameters: {}\".format(trial.params))"
   ]
  },
  {
   "cell_type": "code",
   "execution_count": 90,
   "metadata": {},
   "outputs": [
    {
     "name": "stdout",
     "output_type": "stream",
     "text": [
      "[00:19:32] WARNING: C:/Users/Administrator/workspace/xgboost-win64_release_1.4.0/src/learner.cc:573: \n",
      "Parameters: { \"n_estimators\" } might not be used.\n",
      "\n",
      "  This may not be accurate due to some parameters are only used in language bindings but\n",
      "  passed down to XGBoost core.  Or some parameters are not used but slip through this\n",
      "  verification. Please open an issue if you find above cases.\n",
      "\n",
      "\n"
     ]
    }
   ],
   "source": [
    "param = {\n",
    "        \"objective\": \"reg:squarederror\",\n",
    "        \"eval_metric\": \"rmse\",\n",
    "        \"n_estimators\": 900,\n",
    "        \"max_depth\": 3\n",
    "    }\n",
    "\n",
    "bst = xgb.train(param, train1)"
   ]
  },
  {
   "cell_type": "code",
   "execution_count": 93,
   "metadata": {
    "scrolled": true
   },
   "outputs": [
    {
     "data": {
      "text/plain": [
       "0.38524076"
      ]
     },
     "execution_count": 93,
     "metadata": {},
     "output_type": "execute_result"
    }
   ],
   "source": [
    "p = bst.predict(test1)\n",
    "sklearn.metrics.mean_squared_error(test1.get_label(), p, squared=False)"
   ]
  },
  {
   "cell_type": "code",
   "execution_count": 97,
   "metadata": {},
   "outputs": [],
   "source": [
    "imp = bst.get_score(importance_type='gain')"
   ]
  },
  {
   "cell_type": "code",
   "execution_count": 116,
   "metadata": {},
   "outputs": [],
   "source": [
    "imp_df = pd.DataFrame(list(zip(imp.values(), list(imp.keys()))),\n",
    "                      columns=[\"Importance\", \"Feature\"])"
   ]
  },
  {
   "cell_type": "code",
   "execution_count": 119,
   "metadata": {},
   "outputs": [
    {
     "data": {
      "text/plain": [
       "Text(0.5, 1.0, 'Variables les plus importantes')"
      ]
     },
     "execution_count": 119,
     "metadata": {},
     "output_type": "execute_result"
    },
    {
     "data": {
      "image/png": "[encoded data removed]",
      "text/plain": [
       "<Figure size 432x288 with 1 Axes>"
      ]
     },
     "metadata": {
      "needs_background": "light"
     },
     "output_type": "display_data"
    }
   ],
   "source": [
    "imp_df.sort_values(\"Importance\").set_index(\"Feature\")[0:20].plot(kind=\"barh\")\n",
    "plt.title(\"Variables les plus importantes\")"
   ]
  },
  {
   "cell_type": "code",
   "execution_count": 120,
   "metadata": {},
   "outputs": [],
   "source": [
    "newdata = pd.read_csv('newdata_transforme.csv', index_col=0)\n",
    "newdata['SalePrice'] = bst.predict(xgb.DMatrix(newdata))"
   ]
  },
  {
   "cell_type": "code",
   "execution_count": 122,
   "metadata": {},
   "outputs": [],
   "source": [
    "submission = pd.DataFrame(newdata[\"SalePrice\"])\n",
    "submission = np.exp(submission)\n",
    "submission.to_csv(\"submission.csv\")"
   ]
  },
  {
   "cell_type": "code",
   "execution_count": 76,
   "metadata": {},
   "outputs": [],
   "source": [
    "X = train.drop(columns=\"SalePrice\")\n",
    "y = train.SalePrice"
   ]
  },
  {
   "cell_type": "code",
   "execution_count": 147,
   "metadata": {},
   "outputs": [
    {
     "name": "stderr",
     "output_type": "stream",
     "text": [
      "\u001b[32m[I 2021-06-19 01:29:12,189]\u001b[0m A new study created in memory with name: no-name-aa1f591c-e3a9-4c69-9d9d-96b82d483cfb\u001b[0m\n",
      "\u001b[32m[I 2021-06-19 01:29:12,236]\u001b[0m Trial 0 finished with value: 0.3813921809196472 and parameters: {'max_depth': 2, 'max_features': 'sqrt', 'min_samples_split': 6, 'min_samples_leaf': 4, 'bootstrap': True}. Best is trial 0 with value: 0.3813921809196472.\u001b[0m\n",
      "\u001b[32m[I 2021-06-19 01:29:12,288]\u001b[0m Trial 1 finished with value: 0.3873077630996704 and parameters: {'max_depth': 21, 'max_features': 'auto', 'min_samples_split': 3, 'min_samples_leaf': 3, 'bootstrap': False}. Best is trial 0 with value: 0.3813921809196472.\u001b[0m\n",
      "\u001b[32m[I 2021-06-19 01:29:12,335]\u001b[0m Trial 2 finished with value: 0.3873077630996704 and parameters: {'max_depth': 23, 'max_features': 'auto', 'min_samples_split': 9, 'min_samples_leaf': 1, 'bootstrap': False}. Best is trial 0 with value: 0.3813921809196472.\u001b[0m\n",
      "\u001b[32m[I 2021-06-19 01:29:12,385]\u001b[0m Trial 3 finished with value: 0.3873077630996704 and parameters: {'max_depth': 17, 'max_features': 'auto', 'min_samples_split': 5, 'min_samples_leaf': 3, 'bootstrap': True}. Best is trial 0 with value: 0.3813921809196472.\u001b[0m\n",
      "\u001b[32m[I 2021-06-19 01:29:12,427]\u001b[0m Trial 4 finished with value: 0.3813921809196472 and parameters: {'max_depth': 2, 'max_features': 'sqrt', 'min_samples_split': 4, 'min_samples_leaf': 3, 'bootstrap': False}. Best is trial 0 with value: 0.3813921809196472.\u001b[0m\n",
      "\u001b[32m[I 2021-06-19 01:29:12,480]\u001b[0m Trial 5 finished with value: 0.3873077630996704 and parameters: {'max_depth': 9, 'max_features': 'auto', 'min_samples_split': 10, 'min_samples_leaf': 3, 'bootstrap': True}. Best is trial 0 with value: 0.3813921809196472.\u001b[0m\n",
      "\u001b[32m[I 2021-06-19 01:29:12,536]\u001b[0m Trial 6 finished with value: 0.3873077630996704 and parameters: {'max_depth': 29, 'max_features': 'sqrt', 'min_samples_split': 2, 'min_samples_leaf': 1, 'bootstrap': True}. Best is trial 0 with value: 0.3813921809196472.\u001b[0m\n",
      "\u001b[32m[I 2021-06-19 01:29:12,574]\u001b[0m Trial 7 pruned. Trial was pruned at iteration 8.\u001b[0m\n",
      "\u001b[32m[I 2021-06-19 01:29:12,623]\u001b[0m Trial 8 finished with value: 0.385240763425827 and parameters: {'max_depth': 3, 'max_features': 'auto', 'min_samples_split': 7, 'min_samples_leaf': 1, 'bootstrap': True}. Best is trial 0 with value: 0.3813921809196472.\u001b[0m\n",
      "\u001b[32m[I 2021-06-19 01:29:12,677]\u001b[0m Trial 9 finished with value: 0.3873077630996704 and parameters: {'max_depth': 16, 'max_features': 'sqrt', 'min_samples_split': 2, 'min_samples_leaf': 2, 'bootstrap': True}. Best is trial 0 with value: 0.3813921809196472.\u001b[0m\n",
      "\u001b[32m[I 2021-06-19 01:29:12,721]\u001b[0m Trial 10 pruned. Trial was pruned at iteration 5.\u001b[0m\n",
      "\u001b[32m[I 2021-06-19 01:29:12,768]\u001b[0m Trial 11 pruned. Trial was pruned at iteration 5.\u001b[0m\n",
      "\u001b[32m[I 2021-06-19 01:29:12,812]\u001b[0m Trial 12 pruned. Trial was pruned at iteration 5.\u001b[0m\n",
      "\u001b[32m[I 2021-06-19 01:29:12,883]\u001b[0m Trial 13 finished with value: 0.3859280049800873 and parameters: {'max_depth': 4, 'max_features': 'sqrt', 'min_samples_split': 6, 'min_samples_leaf': 4, 'bootstrap': False}. Best is trial 0 with value: 0.3813921809196472.\u001b[0m\n",
      "\u001b[32m[I 2021-06-19 01:29:12,935]\u001b[0m Trial 14 pruned. Trial was pruned at iteration 5.\u001b[0m\n",
      "\u001b[32m[I 2021-06-19 01:29:13,022]\u001b[0m Trial 15 finished with value: 0.385240763425827 and parameters: {'max_depth': 3, 'max_features': 'sqrt', 'min_samples_split': 6, 'min_samples_leaf': 4, 'bootstrap': False}. Best is trial 0 with value: 0.3813921809196472.\u001b[0m\n",
      "\u001b[32m[I 2021-06-19 01:29:13,110]\u001b[0m Trial 16 finished with value: 0.3871588110923767 and parameters: {'max_depth': 8, 'max_features': 'sqrt', 'min_samples_split': 5, 'min_samples_leaf': 2, 'bootstrap': False}. Best is trial 0 with value: 0.3813921809196472.\u001b[0m\n",
      "\u001b[32m[I 2021-06-19 01:29:13,214]\u001b[0m Trial 17 pruned. Trial was pruned at iteration 5.\u001b[0m\n",
      "\u001b[32m[I 2021-06-19 01:29:13,279]\u001b[0m Trial 18 pruned. Trial was pruned at iteration 5.\u001b[0m\n",
      "\u001b[32m[I 2021-06-19 01:29:13,373]\u001b[0m Trial 19 finished with value: 0.385240763425827 and parameters: {'max_depth': 3, 'max_features': 'sqrt', 'min_samples_split': 4, 'min_samples_leaf': 3, 'bootstrap': True}. Best is trial 0 with value: 0.3813921809196472.\u001b[0m\n",
      "\u001b[32m[I 2021-06-19 01:29:13,428]\u001b[0m Trial 20 pruned. Trial was pruned at iteration 5.\u001b[0m\n",
      "\u001b[32m[I 2021-06-19 01:29:13,523]\u001b[0m Trial 21 finished with value: 0.385240763425827 and parameters: {'max_depth': 3, 'max_features': 'auto', 'min_samples_split': 7, 'min_samples_leaf': 3, 'bootstrap': True}. Best is trial 0 with value: 0.3813921809196472.\u001b[0m\n",
      "\u001b[32m[I 2021-06-19 01:29:13,579]\u001b[0m Trial 22 pruned. Trial was pruned at iteration 5.\u001b[0m\n",
      "\u001b[32m[I 2021-06-19 01:29:13,629]\u001b[0m Trial 23 pruned. Trial was pruned at iteration 5.\u001b[0m\n",
      "\u001b[32m[I 2021-06-19 01:29:13,677]\u001b[0m Trial 24 pruned. Trial was pruned at iteration 5.\u001b[0m\n",
      "\u001b[32m[I 2021-06-19 01:29:13,756]\u001b[0m Trial 25 finished with value: 0.3859280049800873 and parameters: {'max_depth': 4, 'max_features': 'sqrt', 'min_samples_split': 6, 'min_samples_leaf': 4, 'bootstrap': False}. Best is trial 0 with value: 0.3813921809196472.\u001b[0m\n",
      "\u001b[32m[I 2021-06-19 01:29:13,810]\u001b[0m Trial 26 pruned. Trial was pruned at iteration 6.\u001b[0m\n",
      "\u001b[32m[I 2021-06-19 01:29:13,859]\u001b[0m Trial 27 pruned. Trial was pruned at iteration 5.\u001b[0m\n",
      "\u001b[32m[I 2021-06-19 01:29:13,926]\u001b[0m Trial 28 pruned. Trial was pruned at iteration 5.\u001b[0m\n",
      "\u001b[32m[I 2021-06-19 01:29:13,984]\u001b[0m Trial 29 pruned. Trial was pruned at iteration 5.\u001b[0m\n",
      "\u001b[32m[I 2021-06-19 01:29:14,068]\u001b[0m Trial 30 finished with value: 0.385240763425827 and parameters: {'max_depth': 3, 'max_features': 'sqrt', 'min_samples_split': 6, 'min_samples_leaf': 4, 'bootstrap': False}. Best is trial 0 with value: 0.3813921809196472.\u001b[0m\n",
      "\u001b[32m[I 2021-06-19 01:29:14,144]\u001b[0m Trial 31 finished with value: 0.385240763425827 and parameters: {'max_depth': 3, 'max_features': 'auto', 'min_samples_split': 3, 'min_samples_leaf': 3, 'bootstrap': True}. Best is trial 0 with value: 0.3813921809196472.\u001b[0m\n",
      "\u001b[32m[I 2021-06-19 01:29:14,193]\u001b[0m Trial 32 pruned. Trial was pruned at iteration 5.\u001b[0m\n",
      "\u001b[32m[I 2021-06-19 01:29:14,272]\u001b[0m Trial 33 finished with value: 0.3859280049800873 and parameters: {'max_depth': 4, 'max_features': 'auto', 'min_samples_split': 9, 'min_samples_leaf': 4, 'bootstrap': False}. Best is trial 0 with value: 0.3813921809196472.\u001b[0m\n",
      "\u001b[32m[I 2021-06-19 01:29:14,322]\u001b[0m Trial 34 pruned. Trial was pruned at iteration 5.\u001b[0m\n",
      "\u001b[32m[I 2021-06-19 01:29:14,375]\u001b[0m Trial 35 pruned. Trial was pruned at iteration 5.\u001b[0m\n",
      "\u001b[32m[I 2021-06-19 01:29:14,424]\u001b[0m Trial 36 pruned. Trial was pruned at iteration 5.\u001b[0m\n",
      "\u001b[32m[I 2021-06-19 01:29:14,503]\u001b[0m Trial 37 finished with value: 0.385240763425827 and parameters: {'max_depth': 3, 'max_features': 'sqrt', 'min_samples_split': 7, 'min_samples_leaf': 3, 'bootstrap': True}. Best is trial 0 with value: 0.3813921809196472.\u001b[0m\n",
      "\u001b[32m[I 2021-06-19 01:29:14,553]\u001b[0m Trial 38 pruned. Trial was pruned at iteration 5.\u001b[0m\n",
      "\u001b[32m[I 2021-06-19 01:29:14,604]\u001b[0m Trial 39 pruned. Trial was pruned at iteration 5.\u001b[0m\n",
      "\u001b[32m[I 2021-06-19 01:29:14,654]\u001b[0m Trial 40 pruned. Trial was pruned at iteration 5.\u001b[0m\n",
      "\u001b[32m[I 2021-06-19 01:29:14,703]\u001b[0m Trial 41 pruned. Trial was pruned at iteration 5.\u001b[0m\n",
      "\u001b[32m[I 2021-06-19 01:29:14,775]\u001b[0m Trial 42 finished with value: 0.385240763425827 and parameters: {'max_depth': 3, 'max_features': 'auto', 'min_samples_split': 6, 'min_samples_leaf': 3, 'bootstrap': False}. Best is trial 0 with value: 0.3813921809196472.\u001b[0m\n",
      "\u001b[32m[I 2021-06-19 01:29:14,827]\u001b[0m Trial 43 pruned. Trial was pruned at iteration 5.\u001b[0m\n",
      "\u001b[32m[I 2021-06-19 01:29:14,900]\u001b[0m Trial 44 finished with value: 0.385240763425827 and parameters: {'max_depth': 3, 'max_features': 'sqrt', 'min_samples_split': 6, 'min_samples_leaf': 3, 'bootstrap': False}. Best is trial 0 with value: 0.3813921809196472.\u001b[0m\n",
      "\u001b[32m[I 2021-06-19 01:29:14,955]\u001b[0m Trial 45 pruned. Trial was pruned at iteration 5.\u001b[0m\n",
      "\u001b[32m[I 2021-06-19 01:29:15,006]\u001b[0m Trial 46 pruned. Trial was pruned at iteration 5.\u001b[0m\n",
      "\u001b[32m[I 2021-06-19 01:29:15,057]\u001b[0m Trial 47 pruned. Trial was pruned at iteration 5.\u001b[0m\n",
      "\u001b[32m[I 2021-06-19 01:29:15,108]\u001b[0m Trial 48 pruned. Trial was pruned at iteration 5.\u001b[0m\n",
      "\u001b[32m[I 2021-06-19 01:29:15,159]\u001b[0m Trial 49 pruned. Trial was pruned at iteration 5.\u001b[0m\n"
     ]
    },
    {
     "name": "stderr",
     "output_type": "stream",
     "text": [
      "\u001b[32m[I 2021-06-19 01:29:15,211]\u001b[0m Trial 50 pruned. Trial was pruned at iteration 5.\u001b[0m\n",
      "\u001b[32m[I 2021-06-19 01:29:15,288]\u001b[0m Trial 51 finished with value: 0.385240763425827 and parameters: {'max_depth': 3, 'max_features': 'auto', 'min_samples_split': 6, 'min_samples_leaf': 3, 'bootstrap': False}. Best is trial 0 with value: 0.3813921809196472.\u001b[0m\n",
      "\u001b[32m[I 2021-06-19 01:29:15,360]\u001b[0m Trial 52 finished with value: 0.385240763425827 and parameters: {'max_depth': 3, 'max_features': 'auto', 'min_samples_split': 5, 'min_samples_leaf': 3, 'bootstrap': False}. Best is trial 0 with value: 0.3813921809196472.\u001b[0m\n",
      "\u001b[32m[I 2021-06-19 01:29:15,408]\u001b[0m Trial 53 pruned. Trial was pruned at iteration 5.\u001b[0m\n",
      "\u001b[32m[I 2021-06-19 01:29:15,460]\u001b[0m Trial 54 pruned. Trial was pruned at iteration 5.\u001b[0m\n",
      "\u001b[32m[I 2021-06-19 01:29:15,513]\u001b[0m Trial 55 pruned. Trial was pruned at iteration 5.\u001b[0m\n",
      "\u001b[32m[I 2021-06-19 01:29:15,564]\u001b[0m Trial 56 pruned. Trial was pruned at iteration 5.\u001b[0m\n",
      "\u001b[32m[I 2021-06-19 01:29:15,616]\u001b[0m Trial 57 pruned. Trial was pruned at iteration 5.\u001b[0m\n",
      "\u001b[32m[I 2021-06-19 01:29:15,667]\u001b[0m Trial 58 pruned. Trial was pruned at iteration 5.\u001b[0m\n",
      "\u001b[32m[I 2021-06-19 01:29:15,724]\u001b[0m Trial 59 pruned. Trial was pruned at iteration 5.\u001b[0m\n",
      "\u001b[32m[I 2021-06-19 01:29:15,774]\u001b[0m Trial 60 pruned. Trial was pruned at iteration 5.\u001b[0m\n",
      "\u001b[32m[I 2021-06-19 01:29:15,844]\u001b[0m Trial 61 finished with value: 0.3856247663497925 and parameters: {'max_depth': 3, 'max_features': 'auto', 'min_samples_split': 5, 'min_samples_leaf': 3, 'bootstrap': False}. Best is trial 0 with value: 0.3813921809196472.\u001b[0m\n",
      "\u001b[32m[I 2021-06-19 01:29:15,895]\u001b[0m Trial 62 pruned. Trial was pruned at iteration 5.\u001b[0m\n",
      "\u001b[32m[I 2021-06-19 01:29:15,946]\u001b[0m Trial 63 pruned. Trial was pruned at iteration 5.\u001b[0m\n",
      "\u001b[32m[I 2021-06-19 01:29:16,001]\u001b[0m Trial 64 pruned. Trial was pruned at iteration 5.\u001b[0m\n",
      "\u001b[32m[I 2021-06-19 01:29:16,053]\u001b[0m Trial 65 pruned. Trial was pruned at iteration 5.\u001b[0m\n",
      "\u001b[32m[I 2021-06-19 01:29:16,105]\u001b[0m Trial 66 pruned. Trial was pruned at iteration 5.\u001b[0m\n",
      "\u001b[32m[I 2021-06-19 01:29:16,156]\u001b[0m Trial 67 pruned. Trial was pruned at iteration 5.\u001b[0m\n",
      "\u001b[32m[I 2021-06-19 01:29:16,208]\u001b[0m Trial 68 pruned. Trial was pruned at iteration 5.\u001b[0m\n",
      "\u001b[32m[I 2021-06-19 01:29:16,282]\u001b[0m Trial 69 finished with value: 0.385240763425827 and parameters: {'max_depth': 3, 'max_features': 'auto', 'min_samples_split': 4, 'min_samples_leaf': 3, 'bootstrap': True}. Best is trial 0 with value: 0.3813921809196472.\u001b[0m\n",
      "\u001b[32m[I 2021-06-19 01:29:16,334]\u001b[0m Trial 70 pruned. Trial was pruned at iteration 5.\u001b[0m\n",
      "\u001b[32m[I 2021-06-19 01:29:16,386]\u001b[0m Trial 71 pruned. Trial was pruned at iteration 5.\u001b[0m\n",
      "\u001b[32m[I 2021-06-19 01:29:16,461]\u001b[0m Trial 72 finished with value: 0.385240763425827 and parameters: {'max_depth': 3, 'max_features': 'sqrt', 'min_samples_split': 7, 'min_samples_leaf': 1, 'bootstrap': True}. Best is trial 0 with value: 0.3813921809196472.\u001b[0m\n",
      "\u001b[32m[I 2021-06-19 01:29:16,515]\u001b[0m Trial 73 pruned. Trial was pruned at iteration 5.\u001b[0m\n",
      "\u001b[32m[I 2021-06-19 01:29:16,569]\u001b[0m Trial 74 pruned. Trial was pruned at iteration 5.\u001b[0m\n",
      "\u001b[32m[I 2021-06-19 01:29:16,620]\u001b[0m Trial 75 pruned. Trial was pruned at iteration 5.\u001b[0m\n",
      "\u001b[32m[I 2021-06-19 01:29:16,673]\u001b[0m Trial 76 pruned. Trial was pruned at iteration 5.\u001b[0m\n",
      "\u001b[32m[I 2021-06-19 01:29:16,726]\u001b[0m Trial 77 pruned. Trial was pruned at iteration 5.\u001b[0m\n",
      "\u001b[32m[I 2021-06-19 01:29:16,781]\u001b[0m Trial 78 pruned. Trial was pruned at iteration 5.\u001b[0m\n",
      "\u001b[32m[I 2021-06-19 01:29:16,860]\u001b[0m Trial 79 finished with value: 0.385240763425827 and parameters: {'max_depth': 3, 'max_features': 'sqrt', 'min_samples_split': 7, 'min_samples_leaf': 3, 'bootstrap': True}. Best is trial 0 with value: 0.3813921809196472.\u001b[0m\n",
      "\u001b[32m[I 2021-06-19 01:29:16,910]\u001b[0m Trial 80 pruned. Trial was pruned at iteration 5.\u001b[0m\n",
      "\u001b[32m[I 2021-06-19 01:29:16,983]\u001b[0m Trial 81 finished with value: 0.385240763425827 and parameters: {'max_depth': 3, 'max_features': 'sqrt', 'min_samples_split': 7, 'min_samples_leaf': 3, 'bootstrap': True}. Best is trial 0 with value: 0.3813921809196472.\u001b[0m\n",
      "\u001b[32m[I 2021-06-19 01:29:17,035]\u001b[0m Trial 82 pruned. Trial was pruned at iteration 5.\u001b[0m\n",
      "\u001b[32m[I 2021-06-19 01:29:17,108]\u001b[0m Trial 83 finished with value: 0.385240763425827 and parameters: {'max_depth': 3, 'max_features': 'sqrt', 'min_samples_split': 2, 'min_samples_leaf': 3, 'bootstrap': True}. Best is trial 0 with value: 0.3813921809196472.\u001b[0m\n",
      "\u001b[32m[I 2021-06-19 01:29:17,160]\u001b[0m Trial 84 pruned. Trial was pruned at iteration 5.\u001b[0m\n",
      "\u001b[32m[I 2021-06-19 01:29:17,210]\u001b[0m Trial 85 pruned. Trial was pruned at iteration 5.\u001b[0m\n",
      "\u001b[32m[I 2021-06-19 01:29:17,259]\u001b[0m Trial 86 pruned. Trial was pruned at iteration 5.\u001b[0m\n",
      "\u001b[32m[I 2021-06-19 01:29:17,317]\u001b[0m Trial 87 pruned. Trial was pruned at iteration 5.\u001b[0m\n",
      "\u001b[32m[I 2021-06-19 01:29:17,363]\u001b[0m Trial 88 pruned. Trial was pruned at iteration 5.\u001b[0m\n",
      "\u001b[32m[I 2021-06-19 01:29:17,411]\u001b[0m Trial 89 pruned. Trial was pruned at iteration 5.\u001b[0m\n",
      "\u001b[32m[I 2021-06-19 01:29:17,478]\u001b[0m Trial 90 finished with value: 0.385240763425827 and parameters: {'max_depth': 3, 'max_features': 'sqrt', 'min_samples_split': 2, 'min_samples_leaf': 2, 'bootstrap': True}. Best is trial 0 with value: 0.3813921809196472.\u001b[0m\n",
      "\u001b[32m[I 2021-06-19 01:29:17,550]\u001b[0m Trial 91 finished with value: 0.385240763425827 and parameters: {'max_depth': 3, 'max_features': 'sqrt', 'min_samples_split': 8, 'min_samples_leaf': 3, 'bootstrap': True}. Best is trial 0 with value: 0.3813921809196472.\u001b[0m\n",
      "\u001b[32m[I 2021-06-19 01:29:17,627]\u001b[0m Trial 92 finished with value: 0.385240763425827 and parameters: {'max_depth': 3, 'max_features': 'sqrt', 'min_samples_split': 2, 'min_samples_leaf': 2, 'bootstrap': False}. Best is trial 0 with value: 0.3813921809196472.\u001b[0m\n",
      "\u001b[32m[I 2021-06-19 01:29:17,707]\u001b[0m Trial 93 finished with value: 0.385240763425827 and parameters: {'max_depth': 3, 'max_features': 'sqrt', 'min_samples_split': 9, 'min_samples_leaf': 3, 'bootstrap': False}. Best is trial 0 with value: 0.3813921809196472.\u001b[0m\n",
      "\u001b[32m[I 2021-06-19 01:29:17,759]\u001b[0m Trial 94 pruned. Trial was pruned at iteration 5.\u001b[0m\n",
      "\u001b[32m[I 2021-06-19 01:29:17,808]\u001b[0m Trial 95 pruned. Trial was pruned at iteration 5.\u001b[0m\n",
      "\u001b[32m[I 2021-06-19 01:29:17,857]\u001b[0m Trial 96 pruned. Trial was pruned at iteration 5.\u001b[0m\n",
      "\u001b[32m[I 2021-06-19 01:29:17,906]\u001b[0m Trial 97 pruned. Trial was pruned at iteration 5.\u001b[0m\n",
      "\u001b[32m[I 2021-06-19 01:29:17,977]\u001b[0m Trial 98 finished with value: 0.385240763425827 and parameters: {'max_depth': 3, 'max_features': 'sqrt', 'min_samples_split': 7, 'min_samples_leaf': 4, 'bootstrap': True}. Best is trial 0 with value: 0.3813921809196472.\u001b[0m\n",
      "\u001b[32m[I 2021-06-19 01:29:18,027]\u001b[0m Trial 99 pruned. Trial was pruned at iteration 5.\u001b[0m\n",
      "18:80: E501 line too long (87 > 79 characters)\n",
      "24:80: E501 line too long (83 > 79 characters)\n"
     ]
    }
   ],
   "source": [
    "train1 = xgb.DMatrix(train.drop(columns=\"SalePrice\"), label=train.SalePrice)\n",
    "test1 = xgb.DMatrix(test.drop(columns=\"SalePrice\"), label=test.SalePrice)\n",
    "\n",
    "\n",
    "def objective(trial, train, test):\n",
    "\n",
    "    param = {\n",
    "        \"objective\": \"reg:squarederror\",\n",
    "        \"eval_metric\": \"rmse\",\n",
    "        \"n_estimators\": 1000,\n",
    "        \"max_depth\": 2,\n",
    "        \"max_features\": \"auto\",\n",
    "        \"min_samples_split\": 2,\n",
    "        \"bootstrap\": True\n",
    "    }\n",
    "\n",
    "    param[\"max_depth\"] = trial.suggest_int(\"max_depth\", 2, 32, log=True)\n",
    "    param[\"max_features\"] = trial.suggest_categorical(\"max_features\", [\"auto\", \"sqrt\"])\n",
    "    param[\"min_samples_split\"] = trial.suggest_int(\"min_samples_split\", 2, 10)\n",
    "    param[\"min_samples_leaf\"] = trial.suggest_int(\"min_samples_leaf\", 1, 5)\n",
    "    param[\"bootstrap\"] = trial.suggest_categorical(\"bootstrap\", [True, False])\n",
    "\n",
    "    pruning_callback = optuna.integration.XGBoostPruningCallback(trial,\n",
    "                                                                 'validation-rmse')\n",
    "    bst = xgb.train(param, train1, evals=[(test1, 'validation')],\n",
    "                    callbacks=[pruning_callback], maximize=False)\n",
    "    preds = bst.predict(test1)\n",
    "\n",
    "    rmse_score = sklearn.metrics.mean_squared_error(test1.get_label(),\n",
    "                                                    preds, squared=False)\n",
    "    return rmse_score\n",
    "\n",
    "\n",
    "study = optuna.create_study(direction='minimize')\n",
    "study.optimize(lambda trial: objective(trial, train1, test1), n_trials=100)\n",
    "\n",
    "trial = study.best_trial\n",
    "\n",
    "print('RMSE: {}'.format(trial.value))\n",
    "print(\"Best hyperparameters: {}\".format(trial.params))"
   ]
  },
  {
   "cell_type": "code",
   "execution_count": 148,
   "metadata": {},
   "outputs": [
    {
     "data": {
      "text/plain": [
       "0.3813921809196472"
      ]
     },
     "execution_count": 148,
     "metadata": {},
     "output_type": "execute_result"
    }
   ],
   "source": [
    "trial.value"
   ]
  },
  {
   "cell_type": "code",
   "execution_count": 149,
   "metadata": {},
   "outputs": [
    {
     "data": {
      "text/plain": [
       "{'max_depth': 2,\n",
       " 'max_features': 'sqrt',\n",
       " 'min_samples_split': 6,\n",
       " 'min_samples_leaf': 4,\n",
       " 'bootstrap': True}"
      ]
     },
     "execution_count": 149,
     "metadata": {},
     "output_type": "execute_result"
    }
   ],
   "source": [
    "trial.params"
   ]
  },
  {
   "cell_type": "code",
   "execution_count": 150,
   "metadata": {},
   "outputs": [],
   "source": [
    "param = {\n",
    "    \"objective\": \"reg:squarederror\",\n",
    "    \"eval_metric\": \"rmse\",\n",
    "    \"n_estimators\": 1000,\n",
    "    'max_depth': 2,\n",
    "    'max_features': 'sqrt',\n",
    "    'min_samples_split': 6,\n",
    "    'min_samples_leaf': 4,\n",
    "    'bootstrap': True\n",
    "    }\n",
    "\n",
    "bst = xgb.train(param, train1)"
   ]
  },
  {
   "cell_type": "code",
   "execution_count": 151,
   "metadata": {
    "scrolled": false
   },
   "outputs": [
    {
     "data": {
      "text/plain": [
       "0.38139218"
      ]
     },
     "execution_count": 151,
     "metadata": {},
     "output_type": "execute_result"
    }
   ],
   "source": [
    "p = bst.predict(test1)\n",
    "sklearn.metrics.mean_squared_error(test1.get_label(), p, squared=False)"
   ]
  },
  {
   "cell_type": "code",
   "execution_count": 139,
   "metadata": {},
   "outputs": [],
   "source": [
    "imp = bst.get_score(importance_type='gain')"
   ]
  },
  {
   "cell_type": "code",
   "execution_count": 140,
   "metadata": {},
   "outputs": [],
   "source": [
    "imp_df = pd.DataFrame(list(zip(imp.values(), list(imp.keys()))),\n",
    "                      columns=[\"Importance\", \"Feature\"])"
   ]
  },
  {
   "cell_type": "code",
   "execution_count": 141,
   "metadata": {},
   "outputs": [
    {
     "data": {
      "text/plain": [
       "Text(0.5, 1.0, 'Variables les plus importantes')"
      ]
     },
     "execution_count": 141,
     "metadata": {},
     "output_type": "execute_result"
    },
    {
     "data": {
      "image/png": "[encoded data removed]",
      "text/plain": [
       "<Figure size 432x288 with 1 Axes>"
      ]
     },
     "metadata": {
      "needs_background": "light"
     },
     "output_type": "display_data"
    }
   ],
   "source": [
    "imp_df.sort_values(\"Importance\").set_index(\"Feature\")[0:20].plot(kind=\"barh\")\n",
    "plt.title(\"Variables les plus importantes\")"
   ]
  },
  {
   "cell_type": "code",
   "execution_count": 152,
   "metadata": {},
   "outputs": [],
   "source": [
    "newdata = pd.read_csv('newdata_transforme.csv', index_col=0)\n",
    "newdata['SalePrice'] = rf.predict(newdata)"
   ]
  },
  {
   "cell_type": "code",
   "execution_count": 153,
   "metadata": {},
   "outputs": [],
   "source": [
    "submission = pd.DataFrame(newdata[\"SalePrice\"])\n",
    "submission = np.exp(submission)\n",
    "submission.to_csv(\"submission2.csv\")"
   ]
  },
  {
   "cell_type": "code",
   "execution_count": 154,
   "metadata": {},
   "outputs": [
    {
     "data": {
      "text/plain": [
       "0.011988612647318587"
      ]
     },
     "execution_count": 154,
     "metadata": {},
     "output_type": "execute_result"
    }
   ],
   "source": [
    "0.14397/newdata['SalePrice'].mean()"
   ]
  },
  {
   "cell_type": "markdown",
   "metadata": {},
   "source": [
    "### Nouveau test : sélectionnons manuellement une partie seulement des variables, qui semblent être particulièrement importantes d'après l'analyse"
   ]
  },
  {
   "cell_type": "code",
   "execution_count": 142,
   "metadata": {},
   "outputs": [],
   "source": [
    "imp_vars = [\"OverallQual\", \"YearBuilt\", \"YearRemodAdd\", \"BsmtFinSF1\",\n",
    "            \"TotalBsmtSF\", \"1stFlrSF\", \"2ndFlrSF\", \"GrLivArea\",\n",
    "            \"TotRmsAbvGrd\", \"Fireplaces\", \"GarageArea\", \"WoodDeckSF\",\n",
    "            \"MSZoning\", \"Alley\", \"Neighborhood\", \"Condition1\", \"Condition2\",\n",
    "            \"HouseStyle\", \"MasVnrType\", \"ExterQual\", \"Foundation\", \"BsmtQual\",\n",
    "            \"CentralAir\", \"KitchenQual\", \"GarageQual\", \"PoolQC\", \"SaleType\"]"
   ]
  },
  {
   "cell_type": "code",
   "execution_count": 144,
   "metadata": {},
   "outputs": [],
   "source": [
    "train2 = xgb.DMatrix(train[imp_vars], label=train.SalePrice)\n",
    "test2 = xgb.DMatrix(test[imp_vars], label=test.SalePrice)"
   ]
  },
  {
   "cell_type": "code",
   "execution_count": 145,
   "metadata": {},
   "outputs": [
    {
     "name": "stderr",
     "output_type": "stream",
     "text": [
      "\u001b[32m[I 2021-06-19 01:27:43,944]\u001b[0m A new study created in memory with name: no-name-1bc79f01-5c2a-4166-a5c3-13af7c97636a\u001b[0m\n",
      "\u001b[32m[I 2021-06-19 01:27:43,996]\u001b[0m Trial 0 finished with value: 0.3813921809196472 and parameters: {'max_depth': 2, 'max_features': 'sqrt', 'min_samples_split': 2, 'min_samples_leaf': 3, 'bootstrap': False}. Best is trial 0 with value: 0.3813921809196472.\u001b[0m\n",
      "\u001b[32m[I 2021-06-19 01:27:44,037]\u001b[0m Trial 1 finished with value: 0.3813921809196472 and parameters: {'max_depth': 2, 'max_features': 'auto', 'min_samples_split': 2, 'min_samples_leaf': 1, 'bootstrap': True}. Best is trial 0 with value: 0.3813921809196472.\u001b[0m\n",
      "\u001b[32m[I 2021-06-19 01:27:44,123]\u001b[0m Trial 2 finished with value: 0.3871588110923767 and parameters: {'max_depth': 8, 'max_features': 'auto', 'min_samples_split': 8, 'min_samples_leaf': 4, 'bootstrap': True}. Best is trial 0 with value: 0.3813921809196472.\u001b[0m\n",
      "\u001b[32m[I 2021-06-19 01:27:44,191]\u001b[0m Trial 3 finished with value: 0.3873077630996704 and parameters: {'max_depth': 9, 'max_features': 'sqrt', 'min_samples_split': 8, 'min_samples_leaf': 5, 'bootstrap': True}. Best is trial 0 with value: 0.3813921809196472.\u001b[0m\n",
      "\u001b[32m[I 2021-06-19 01:27:44,237]\u001b[0m Trial 4 finished with value: 0.385240763425827 and parameters: {'max_depth': 3, 'max_features': 'auto', 'min_samples_split': 2, 'min_samples_leaf': 1, 'bootstrap': False}. Best is trial 0 with value: 0.3813921809196472.\u001b[0m\n",
      "\u001b[32m[I 2021-06-19 01:27:44,269]\u001b[0m Trial 5 pruned. Trial was pruned at iteration 5.\u001b[0m\n",
      "\u001b[32m[I 2021-06-19 01:27:44,298]\u001b[0m Trial 6 pruned. Trial was pruned at iteration 6.\u001b[0m\n",
      "\u001b[32m[I 2021-06-19 01:27:44,336]\u001b[0m Trial 7 pruned. Trial was pruned at iteration 6.\u001b[0m\n",
      "\u001b[32m[I 2021-06-19 01:27:44,369]\u001b[0m Trial 8 pruned. Trial was pruned at iteration 6.\u001b[0m\n",
      "\u001b[32m[I 2021-06-19 01:27:44,404]\u001b[0m Trial 9 pruned. Trial was pruned at iteration 6.\u001b[0m\n",
      "\u001b[32m[I 2021-06-19 01:27:44,454]\u001b[0m Trial 10 pruned. Trial was pruned at iteration 6.\u001b[0m\n",
      "\u001b[32m[I 2021-06-19 01:27:44,500]\u001b[0m Trial 11 pruned. Trial was pruned at iteration 5.\u001b[0m\n",
      "\u001b[32m[I 2021-06-19 01:27:44,547]\u001b[0m Trial 12 pruned. Trial was pruned at iteration 5.\u001b[0m\n",
      "\u001b[32m[I 2021-06-19 01:27:44,615]\u001b[0m Trial 13 finished with value: 0.385240763425827 and parameters: {'max_depth': 3, 'max_features': 'auto', 'min_samples_split': 10, 'min_samples_leaf': 2, 'bootstrap': False}. Best is trial 0 with value: 0.3813921809196472.\u001b[0m\n",
      "\u001b[32m[I 2021-06-19 01:27:44,665]\u001b[0m Trial 14 pruned. Trial was pruned at iteration 6.\u001b[0m\n",
      "\u001b[32m[I 2021-06-19 01:27:44,713]\u001b[0m Trial 15 pruned. Trial was pruned at iteration 5.\u001b[0m\n",
      "\u001b[32m[I 2021-06-19 01:27:44,763]\u001b[0m Trial 16 pruned. Trial was pruned at iteration 5.\u001b[0m\n",
      "\u001b[32m[I 2021-06-19 01:27:44,814]\u001b[0m Trial 17 pruned. Trial was pruned at iteration 5.\u001b[0m\n",
      "\u001b[32m[I 2021-06-19 01:27:44,868]\u001b[0m Trial 18 pruned. Trial was pruned at iteration 6.\u001b[0m\n",
      "\u001b[32m[I 2021-06-19 01:27:44,924]\u001b[0m Trial 19 pruned. Trial was pruned at iteration 6.\u001b[0m\n",
      "\u001b[32m[I 2021-06-19 01:27:44,997]\u001b[0m Trial 20 finished with value: 0.385240763425827 and parameters: {'max_depth': 3, 'max_features': 'auto', 'min_samples_split': 10, 'min_samples_leaf': 1, 'bootstrap': False}. Best is trial 0 with value: 0.3813921809196472.\u001b[0m\n",
      "\u001b[32m[I 2021-06-19 01:27:45,045]\u001b[0m Trial 21 pruned. Trial was pruned at iteration 5.\u001b[0m\n",
      "\u001b[32m[I 2021-06-19 01:27:45,092]\u001b[0m Trial 22 pruned. Trial was pruned at iteration 5.\u001b[0m\n",
      "\u001b[32m[I 2021-06-19 01:27:45,160]\u001b[0m Trial 23 finished with value: 0.385240763425827 and parameters: {'max_depth': 3, 'max_features': 'auto', 'min_samples_split': 3, 'min_samples_leaf': 1, 'bootstrap': False}. Best is trial 0 with value: 0.3813921809196472.\u001b[0m\n",
      "\u001b[32m[I 2021-06-19 01:27:45,209]\u001b[0m Trial 24 pruned. Trial was pruned at iteration 5.\u001b[0m\n",
      "\u001b[32m[I 2021-06-19 01:27:45,256]\u001b[0m Trial 25 pruned. Trial was pruned at iteration 5.\u001b[0m\n",
      "\u001b[32m[I 2021-06-19 01:27:45,333]\u001b[0m Trial 26 finished with value: 0.385240763425827 and parameters: {'max_depth': 3, 'max_features': 'auto', 'min_samples_split': 3, 'min_samples_leaf': 2, 'bootstrap': False}. Best is trial 0 with value: 0.3813921809196472.\u001b[0m\n",
      "\u001b[32m[I 2021-06-19 01:27:45,415]\u001b[0m Trial 27 pruned. Trial was pruned at iteration 6.\u001b[0m\n",
      "\u001b[32m[I 2021-06-19 01:27:45,474]\u001b[0m Trial 28 pruned. Trial was pruned at iteration 5.\u001b[0m\n",
      "\u001b[32m[I 2021-06-19 01:27:45,539]\u001b[0m Trial 29 pruned. Trial was pruned at iteration 5.\u001b[0m\n",
      "\u001b[32m[I 2021-06-19 01:27:45,606]\u001b[0m Trial 30 pruned. Trial was pruned at iteration 5.\u001b[0m\n",
      "\u001b[32m[I 2021-06-19 01:27:45,682]\u001b[0m Trial 31 pruned. Trial was pruned at iteration 5.\u001b[0m\n",
      "\u001b[32m[I 2021-06-19 01:27:45,740]\u001b[0m Trial 32 pruned. Trial was pruned at iteration 5.\u001b[0m\n",
      "\u001b[32m[I 2021-06-19 01:27:45,837]\u001b[0m Trial 33 finished with value: 0.385240763425827 and parameters: {'max_depth': 3, 'max_features': 'auto', 'min_samples_split': 9, 'min_samples_leaf': 2, 'bootstrap': False}. Best is trial 0 with value: 0.3813921809196472.\u001b[0m\n",
      "\u001b[32m[I 2021-06-19 01:27:45,905]\u001b[0m Trial 34 pruned. Trial was pruned at iteration 5.\u001b[0m\n",
      "\u001b[32m[I 2021-06-19 01:27:45,969]\u001b[0m Trial 35 pruned. Trial was pruned at iteration 5.\u001b[0m\n",
      "\u001b[32m[I 2021-06-19 01:27:46,067]\u001b[0m Trial 36 finished with value: 0.3856247663497925 and parameters: {'max_depth': 3, 'max_features': 'auto', 'min_samples_split': 9, 'min_samples_leaf': 3, 'bootstrap': False}. Best is trial 0 with value: 0.3813921809196472.\u001b[0m\n",
      "\u001b[32m[I 2021-06-19 01:27:46,140]\u001b[0m Trial 37 pruned. Trial was pruned at iteration 5.\u001b[0m\n",
      "\u001b[32m[I 2021-06-19 01:27:46,209]\u001b[0m Trial 38 pruned. Trial was pruned at iteration 5.\u001b[0m\n",
      "\u001b[32m[I 2021-06-19 01:27:46,294]\u001b[0m Trial 39 pruned. Trial was pruned at iteration 5.\u001b[0m\n",
      "\u001b[32m[I 2021-06-19 01:27:46,369]\u001b[0m Trial 40 pruned. Trial was pruned at iteration 5.\u001b[0m\n",
      "\u001b[32m[I 2021-06-19 01:27:46,439]\u001b[0m Trial 41 pruned. Trial was pruned at iteration 5.\u001b[0m\n",
      "\u001b[32m[I 2021-06-19 01:27:46,521]\u001b[0m Trial 42 pruned. Trial was pruned at iteration 6.\u001b[0m\n",
      "\u001b[32m[I 2021-06-19 01:27:46,588]\u001b[0m Trial 43 pruned. Trial was pruned at iteration 5.\u001b[0m\n",
      "\u001b[32m[I 2021-06-19 01:27:46,648]\u001b[0m Trial 44 pruned. Trial was pruned at iteration 5.\u001b[0m\n",
      "\u001b[32m[I 2021-06-19 01:27:46,706]\u001b[0m Trial 45 pruned. Trial was pruned at iteration 5.\u001b[0m\n",
      "\u001b[32m[I 2021-06-19 01:27:46,759]\u001b[0m Trial 46 pruned. Trial was pruned at iteration 5.\u001b[0m\n",
      "\u001b[32m[I 2021-06-19 01:27:46,812]\u001b[0m Trial 47 pruned. Trial was pruned at iteration 5.\u001b[0m\n",
      "\u001b[32m[I 2021-06-19 01:27:46,861]\u001b[0m Trial 48 pruned. Trial was pruned at iteration 5.\u001b[0m\n",
      "\u001b[32m[I 2021-06-19 01:27:46,923]\u001b[0m Trial 49 pruned. Trial was pruned at iteration 5.\u001b[0m\n",
      "\u001b[32m[I 2021-06-19 01:27:46,996]\u001b[0m Trial 50 finished with value: 0.3856247663497925 and parameters: {'max_depth': 3, 'max_features': 'sqrt', 'min_samples_split': 4, 'min_samples_leaf': 1, 'bootstrap': False}. Best is trial 0 with value: 0.3813921809196472.\u001b[0m\n",
      "\u001b[32m[I 2021-06-19 01:27:47,046]\u001b[0m Trial 51 pruned. Trial was pruned at iteration 5.\u001b[0m\n",
      "\u001b[32m[I 2021-06-19 01:27:47,100]\u001b[0m Trial 52 pruned. Trial was pruned at iteration 5.\u001b[0m\n",
      "\u001b[32m[I 2021-06-19 01:27:47,169]\u001b[0m Trial 53 finished with value: 0.3856247663497925 and parameters: {'max_depth': 3, 'max_features': 'auto', 'min_samples_split': 10, 'min_samples_leaf': 1, 'bootstrap': False}. Best is trial 0 with value: 0.3813921809196472.\u001b[0m\n",
      "\u001b[32m[I 2021-06-19 01:27:47,221]\u001b[0m Trial 54 pruned. Trial was pruned at iteration 5.\u001b[0m\n",
      "\u001b[32m[I 2021-06-19 01:27:47,274]\u001b[0m Trial 55 pruned. Trial was pruned at iteration 5.\u001b[0m\n",
      "\u001b[32m[I 2021-06-19 01:27:47,328]\u001b[0m Trial 56 pruned. Trial was pruned at iteration 5.\u001b[0m\n",
      "\u001b[32m[I 2021-06-19 01:27:47,377]\u001b[0m Trial 57 pruned. Trial was pruned at iteration 5.\u001b[0m\n",
      "\u001b[32m[I 2021-06-19 01:27:47,426]\u001b[0m Trial 58 pruned. Trial was pruned at iteration 5.\u001b[0m\n",
      "\u001b[32m[I 2021-06-19 01:27:47,482]\u001b[0m Trial 59 pruned. Trial was pruned at iteration 5.\u001b[0m\n",
      "\u001b[32m[I 2021-06-19 01:27:47,532]\u001b[0m Trial 60 pruned. Trial was pruned at iteration 5.\u001b[0m\n",
      "\u001b[32m[I 2021-06-19 01:27:47,607]\u001b[0m Trial 61 finished with value: 0.3856247663497925 and parameters: {'max_depth': 3, 'max_features': 'auto', 'min_samples_split': 9, 'min_samples_leaf': 1, 'bootstrap': False}. Best is trial 0 with value: 0.3813921809196472.\u001b[0m\n",
      "\u001b[32m[I 2021-06-19 01:27:47,678]\u001b[0m Trial 62 pruned. Trial was pruned at iteration 5.\u001b[0m\n"
     ]
    },
    {
     "name": "stderr",
     "output_type": "stream",
     "text": [
      "\u001b[32m[I 2021-06-19 01:27:47,733]\u001b[0m Trial 63 pruned. Trial was pruned at iteration 5.\u001b[0m\n",
      "\u001b[32m[I 2021-06-19 01:27:47,782]\u001b[0m Trial 64 pruned. Trial was pruned at iteration 5.\u001b[0m\n",
      "\u001b[32m[I 2021-06-19 01:27:47,832]\u001b[0m Trial 65 pruned. Trial was pruned at iteration 5.\u001b[0m\n",
      "\u001b[32m[I 2021-06-19 01:27:47,883]\u001b[0m Trial 66 pruned. Trial was pruned at iteration 5.\u001b[0m\n",
      "\u001b[32m[I 2021-06-19 01:27:47,935]\u001b[0m Trial 67 pruned. Trial was pruned at iteration 5.\u001b[0m\n",
      "\u001b[32m[I 2021-06-19 01:27:48,004]\u001b[0m Trial 68 finished with value: 0.3856247663497925 and parameters: {'max_depth': 3, 'max_features': 'auto', 'min_samples_split': 10, 'min_samples_leaf': 2, 'bootstrap': True}. Best is trial 0 with value: 0.3813921809196472.\u001b[0m\n",
      "\u001b[32m[I 2021-06-19 01:27:48,073]\u001b[0m Trial 69 finished with value: 0.3856247663497925 and parameters: {'max_depth': 3, 'max_features': 'auto', 'min_samples_split': 3, 'min_samples_leaf': 1, 'bootstrap': False}. Best is trial 0 with value: 0.3813921809196472.\u001b[0m\n",
      "\u001b[32m[I 2021-06-19 01:27:48,122]\u001b[0m Trial 70 pruned. Trial was pruned at iteration 5.\u001b[0m\n",
      "\u001b[32m[I 2021-06-19 01:27:48,178]\u001b[0m Trial 71 pruned. Trial was pruned at iteration 5.\u001b[0m\n",
      "\u001b[32m[I 2021-06-19 01:27:48,244]\u001b[0m Trial 72 pruned. Trial was pruned at iteration 5.\u001b[0m\n",
      "\u001b[32m[I 2021-06-19 01:27:48,346]\u001b[0m Trial 73 pruned. Trial was pruned at iteration 5.\u001b[0m\n",
      "\u001b[32m[I 2021-06-19 01:27:48,413]\u001b[0m Trial 74 pruned. Trial was pruned at iteration 5.\u001b[0m\n",
      "\u001b[32m[I 2021-06-19 01:27:48,471]\u001b[0m Trial 75 pruned. Trial was pruned at iteration 5.\u001b[0m\n",
      "\u001b[32m[I 2021-06-19 01:27:48,531]\u001b[0m Trial 76 pruned. Trial was pruned at iteration 5.\u001b[0m\n",
      "\u001b[32m[I 2021-06-19 01:27:48,594]\u001b[0m Trial 77 pruned. Trial was pruned at iteration 5.\u001b[0m\n",
      "\u001b[32m[I 2021-06-19 01:27:48,644]\u001b[0m Trial 78 pruned. Trial was pruned at iteration 5.\u001b[0m\n",
      "\u001b[32m[I 2021-06-19 01:27:48,691]\u001b[0m Trial 79 pruned. Trial was pruned at iteration 5.\u001b[0m\n",
      "\u001b[32m[I 2021-06-19 01:27:48,741]\u001b[0m Trial 80 pruned. Trial was pruned at iteration 5.\u001b[0m\n",
      "\u001b[32m[I 2021-06-19 01:27:48,789]\u001b[0m Trial 81 pruned. Trial was pruned at iteration 5.\u001b[0m\n",
      "\u001b[32m[I 2021-06-19 01:27:48,840]\u001b[0m Trial 82 pruned. Trial was pruned at iteration 5.\u001b[0m\n",
      "\u001b[32m[I 2021-06-19 01:27:48,890]\u001b[0m Trial 83 pruned. Trial was pruned at iteration 5.\u001b[0m\n",
      "\u001b[32m[I 2021-06-19 01:27:48,941]\u001b[0m Trial 84 pruned. Trial was pruned at iteration 5.\u001b[0m\n",
      "\u001b[32m[I 2021-06-19 01:27:48,989]\u001b[0m Trial 85 pruned. Trial was pruned at iteration 5.\u001b[0m\n",
      "\u001b[32m[I 2021-06-19 01:27:49,039]\u001b[0m Trial 86 pruned. Trial was pruned at iteration 5.\u001b[0m\n",
      "\u001b[32m[I 2021-06-19 01:27:49,089]\u001b[0m Trial 87 pruned. Trial was pruned at iteration 5.\u001b[0m\n",
      "\u001b[32m[I 2021-06-19 01:27:49,139]\u001b[0m Trial 88 pruned. Trial was pruned at iteration 5.\u001b[0m\n",
      "\u001b[32m[I 2021-06-19 01:27:49,216]\u001b[0m Trial 89 finished with value: 0.385240763425827 and parameters: {'max_depth': 3, 'max_features': 'sqrt', 'min_samples_split': 4, 'min_samples_leaf': 1, 'bootstrap': False}. Best is trial 0 with value: 0.3813921809196472.\u001b[0m\n",
      "\u001b[32m[I 2021-06-19 01:27:49,289]\u001b[0m Trial 90 finished with value: 0.385240763425827 and parameters: {'max_depth': 3, 'max_features': 'sqrt', 'min_samples_split': 4, 'min_samples_leaf': 2, 'bootstrap': False}. Best is trial 0 with value: 0.3813921809196472.\u001b[0m\n",
      "\u001b[32m[I 2021-06-19 01:27:49,369]\u001b[0m Trial 91 finished with value: 0.385240763425827 and parameters: {'max_depth': 3, 'max_features': 'sqrt', 'min_samples_split': 4, 'min_samples_leaf': 2, 'bootstrap': False}. Best is trial 0 with value: 0.3813921809196472.\u001b[0m\n",
      "\u001b[32m[I 2021-06-19 01:27:49,419]\u001b[0m Trial 92 pruned. Trial was pruned at iteration 5.\u001b[0m\n",
      "\u001b[32m[I 2021-06-19 01:27:49,493]\u001b[0m Trial 93 finished with value: 0.385240763425827 and parameters: {'max_depth': 3, 'max_features': 'sqrt', 'min_samples_split': 5, 'min_samples_leaf': 2, 'bootstrap': False}. Best is trial 0 with value: 0.3813921809196472.\u001b[0m\n",
      "\u001b[32m[I 2021-06-19 01:27:49,546]\u001b[0m Trial 94 pruned. Trial was pruned at iteration 5.\u001b[0m\n",
      "\u001b[32m[I 2021-06-19 01:27:49,609]\u001b[0m Trial 95 pruned. Trial was pruned at iteration 5.\u001b[0m\n",
      "\u001b[32m[I 2021-06-19 01:27:49,684]\u001b[0m Trial 96 finished with value: 0.385240763425827 and parameters: {'max_depth': 3, 'max_features': 'sqrt', 'min_samples_split': 5, 'min_samples_leaf': 2, 'bootstrap': False}. Best is trial 0 with value: 0.3813921809196472.\u001b[0m\n",
      "\u001b[32m[I 2021-06-19 01:27:49,757]\u001b[0m Trial 97 finished with value: 0.385240763425827 and parameters: {'max_depth': 3, 'max_features': 'sqrt', 'min_samples_split': 4, 'min_samples_leaf': 2, 'bootstrap': False}. Best is trial 0 with value: 0.3813921809196472.\u001b[0m\n",
      "\u001b[32m[I 2021-06-19 01:27:49,831]\u001b[0m Trial 98 finished with value: 0.385240763425827 and parameters: {'max_depth': 3, 'max_features': 'sqrt', 'min_samples_split': 5, 'min_samples_leaf': 2, 'bootstrap': False}. Best is trial 0 with value: 0.3813921809196472.\u001b[0m\n",
      "\u001b[32m[I 2021-06-19 01:27:49,883]\u001b[0m Trial 99 pruned. Trial was pruned at iteration 5.\u001b[0m\n"
     ]
    }
   ],
   "source": [
    "study = optuna.create_study(direction='minimize')\n",
    "study.optimize(lambda trial: objective(trial, train2, test2), n_trials=100)\n",
    "\n",
    "trial = study.best_trial\n",
    "\n",
    "print('RMSE: {}'.format(trial.value))\n",
    "print(\"Best hyperparameters: {}\".format(trial.params))"
   ]
  },
  {
   "cell_type": "code",
   "execution_count": 155,
   "metadata": {},
   "outputs": [
    {
     "data": {
      "text/plain": [
       "0.3813921809196472"
      ]
     },
     "execution_count": 155,
     "metadata": {},
     "output_type": "execute_result"
    }
   ],
   "source": [
    "trial.value"
   ]
  },
  {
   "cell_type": "code",
   "execution_count": 156,
   "metadata": {},
   "outputs": [
    {
     "data": {
      "text/plain": [
       "{'max_depth': 2,\n",
       " 'max_features': 'sqrt',\n",
       " 'min_samples_split': 6,\n",
       " 'min_samples_leaf': 4,\n",
       " 'bootstrap': True}"
      ]
     },
     "execution_count": 156,
     "metadata": {},
     "output_type": "execute_result"
    }
   ],
   "source": [
    "trial.params"
   ]
  },
  {
   "cell_type": "code",
   "execution_count": 157,
   "metadata": {},
   "outputs": [],
   "source": [
    "param = {\n",
    "    \"objective\": \"reg:squarederror\",\n",
    "    \"eval_metric\": \"rmse\",\n",
    "    \"n_estimators\": 1000,\n",
    "    'max_depth': 2,\n",
    "    'max_features': 'sqrt',\n",
    "    'min_samples_split': 6,\n",
    "    'min_samples_leaf': 4,\n",
    "    'bootstrap': True\n",
    "    }\n",
    "\n",
    "bst = xgb.train(param, train2)"
   ]
  },
  {
   "cell_type": "code",
   "execution_count": 158,
   "metadata": {
    "scrolled": false
   },
   "outputs": [
    {
     "data": {
      "text/plain": [
       "0.38250852"
      ]
     },
     "execution_count": 158,
     "metadata": {},
     "output_type": "execute_result"
    }
   ],
   "source": [
    "p = bst.predict(test2)\n",
    "sklearn.metrics.mean_squared_error(test1.get_label(), p, squared=False)"
   ]
  },
  {
   "cell_type": "code",
   "execution_count": 159,
   "metadata": {},
   "outputs": [],
   "source": [
    "imp = bst.get_score(importance_type='gain')"
   ]
  },
  {
   "cell_type": "code",
   "execution_count": 160,
   "metadata": {},
   "outputs": [],
   "source": [
    "imp_df = pd.DataFrame(list(zip(imp.values(), list(imp.keys()))),\n",
    "                      columns=[\"Importance\", \"Feature\"])"
   ]
  },
  {
   "cell_type": "code",
   "execution_count": 161,
   "metadata": {},
   "outputs": [
    {
     "data": {
      "text/plain": [
       "Text(0.5, 1.0, 'Variables les plus importantes')"
      ]
     },
     "execution_count": 161,
     "metadata": {},
     "output_type": "execute_result"
    },
    {
     "data": {
      "image/png": "[encoded data removed]",
      "text/plain": [
       "<Figure size 432x288 with 1 Axes>"
      ]
     },
     "metadata": {
      "needs_background": "light"
     },
     "output_type": "display_data"
    }
   ],
   "source": [
    "imp_df.sort_values(\"Importance\").set_index(\"Feature\")[0:20].plot(kind=\"barh\")\n",
    "plt.title(\"Variables les plus importantes\")"
   ]
  },
  {
   "cell_type": "code",
   "execution_count": 162,
   "metadata": {},
   "outputs": [],
   "source": [
    "newdata = pd.read_csv('newdata_transforme.csv', index_col=0)\n",
    "newdata['SalePrice'] = rf.predict(newdata)"
   ]
  },
  {
   "cell_type": "code",
   "execution_count": 163,
   "metadata": {},
   "outputs": [],
   "source": [
    "submission = pd.DataFrame(newdata[\"SalePrice\"])\n",
    "submission = np.exp(submission)\n",
    "submission.to_csv(\"submission3.csv\")"
   ]
  },
  {
   "cell_type": "code",
   "execution_count": null,
   "metadata": {},
   "outputs": [],
   "source": []
  }
 ],
 "metadata": {
  "kernelspec": {
   "display_name": "Python 3",
   "language": "python",
   "name": "python3"
  },
  "language_info": {
   "codemirror_mode": {
    "name": "ipython",
    "version": 3
   },
   "file_extension": ".py",
   "mimetype": "text/x-python",
   "name": "python",
   "nbconvert_exporter": "python",
   "pygments_lexer": "ipython3",
   "version": "3.8.3"
  }
 },
 "nbformat": 4,
 "nbformat_minor": 4
}
