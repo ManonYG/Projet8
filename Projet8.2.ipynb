{
 "cells": [
  {
   "cell_type": "code",
   "execution_count": 21,
   "metadata": {},
   "outputs": [],
   "source": [
    "import os\n",
    "import optuna\n",
    "import pandas as pd\n",
    "import numpy as np\n",
    "import matplotlib.pyplot as plt\n",
    "import sklearn\n",
    "from sklearn.ensemble import RandomForestRegressor\n",
    "\n",
    "os.chdir('C:\\\\Users\\\\manon\\\\OneDrive\\\\Documents\\\\OpenClassrooms\\\\Projet8')"
   ]
  },
  {
   "cell_type": "code",
   "execution_count": 2,
   "metadata": {},
   "outputs": [],
   "source": [
    "%load_ext pycodestyle_magic\n",
    "%pycodestyle_on"
   ]
  },
  {
   "cell_type": "code",
   "execution_count": 3,
   "metadata": {},
   "outputs": [],
   "source": [
    "train = pd.read_csv('train.csv', index_col=0)\n",
    "test = pd.read_csv('test.csv', index_col=0)"
   ]
  },
  {
   "cell_type": "markdown",
   "metadata": {},
   "source": [
    "### D'après \"Comparison Between 5 Regression Algorithm\", les forêts aléatoires semblent particulièrement indiquées pour ces données. C'est donc le modèle sur lequel nous nous pencherons."
   ]
  },
  {
   "cell_type": "code",
   "execution_count": 25,
   "metadata": {
    "scrolled": true
   },
   "outputs": [
    {
     "name": "stderr",
     "output_type": "stream",
     "text": [
      "\u001b[32m[I 2021-06-19 04:04:03,967]\u001b[0m A new study created in memory with name: no-name-5393dde6-82d4-4b91-8136-c84afa2f1f0c\u001b[0m\n",
      "\u001b[32m[I 2021-06-19 04:04:08,248]\u001b[0m Trial 0 finished with value: 0.1584628615717674 and parameters: {'rf_n_estimators': 426, 'rf_max_depth': 7}. Best is trial 0 with value: 0.1584628615717674.\u001b[0m\n",
      "\u001b[32m[I 2021-06-19 04:04:17,342]\u001b[0m Trial 1 finished with value: 0.1531043242183811 and parameters: {'rf_n_estimators': 532, 'rf_max_depth': 30}. Best is trial 1 with value: 0.1531043242183811.\u001b[0m\n",
      "\u001b[32m[I 2021-06-19 04:04:17,498]\u001b[0m Trial 2 finished with value: 0.16707145930732542 and parameters: {'rf_n_estimators': 10, 'rf_max_depth': 9}. Best is trial 1 with value: 0.1531043242183811.\u001b[0m\n",
      "\u001b[32m[I 2021-06-19 04:04:18,018]\u001b[0m Trial 3 finished with value: 0.15626877405122586 and parameters: {'rf_n_estimators': 23, 'rf_max_depth': 22}. Best is trial 1 with value: 0.1531043242183811.\u001b[0m\n",
      "\u001b[32m[I 2021-06-19 04:04:23,497]\u001b[0m Trial 4 finished with value: 0.15304407565062733 and parameters: {'rf_n_estimators': 387, 'rf_max_depth': 10}. Best is trial 4 with value: 0.15304407565062733.\u001b[0m\n",
      "\u001b[32m[I 2021-06-19 04:04:24,199]\u001b[0m Trial 5 finished with value: 0.1546390104924048 and parameters: {'rf_n_estimators': 51, 'rf_max_depth': 9}. Best is trial 4 with value: 0.15304407565062733.\u001b[0m\n",
      "\u001b[32m[I 2021-06-19 04:04:26,669]\u001b[0m Trial 6 finished with value: 0.15640291332056377 and parameters: {'rf_n_estimators': 189, 'rf_max_depth': 8}. Best is trial 4 with value: 0.15304407565062733.\u001b[0m\n",
      "\u001b[32m[I 2021-06-19 04:04:26,961]\u001b[0m Trial 7 finished with value: 0.20436934037610693 and parameters: {'rf_n_estimators': 46, 'rf_max_depth': 3}. Best is trial 4 with value: 0.15304407565062733.\u001b[0m\n",
      "\u001b[32m[I 2021-06-19 04:04:27,147]\u001b[0m Trial 8 finished with value: 0.1674154607158671 and parameters: {'rf_n_estimators': 12, 'rf_max_depth': 8}. Best is trial 4 with value: 0.15304407565062733.\u001b[0m\n",
      "\u001b[32m[I 2021-06-19 04:04:32,231]\u001b[0m Trial 9 finished with value: 0.1630618531161923 and parameters: {'rf_n_estimators': 481, 'rf_max_depth': 6}. Best is trial 4 with value: 0.15304407565062733.\u001b[0m\n",
      "\u001b[32m[I 2021-06-19 04:04:48,973]\u001b[0m Trial 10 finished with value: 0.15304072633761748 and parameters: {'rf_n_estimators': 981, 'rf_max_depth': 18}. Best is trial 10 with value: 0.15304072633761748.\u001b[0m\n",
      "\u001b[32m[I 2021-06-19 04:05:08,144]\u001b[0m Trial 11 finished with value: 0.15258518644758923 and parameters: {'rf_n_estimators': 962, 'rf_max_depth': 17}. Best is trial 11 with value: 0.15258518644758923.\u001b[0m\n",
      "\u001b[32m[I 2021-06-19 04:05:25,162]\u001b[0m Trial 12 finished with value: 0.1523955940975619 and parameters: {'rf_n_estimators': 993, 'rf_max_depth': 17}. Best is trial 12 with value: 0.1523955940975619.\u001b[0m\n",
      "\u001b[32m[I 2021-06-19 04:05:43,515]\u001b[0m Trial 13 finished with value: 0.15316450497945566 and parameters: {'rf_n_estimators': 941, 'rf_max_depth': 16}. Best is trial 12 with value: 0.1523955940975619.\u001b[0m\n",
      "\u001b[32m[I 2021-06-19 04:05:58,980]\u001b[0m Trial 14 finished with value: 0.15206470414484516 and parameters: {'rf_n_estimators': 777, 'rf_max_depth': 32}. Best is trial 14 with value: 0.15206470414484516.\u001b[0m\n",
      "\u001b[32m[I 2021-06-19 04:06:14,587]\u001b[0m Trial 15 finished with value: 0.15322275161557372 and parameters: {'rf_n_estimators': 769, 'rf_max_depth': 32}. Best is trial 14 with value: 0.15206470414484516.\u001b[0m\n",
      "\u001b[32m[I 2021-06-19 04:06:28,222]\u001b[0m Trial 16 finished with value: 0.15312157494707548 and parameters: {'rf_n_estimators': 782, 'rf_max_depth': 27}. Best is trial 14 with value: 0.15206470414484516.\u001b[0m\n",
      "\u001b[32m[I 2021-06-19 04:06:46,202]\u001b[0m Trial 17 finished with value: 0.15350050718753644 and parameters: {'rf_n_estimators': 795, 'rf_max_depth': 13}. Best is trial 14 with value: 0.15206470414484516.\u001b[0m\n",
      "\u001b[32m[I 2021-06-19 04:06:51,298]\u001b[0m Trial 18 finished with value: 0.18319166111492463 and parameters: {'rf_n_estimators': 640, 'rf_max_depth': 4}. Best is trial 14 with value: 0.15206470414484516.\u001b[0m\n",
      "\u001b[32m[I 2021-06-19 04:06:56,005]\u001b[0m Trial 19 finished with value: 0.2401141776152217 and parameters: {'rf_n_estimators': 865, 'rf_max_depth': 2}. Best is trial 14 with value: 0.15206470414484516.\u001b[0m\n",
      "\u001b[32m[I 2021-06-19 04:07:11,200]\u001b[0m Trial 20 finished with value: 0.15287227685808868 and parameters: {'rf_n_estimators': 653, 'rf_max_depth': 24}. Best is trial 14 with value: 0.15206470414484516.\u001b[0m\n",
      "\u001b[32m[I 2021-06-19 04:07:33,158]\u001b[0m Trial 21 finished with value: 0.15298569417654767 and parameters: {'rf_n_estimators': 998, 'rf_max_depth': 13}. Best is trial 14 with value: 0.15206470414484516.\u001b[0m\n",
      "\u001b[32m[I 2021-06-19 04:07:53,527]\u001b[0m Trial 22 finished with value: 0.15302581158488088 and parameters: {'rf_n_estimators': 896, 'rf_max_depth': 20}. Best is trial 14 with value: 0.15206470414484516.\u001b[0m\n",
      "\u001b[32m[I 2021-06-19 04:08:10,548]\u001b[0m Trial 23 finished with value: 0.15274166953815357 and parameters: {'rf_n_estimators': 994, 'rf_max_depth': 13}. Best is trial 14 with value: 0.15206470414484516.\u001b[0m\n",
      "\u001b[32m[I 2021-06-19 04:08:26,508]\u001b[0m Trial 24 finished with value: 0.1530401974501544 and parameters: {'rf_n_estimators': 857, 'rf_max_depth': 16}. Best is trial 14 with value: 0.15206470414484516.\u001b[0m\n",
      "\u001b[32m[I 2021-06-19 04:08:40,978]\u001b[0m Trial 25 finished with value: 0.15322539671781255 and parameters: {'rf_n_estimators': 682, 'rf_max_depth': 30}. Best is trial 14 with value: 0.15206470414484516.\u001b[0m\n",
      "\u001b[32m[I 2021-06-19 04:08:58,745]\u001b[0m Trial 26 finished with value: 0.1533558045460636 and parameters: {'rf_n_estimators': 927, 'rf_max_depth': 24}. Best is trial 14 with value: 0.15206470414484516.\u001b[0m\n",
      "\u001b[32m[I 2021-06-19 04:09:04,285]\u001b[0m Trial 27 finished with value: 0.17051769366631328 and parameters: {'rf_n_estimators': 720, 'rf_max_depth': 5}. Best is trial 14 with value: 0.15206470414484516.\u001b[0m\n",
      "\u001b[32m[I 2021-06-19 04:09:13,167]\u001b[0m Trial 28 finished with value: 0.15311996390892196 and parameters: {'rf_n_estimators': 574, 'rf_max_depth': 12}. Best is trial 14 with value: 0.15206470414484516.\u001b[0m\n",
      "\u001b[32m[I 2021-06-19 04:09:19,304]\u001b[0m Trial 29 finished with value: 0.15275434179479547 and parameters: {'rf_n_estimators': 381, 'rf_max_depth': 17}. Best is trial 14 with value: 0.15206470414484516.\u001b[0m\n",
      "\u001b[32m[I 2021-06-19 04:09:33,698]\u001b[0m Trial 30 finished with value: 0.15260576894119499 and parameters: {'rf_n_estimators': 817, 'rf_max_depth': 32}. Best is trial 14 with value: 0.15206470414484516.\u001b[0m\n",
      "\u001b[32m[I 2021-06-19 04:09:48,294]\u001b[0m Trial 31 finished with value: 0.15277196977286134 and parameters: {'rf_n_estimators': 847, 'rf_max_depth': 27}. Best is trial 14 with value: 0.15206470414484516.\u001b[0m\n",
      "\u001b[32m[I 2021-06-19 04:10:03,720]\u001b[0m Trial 32 finished with value: 0.15267312303975739 and parameters: {'rf_n_estimators': 967, 'rf_max_depth': 21}. Best is trial 14 with value: 0.15206470414484516.\u001b[0m\n",
      "\u001b[32m[I 2021-06-19 04:10:17,757]\u001b[0m Trial 33 finished with value: 0.1526189258205111 and parameters: {'rf_n_estimators': 817, 'rf_max_depth': 32}. Best is trial 14 with value: 0.15206470414484516.\u001b[0m\n",
      "\u001b[32m[I 2021-06-19 04:10:30,718]\u001b[0m Trial 34 finished with value: 0.15295841862373716 and parameters: {'rf_n_estimators': 726, 'rf_max_depth': 25}. Best is trial 14 with value: 0.15206470414484516.\u001b[0m\n",
      "\u001b[32m[I 2021-06-19 04:10:46,884]\u001b[0m Trial 35 finished with value: 0.15343888161581418 and parameters: {'rf_n_estimators': 908, 'rf_max_depth': 32}. Best is trial 14 with value: 0.15206470414484516.\u001b[0m\n",
      "\u001b[32m[I 2021-06-19 04:10:55,667]\u001b[0m Trial 36 finished with value: 0.15304905340320818 and parameters: {'rf_n_estimators': 585, 'rf_max_depth': 11}. Best is trial 14 with value: 0.15206470414484516.\u001b[0m\n",
      "\u001b[32m[I 2021-06-19 04:11:13,737]\u001b[0m Trial 37 finished with value: 0.15310332043297062 and parameters: {'rf_n_estimators': 896, 'rf_max_depth': 20}. Best is trial 14 with value: 0.15206470414484516.\u001b[0m\n",
      "\u001b[32m[I 2021-06-19 04:11:27,763]\u001b[0m Trial 38 finished with value: 0.15266126504026886 and parameters: {'rf_n_estimators': 740, 'rf_max_depth': 15}. Best is trial 14 with value: 0.15206470414484516.\u001b[0m\n",
      "\u001b[32m[I 2021-06-19 04:11:40,061]\u001b[0m Trial 39 finished with value: 0.15419098214745014 and parameters: {'rf_n_estimators': 833, 'rf_max_depth': 10}. Best is trial 14 with value: 0.15206470414484516.\u001b[0m\n"
     ]
    },
    {
     "name": "stderr",
     "output_type": "stream",
     "text": [
      "\u001b[32m[I 2021-06-19 04:11:45,717]\u001b[0m Trial 40 finished with value: 0.15386599619918487 and parameters: {'rf_n_estimators': 292, 'rf_max_depth': 19}. Best is trial 14 with value: 0.15206470414484516.\u001b[0m\n",
      "\u001b[32m[I 2021-06-19 04:12:02,183]\u001b[0m Trial 41 finished with value: 0.1533726338581049 and parameters: {'rf_n_estimators': 820, 'rf_max_depth': 32}. Best is trial 14 with value: 0.15206470414484516.\u001b[0m\n",
      "\u001b[32m[I 2021-06-19 04:12:19,511]\u001b[0m Trial 42 finished with value: 0.15243899350943615 and parameters: {'rf_n_estimators': 942, 'rf_max_depth': 32}. Best is trial 14 with value: 0.15206470414484516.\u001b[0m\n",
      "\u001b[32m[I 2021-06-19 04:12:36,962]\u001b[0m Trial 43 finished with value: 0.15313489925347598 and parameters: {'rf_n_estimators': 998, 'rf_max_depth': 29}. Best is trial 14 with value: 0.15206470414484516.\u001b[0m\n",
      "\u001b[32m[I 2021-06-19 04:12:55,655]\u001b[0m Trial 44 finished with value: 0.15300424012769312 and parameters: {'rf_n_estimators': 953, 'rf_max_depth': 23}. Best is trial 14 with value: 0.15206470414484516.\u001b[0m\n",
      "\u001b[32m[I 2021-06-19 04:13:05,706]\u001b[0m Trial 45 finished with value: 0.15847308756405315 and parameters: {'rf_n_estimators': 937, 'rf_max_depth': 7}. Best is trial 14 with value: 0.15206470414484516.\u001b[0m\n",
      "\u001b[32m[I 2021-06-19 04:13:23,535]\u001b[0m Trial 46 finished with value: 0.15344610796369898 and parameters: {'rf_n_estimators': 877, 'rf_max_depth': 28}. Best is trial 14 with value: 0.15206470414484516.\u001b[0m\n",
      "\u001b[32m[I 2021-06-19 04:13:37,173]\u001b[0m Trial 47 finished with value: 0.15319218444378285 and parameters: {'rf_n_estimators': 759, 'rf_max_depth': 15}. Best is trial 14 with value: 0.15206470414484516.\u001b[0m\n",
      "\u001b[32m[I 2021-06-19 04:13:55,562]\u001b[0m Trial 48 finished with value: 0.15352893445084626 and parameters: {'rf_n_estimators': 966, 'rf_max_depth': 22}. Best is trial 14 with value: 0.15206470414484516.\u001b[0m\n",
      "\u001b[32m[I 2021-06-19 04:14:02,511]\u001b[0m Trial 49 finished with value: 0.15556058054696575 and parameters: {'rf_n_estimators': 482, 'rf_max_depth': 9}. Best is trial 14 with value: 0.15206470414484516.\u001b[0m\n",
      "\u001b[32m[I 2021-06-19 04:14:20,899]\u001b[0m Trial 50 finished with value: 0.15323931073152192 and parameters: {'rf_n_estimators': 918, 'rf_max_depth': 27}. Best is trial 14 with value: 0.15206470414484516.\u001b[0m\n",
      "\u001b[32m[I 2021-06-19 04:14:33,855]\u001b[0m Trial 51 finished with value: 0.1528239385576572 and parameters: {'rf_n_estimators': 798, 'rf_max_depth': 32}. Best is trial 14 with value: 0.15206470414484516.\u001b[0m\n",
      "\u001b[32m[I 2021-06-19 04:14:47,147]\u001b[0m Trial 52 finished with value: 0.1528089746972956 and parameters: {'rf_n_estimators': 692, 'rf_max_depth': 26}. Best is trial 14 with value: 0.15206470414484516.\u001b[0m\n",
      "\u001b[32m[I 2021-06-19 04:15:01,183]\u001b[0m Trial 53 finished with value: 0.15263171608860301 and parameters: {'rf_n_estimators': 801, 'rf_max_depth': 30}. Best is trial 14 with value: 0.15206470414484516.\u001b[0m\n",
      "\u001b[32m[I 2021-06-19 04:15:16,321]\u001b[0m Trial 54 finished with value: 0.15293161591259227 and parameters: {'rf_n_estimators': 863, 'rf_max_depth': 32}. Best is trial 14 with value: 0.15206470414484516.\u001b[0m\n",
      "\u001b[32m[I 2021-06-19 04:15:18,380]\u001b[0m Trial 55 finished with value: 0.1537258847228239 and parameters: {'rf_n_estimators': 132, 'rf_max_depth': 18}. Best is trial 14 with value: 0.15206470414484516.\u001b[0m\n",
      "\u001b[32m[I 2021-06-19 04:15:24,884]\u001b[0m Trial 56 finished with value: 0.17008019427441365 and parameters: {'rf_n_estimators': 995, 'rf_max_depth': 5}. Best is trial 14 with value: 0.15206470414484516.\u001b[0m\n",
      "\u001b[32m[I 2021-06-19 04:15:37,439]\u001b[0m Trial 57 finished with value: 0.15281676750027343 and parameters: {'rf_n_estimators': 827, 'rf_max_depth': 23}. Best is trial 14 with value: 0.15206470414484516.\u001b[0m\n",
      "\u001b[32m[I 2021-06-19 04:15:39,798]\u001b[0m Trial 58 finished with value: 0.2391271450029647 and parameters: {'rf_n_estimators': 886, 'rf_max_depth': 2}. Best is trial 14 with value: 0.15206470414484516.\u001b[0m\n",
      "\u001b[32m[I 2021-06-19 04:15:48,500]\u001b[0m Trial 59 finished with value: 0.15273807173719117 and parameters: {'rf_n_estimators': 766, 'rf_max_depth': 14}. Best is trial 14 with value: 0.15206470414484516.\u001b[0m\n",
      "\u001b[32m[I 2021-06-19 04:15:55,679]\u001b[0m Trial 60 finished with value: 0.15264306951839887 and parameters: {'rf_n_estimators': 603, 'rf_max_depth': 21}. Best is trial 14 with value: 0.15206470414484516.\u001b[0m\n",
      "\u001b[32m[I 2021-06-19 04:16:05,132]\u001b[0m Trial 61 finished with value: 0.1531049874426571 and parameters: {'rf_n_estimators': 800, 'rf_max_depth': 28}. Best is trial 14 with value: 0.15206470414484516.\u001b[0m\n",
      "\u001b[32m[I 2021-06-19 04:16:13,241]\u001b[0m Trial 62 finished with value: 0.15326095697537556 and parameters: {'rf_n_estimators': 689, 'rf_max_depth': 32}. Best is trial 14 with value: 0.15206470414484516.\u001b[0m\n",
      "\u001b[32m[I 2021-06-19 04:16:24,298]\u001b[0m Trial 63 finished with value: 0.15296959828730952 and parameters: {'rf_n_estimators': 932, 'rf_max_depth': 25}. Best is trial 14 with value: 0.15206470414484516.\u001b[0m\n",
      "\u001b[32m[I 2021-06-19 04:16:31,935]\u001b[0m Trial 64 finished with value: 0.15278021147700502 and parameters: {'rf_n_estimators': 643, 'rf_max_depth': 29}. Best is trial 14 with value: 0.15206470414484516.\u001b[0m\n",
      "\u001b[32m[I 2021-06-19 04:16:41,656]\u001b[0m Trial 65 finished with value: 0.15364201974369104 and parameters: {'rf_n_estimators': 820, 'rf_max_depth': 18}. Best is trial 14 with value: 0.15206470414484516.\u001b[0m\n",
      "\u001b[32m[I 2021-06-19 04:16:44,737]\u001b[0m Trial 66 finished with value: 0.20389290021325843 and parameters: {'rf_n_estimators': 854, 'rf_max_depth': 3}. Best is trial 14 with value: 0.15206470414484516.\u001b[0m\n",
      "\u001b[32m[I 2021-06-19 04:16:49,549]\u001b[0m Trial 67 finished with value: 0.16253056428194626 and parameters: {'rf_n_estimators': 775, 'rf_max_depth': 6}. Best is trial 14 with value: 0.15206470414484516.\u001b[0m\n",
      "\u001b[32m[I 2021-06-19 04:16:58,055]\u001b[0m Trial 68 finished with value: 0.15347289303681125 and parameters: {'rf_n_estimators': 718, 'rf_max_depth': 25}. Best is trial 14 with value: 0.15206470414484516.\u001b[0m\n",
      "\u001b[32m[I 2021-06-19 04:17:09,595]\u001b[0m Trial 69 finished with value: 0.15244478596459599 and parameters: {'rf_n_estimators': 975, 'rf_max_depth': 30}. Best is trial 14 with value: 0.15206470414484516.\u001b[0m\n",
      "\u001b[32m[I 2021-06-19 04:17:17,293]\u001b[0m Trial 70 finished with value: 0.15594546711114024 and parameters: {'rf_n_estimators': 969, 'rf_max_depth': 8}. Best is trial 14 with value: 0.15206470414484516.\u001b[0m\n",
      "\u001b[32m[I 2021-06-19 04:17:28,000]\u001b[0m Trial 71 finished with value: 0.1526851083234785 and parameters: {'rf_n_estimators': 903, 'rf_max_depth': 30}. Best is trial 14 with value: 0.15206470414484516.\u001b[0m\n",
      "\u001b[32m[I 2021-06-19 04:17:39,065]\u001b[0m Trial 72 finished with value: 0.152933431320155 and parameters: {'rf_n_estimators': 950, 'rf_max_depth': 32}. Best is trial 14 with value: 0.15206470414484516.\u001b[0m\n",
      "\u001b[32m[I 2021-06-19 04:17:50,937]\u001b[0m Trial 73 finished with value: 0.15272215402621578 and parameters: {'rf_n_estimators': 996, 'rf_max_depth': 29}. Best is trial 14 with value: 0.15206470414484516.\u001b[0m\n",
      "\u001b[32m[I 2021-06-19 04:18:01,417]\u001b[0m Trial 74 finished with value: 0.15333486699105076 and parameters: {'rf_n_estimators': 885, 'rf_max_depth': 23}. Best is trial 14 with value: 0.15206470414484516.\u001b[0m\n",
      "\u001b[32m[I 2021-06-19 04:18:10,268]\u001b[0m Trial 75 finished with value: 0.15266883862563552 and parameters: {'rf_n_estimators': 749, 'rf_max_depth': 20}. Best is trial 14 with value: 0.15206470414484516.\u001b[0m\n",
      "\u001b[32m[I 2021-06-19 04:18:21,171]\u001b[0m Trial 76 finished with value: 0.1530675378733417 and parameters: {'rf_n_estimators': 922, 'rf_max_depth': 26}. Best is trial 14 with value: 0.15206470414484516.\u001b[0m\n",
      "\u001b[32m[I 2021-06-19 04:18:29,444]\u001b[0m Trial 77 finished with value: 0.15330604434808898 and parameters: {'rf_n_estimators': 801, 'rf_max_depth': 11}. Best is trial 14 with value: 0.15206470414484516.\u001b[0m\n",
      "\u001b[32m[I 2021-06-19 04:18:39,449]\u001b[0m Trial 78 finished with value: 0.15284500335034562 and parameters: {'rf_n_estimators': 843, 'rf_max_depth': 16}. Best is trial 14 with value: 0.15206470414484516.\u001b[0m\n",
      "\u001b[32m[I 2021-06-19 04:18:51,050]\u001b[0m Trial 79 finished with value: 0.15316311552464704 and parameters: {'rf_n_estimators': 978, 'rf_max_depth': 29}. Best is trial 14 with value: 0.15206470414484516.\u001b[0m\n",
      "\u001b[32m[I 2021-06-19 04:18:56,066]\u001b[0m Trial 80 finished with value: 0.15289327269887695 and parameters: {'rf_n_estimators': 419, 'rf_max_depth': 24}. Best is trial 14 with value: 0.15206470414484516.\u001b[0m\n"
     ]
    },
    {
     "name": "stderr",
     "output_type": "stream",
     "text": [
      "\u001b[32m[I 2021-06-19 04:19:02,314]\u001b[0m Trial 81 finished with value: 0.15215909084211662 and parameters: {'rf_n_estimators': 523, 'rf_max_depth': 21}. Best is trial 14 with value: 0.15206470414484516.\u001b[0m\n",
      "\u001b[32m[I 2021-06-19 04:19:08,347]\u001b[0m Trial 82 finished with value: 0.15247576069947322 and parameters: {'rf_n_estimators': 516, 'rf_max_depth': 17}. Best is trial 14 with value: 0.15206470414484516.\u001b[0m\n",
      "\u001b[32m[I 2021-06-19 04:19:14,321]\u001b[0m Trial 83 finished with value: 0.1529582347261376 and parameters: {'rf_n_estimators': 518, 'rf_max_depth': 14}. Best is trial 14 with value: 0.15206470414484516.\u001b[0m\n",
      "\u001b[32m[I 2021-06-19 04:19:21,694]\u001b[0m Trial 84 finished with value: 0.15231412200645092 and parameters: {'rf_n_estimators': 544, 'rf_max_depth': 17}. Best is trial 14 with value: 0.15206470414484516.\u001b[0m\n",
      "\u001b[32m[I 2021-06-19 04:19:28,370]\u001b[0m Trial 85 finished with value: 0.15361165435410612 and parameters: {'rf_n_estimators': 534, 'rf_max_depth': 17}. Best is trial 14 with value: 0.15206470414484516.\u001b[0m\n",
      "\u001b[32m[I 2021-06-19 04:19:34,468]\u001b[0m Trial 86 finished with value: 0.15362730684596027 and parameters: {'rf_n_estimators': 552, 'rf_max_depth': 12}. Best is trial 14 with value: 0.15206470414484516.\u001b[0m\n",
      "\u001b[32m[I 2021-06-19 04:19:39,928]\u001b[0m Trial 87 finished with value: 0.1538151131208694 and parameters: {'rf_n_estimators': 451, 'rf_max_depth': 17}. Best is trial 14 with value: 0.15206470414484516.\u001b[0m\n",
      "\u001b[32m[I 2021-06-19 04:19:43,824]\u001b[0m Trial 88 finished with value: 0.15296725253913904 and parameters: {'rf_n_estimators': 318, 'rf_max_depth': 19}. Best is trial 14 with value: 0.15206470414484516.\u001b[0m\n",
      "\u001b[32m[I 2021-06-19 04:19:50,858]\u001b[0m Trial 89 finished with value: 0.1540519640101513 and parameters: {'rf_n_estimators': 605, 'rf_max_depth': 14}. Best is trial 14 with value: 0.15206470414484516.\u001b[0m\n",
      "\u001b[32m[I 2021-06-19 04:19:56,606]\u001b[0m Trial 90 finished with value: 0.15366784988520846 and parameters: {'rf_n_estimators': 499, 'rf_max_depth': 15}. Best is trial 14 with value: 0.15206470414484516.\u001b[0m\n",
      "\u001b[32m[I 2021-06-19 04:20:02,077]\u001b[0m Trial 91 finished with value: 0.1524583501878428 and parameters: {'rf_n_estimators': 463, 'rf_max_depth': 21}. Best is trial 14 with value: 0.15206470414484516.\u001b[0m\n",
      "\u001b[32m[I 2021-06-19 04:20:07,365]\u001b[0m Trial 92 finished with value: 0.15307964242257407 and parameters: {'rf_n_estimators': 445, 'rf_max_depth': 21}. Best is trial 14 with value: 0.15206470414484516.\u001b[0m\n",
      "\u001b[32m[I 2021-06-19 04:20:11,934]\u001b[0m Trial 93 finished with value: 0.15296651764858646 and parameters: {'rf_n_estimators': 378, 'rf_max_depth': 19}. Best is trial 14 with value: 0.15206470414484516.\u001b[0m\n",
      "\u001b[32m[I 2021-06-19 04:20:18,467]\u001b[0m Trial 94 finished with value: 0.15242008635039817 and parameters: {'rf_n_estimators': 555, 'rf_max_depth': 22}. Best is trial 14 with value: 0.15206470414484516.\u001b[0m\n",
      "\u001b[32m[I 2021-06-19 04:20:25,218]\u001b[0m Trial 95 finished with value: 0.15237907909565163 and parameters: {'rf_n_estimators': 558, 'rf_max_depth': 22}. Best is trial 14 with value: 0.15206470414484516.\u001b[0m\n",
      "\u001b[32m[I 2021-06-19 04:20:32,058]\u001b[0m Trial 96 finished with value: 0.1527215205052285 and parameters: {'rf_n_estimators': 550, 'rf_max_depth': 22}. Best is trial 14 with value: 0.15206470414484516.\u001b[0m\n",
      "\u001b[32m[I 2021-06-19 04:20:37,865]\u001b[0m Trial 97 finished with value: 0.15360329998974748 and parameters: {'rf_n_estimators': 481, 'rf_max_depth': 22}. Best is trial 14 with value: 0.15206470414484516.\u001b[0m\n",
      "\u001b[32m[I 2021-06-19 04:20:45,380]\u001b[0m Trial 98 finished with value: 0.15282184694634926 and parameters: {'rf_n_estimators': 618, 'rf_max_depth': 19}. Best is trial 14 with value: 0.15206470414484516.\u001b[0m\n",
      "\u001b[32m[I 2021-06-19 04:20:52,227]\u001b[0m Trial 99 finished with value: 0.1528562597846506 and parameters: {'rf_n_estimators': 575, 'rf_max_depth': 16}. Best is trial 14 with value: 0.15206470414484516.\u001b[0m\n",
      "16:80: E501 line too long (81 > 79 characters)\n",
      "18:1: W293 blank line contains whitespace\n"
     ]
    },
    {
     "name": "stdout",
     "output_type": "stream",
     "text": [
      "RMSE: 0.15206470414484516\n",
      "Best hyperparameters: {'rf_n_estimators': 777, 'rf_max_depth': 32}\n"
     ]
    }
   ],
   "source": [
    "def objective(trial, train, test):\n",
    "    X_train = train.drop(columns=[\"SalePrice\"])\n",
    "    y_train = train.SalePrice\n",
    "    X_test = test.drop(columns=[\"SalePrice\"])\n",
    "    y_test = test.SalePrice\n",
    "\n",
    "    rf_n_estimators = trial.suggest_int(\"rf_n_estimators\", 10, 1000)\n",
    "    rf_max_depth = trial.suggest_int(\"rf_max_depth\", 2, 32, log=True)\n",
    "    regressor_obj = RandomForestRegressor(\n",
    "        max_depth=rf_max_depth, n_estimators=rf_n_estimators)\n",
    "\n",
    "    regressor_obj.fit(X_train, y_train)\n",
    "\n",
    "    preds = regressor_obj.predict(X_test)\n",
    "\n",
    "    rmse_score = sklearn.metrics.mean_squared_error(y_test, preds, squared=False)\n",
    "    return rmse_score\n",
    "    \n",
    "\n",
    "study = optuna.create_study(direction='minimize')\n",
    "study.optimize(lambda trial: objective(trial, train, test), n_trials=100)\n",
    "\n",
    "trial = study.best_trial\n",
    "\n",
    "print('RMSE: {}'.format(trial.value))\n",
    "print(\"Best hyperparameters: {}\".format(trial.params))"
   ]
  },
  {
   "cell_type": "code",
   "execution_count": 27,
   "metadata": {},
   "outputs": [],
   "source": [
    "X_train = train.drop(columns=[\"SalePrice\"])\n",
    "y_train = train.SalePrice\n",
    "X_test = test.drop(columns=[\"SalePrice\"])\n",
    "y_test = test.SalePrice"
   ]
  },
  {
   "cell_type": "code",
   "execution_count": 28,
   "metadata": {},
   "outputs": [
    {
     "data": {
      "text/plain": [
       "RandomForestRegressor(max_depth=32, n_estimators=77)"
      ]
     },
     "execution_count": 28,
     "metadata": {},
     "output_type": "execute_result"
    }
   ],
   "source": [
    "rf = RandomForestRegressor(max_depth=32, n_estimators=77)\n",
    "rf.fit(X_train, y_train)"
   ]
  },
  {
   "cell_type": "code",
   "execution_count": 29,
   "metadata": {},
   "outputs": [
    {
     "data": {
      "text/plain": [
       "0.15263115158804713"
      ]
     },
     "execution_count": 29,
     "metadata": {},
     "output_type": "execute_result"
    }
   ],
   "source": [
    "p = rf.predict(X_test)\n",
    "sklearn.metrics.mean_squared_error(y_test, p, squared=False)"
   ]
  },
  {
   "cell_type": "code",
   "execution_count": 34,
   "metadata": {},
   "outputs": [],
   "source": [
    "imp_df = pd.DataFrame(list(zip(X_train.columns, rf.feature_importances_)),\n",
    "                      columns=[\"Feature\", \"Importance\"])"
   ]
  },
  {
   "cell_type": "code",
   "execution_count": 35,
   "metadata": {},
   "outputs": [
    {
     "data": {
      "text/plain": [
       "Text(0.5, 1.0, 'Variables les plus importantes')"
      ]
     },
     "execution_count": 35,
     "metadata": {},
     "output_type": "execute_result"
    },
    {
     "data": {
      "image/png": "[encoded data removed]",
      "text/plain": [
       "<Figure size 432x288 with 1 Axes>"
      ]
     },
     "metadata": {
      "needs_background": "light"
     },
     "output_type": "display_data"
    }
   ],
   "source": [
    "imp_df.sort_values(\"Importance\").set_index(\"Feature\")[0:20].plot(kind=\"barh\")\n",
    "plt.title(\"Variables les plus importantes\")"
   ]
  },
  {
   "cell_type": "code",
   "execution_count": 36,
   "metadata": {},
   "outputs": [],
   "source": [
    "newdata = pd.read_csv('newdata_transforme.csv', index_col=0)\n",
    "newdata['SalePrice'] = rf.predict(newdata)"
   ]
  },
  {
   "cell_type": "code",
   "execution_count": 122,
   "metadata": {},
   "outputs": [],
   "source": [
    "submission = pd.DataFrame(newdata[\"SalePrice\"])\n",
    "submission = np.exp(submission)\n",
    "submission.to_csv(\"submission.csv\")"
   ]
  },
  {
   "cell_type": "code",
   "execution_count": 26,
   "metadata": {},
   "outputs": [
    {
     "name": "stderr",
     "output_type": "stream",
     "text": [
      "\u001b[32m[I 2021-06-19 04:20:52,268]\u001b[0m A new study created in memory with name: no-name-74715467-b63d-4a30-a139-5a85dd330adf\u001b[0m\n",
      "\u001b[32m[I 2021-06-19 04:20:55,861]\u001b[0m Trial 0 finished with value: 0.20372640895940927 and parameters: {'rf_max_depth': 3, 'max_features': 'auto', 'min_samples_split': 10, 'min_samples_leaf': 4, 'bootstrap': True}. Best is trial 0 with value: 0.20372640895940927.\u001b[0m\n",
      "\u001b[32m[I 2021-06-19 04:20:57,148]\u001b[0m Trial 1 finished with value: 0.21392013933715034 and parameters: {'rf_max_depth': 3, 'max_features': 'sqrt', 'min_samples_split': 5, 'min_samples_leaf': 3, 'bootstrap': True}. Best is trial 0 with value: 0.20372640895940927.\u001b[0m\n",
      "\u001b[32m[I 2021-06-19 04:21:10,276]\u001b[0m Trial 2 finished with value: 0.20574970437400789 and parameters: {'rf_max_depth': 11, 'max_features': 'auto', 'min_samples_split': 6, 'min_samples_leaf': 3, 'bootstrap': False}. Best is trial 0 with value: 0.20372640895940927.\u001b[0m\n",
      "\u001b[32m[I 2021-06-19 04:21:12,272]\u001b[0m Trial 3 finished with value: 0.1613613562620423 and parameters: {'rf_max_depth': 23, 'max_features': 'sqrt', 'min_samples_split': 7, 'min_samples_leaf': 4, 'bootstrap': True}. Best is trial 3 with value: 0.1613613562620423.\u001b[0m\n",
      "\u001b[32m[I 2021-06-19 04:21:15,100]\u001b[0m Trial 4 finished with value: 0.23951208762959225 and parameters: {'rf_max_depth': 2, 'max_features': 'auto', 'min_samples_split': 4, 'min_samples_leaf': 2, 'bootstrap': True}. Best is trial 3 with value: 0.1613613562620423.\u001b[0m\n",
      "\u001b[32m[I 2021-06-19 04:21:21,119]\u001b[0m Trial 5 finished with value: 0.16349514499207668 and parameters: {'rf_max_depth': 6, 'max_features': 'auto', 'min_samples_split': 10, 'min_samples_leaf': 2, 'bootstrap': True}. Best is trial 3 with value: 0.1613613562620423.\u001b[0m\n",
      "\u001b[32m[I 2021-06-19 04:21:22,546]\u001b[0m Trial 6 finished with value: 0.17907685510846913 and parameters: {'rf_max_depth': 5, 'max_features': 'sqrt', 'min_samples_split': 8, 'min_samples_leaf': 1, 'bootstrap': False}. Best is trial 3 with value: 0.1613613562620423.\u001b[0m\n",
      "\u001b[32m[I 2021-06-19 04:21:36,531]\u001b[0m Trial 7 finished with value: 0.19919935391604407 and parameters: {'rf_max_depth': 32, 'max_features': 'auto', 'min_samples_split': 10, 'min_samples_leaf': 2, 'bootstrap': False}. Best is trial 3 with value: 0.1613613562620423.\u001b[0m\n",
      "\u001b[32m[I 2021-06-19 04:21:39,435]\u001b[0m Trial 8 finished with value: 0.23911559439595523 and parameters: {'rf_max_depth': 2, 'max_features': 'auto', 'min_samples_split': 2, 'min_samples_leaf': 4, 'bootstrap': True}. Best is trial 3 with value: 0.1613613562620423.\u001b[0m\n",
      "\u001b[32m[I 2021-06-19 04:21:41,865]\u001b[0m Trial 9 finished with value: 0.1536310504370341 and parameters: {'rf_max_depth': 15, 'max_features': 'sqrt', 'min_samples_split': 3, 'min_samples_leaf': 1, 'bootstrap': True}. Best is trial 9 with value: 0.1536310504370341.\u001b[0m\n",
      "\u001b[32m[I 2021-06-19 04:21:44,456]\u001b[0m Trial 10 finished with value: 0.1545446636662397 and parameters: {'rf_max_depth': 14, 'max_features': 'sqrt', 'min_samples_split': 2, 'min_samples_leaf': 1, 'bootstrap': True}. Best is trial 9 with value: 0.1536310504370341.\u001b[0m\n",
      "\u001b[32m[I 2021-06-19 04:21:47,319]\u001b[0m Trial 11 finished with value: 0.15486719599747958 and parameters: {'rf_max_depth': 15, 'max_features': 'sqrt', 'min_samples_split': 2, 'min_samples_leaf': 1, 'bootstrap': True}. Best is trial 9 with value: 0.1536310504370341.\u001b[0m\n",
      "\u001b[32m[I 2021-06-19 04:21:49,710]\u001b[0m Trial 12 finished with value: 0.15464781437599806 and parameters: {'rf_max_depth': 13, 'max_features': 'sqrt', 'min_samples_split': 3, 'min_samples_leaf': 1, 'bootstrap': True}. Best is trial 9 with value: 0.1536310504370341.\u001b[0m\n",
      "\u001b[32m[I 2021-06-19 04:21:52,199]\u001b[0m Trial 13 finished with value: 0.1538695117485466 and parameters: {'rf_max_depth': 21, 'max_features': 'sqrt', 'min_samples_split': 3, 'min_samples_leaf': 1, 'bootstrap': True}. Best is trial 9 with value: 0.1536310504370341.\u001b[0m\n",
      "\u001b[32m[I 2021-06-19 04:21:54,472]\u001b[0m Trial 14 finished with value: 0.15638250563050865 and parameters: {'rf_max_depth': 25, 'max_features': 'sqrt', 'min_samples_split': 4, 'min_samples_leaf': 2, 'bootstrap': True}. Best is trial 9 with value: 0.1536310504370341.\u001b[0m\n",
      "\u001b[32m[I 2021-06-19 04:21:56,304]\u001b[0m Trial 15 finished with value: 0.16367301436725118 and parameters: {'rf_max_depth': 21, 'max_features': 'sqrt', 'min_samples_split': 4, 'min_samples_leaf': 5, 'bootstrap': True}. Best is trial 9 with value: 0.1536310504370341.\u001b[0m\n",
      "\u001b[32m[I 2021-06-19 04:21:58,356]\u001b[0m Trial 16 finished with value: 0.1579863739303111 and parameters: {'rf_max_depth': 9, 'max_features': 'sqrt', 'min_samples_split': 3, 'min_samples_leaf': 1, 'bootstrap': True}. Best is trial 9 with value: 0.1536310504370341.\u001b[0m\n",
      "\u001b[32m[I 2021-06-19 04:22:00,949]\u001b[0m Trial 17 finished with value: 0.15255536042472423 and parameters: {'rf_max_depth': 32, 'max_features': 'sqrt', 'min_samples_split': 5, 'min_samples_leaf': 2, 'bootstrap': False}. Best is trial 17 with value: 0.15255536042472423.\u001b[0m\n",
      "\u001b[32m[I 2021-06-19 04:22:03,465]\u001b[0m Trial 18 finished with value: 0.1519971507862763 and parameters: {'rf_max_depth': 32, 'max_features': 'sqrt', 'min_samples_split': 6, 'min_samples_leaf': 2, 'bootstrap': False}. Best is trial 18 with value: 0.1519971507862763.\u001b[0m\n",
      "\u001b[32m[I 2021-06-19 04:22:05,806]\u001b[0m Trial 19 finished with value: 0.15502423485273917 and parameters: {'rf_max_depth': 25, 'max_features': 'sqrt', 'min_samples_split': 8, 'min_samples_leaf': 3, 'bootstrap': False}. Best is trial 18 with value: 0.1519971507862763.\u001b[0m\n",
      "\u001b[32m[I 2021-06-19 04:22:08,361]\u001b[0m Trial 20 finished with value: 0.15232337673438456 and parameters: {'rf_max_depth': 30, 'max_features': 'sqrt', 'min_samples_split': 6, 'min_samples_leaf': 2, 'bootstrap': False}. Best is trial 18 with value: 0.1519971507862763.\u001b[0m\n",
      "\u001b[32m[I 2021-06-19 04:22:10,878]\u001b[0m Trial 21 finished with value: 0.1517577410822472 and parameters: {'rf_max_depth': 30, 'max_features': 'sqrt', 'min_samples_split': 6, 'min_samples_leaf': 2, 'bootstrap': False}. Best is trial 21 with value: 0.1517577410822472.\u001b[0m\n",
      "\u001b[32m[I 2021-06-19 04:22:13,451]\u001b[0m Trial 22 finished with value: 0.15176666391798954 and parameters: {'rf_max_depth': 31, 'max_features': 'sqrt', 'min_samples_split': 7, 'min_samples_leaf': 2, 'bootstrap': False}. Best is trial 21 with value: 0.1517577410822472.\u001b[0m\n",
      "\u001b[32m[I 2021-06-19 04:22:15,893]\u001b[0m Trial 23 finished with value: 0.1543625288632587 and parameters: {'rf_max_depth': 19, 'max_features': 'sqrt', 'min_samples_split': 7, 'min_samples_leaf': 3, 'bootstrap': False}. Best is trial 21 with value: 0.1517577410822472.\u001b[0m\n",
      "\u001b[32m[I 2021-06-19 04:22:18,286]\u001b[0m Trial 24 finished with value: 0.15346940831580488 and parameters: {'rf_max_depth': 31, 'max_features': 'sqrt', 'min_samples_split': 8, 'min_samples_leaf': 2, 'bootstrap': False}. Best is trial 21 with value: 0.1517577410822472.\u001b[0m\n",
      "\u001b[32m[I 2021-06-19 04:22:20,854]\u001b[0m Trial 25 finished with value: 0.1527263709673032 and parameters: {'rf_max_depth': 31, 'max_features': 'sqrt', 'min_samples_split': 7, 'min_samples_leaf': 2, 'bootstrap': False}. Best is trial 21 with value: 0.1517577410822472.\u001b[0m\n",
      "\u001b[32m[I 2021-06-19 04:22:23,126]\u001b[0m Trial 26 finished with value: 0.15551401251767824 and parameters: {'rf_max_depth': 17, 'max_features': 'sqrt', 'min_samples_split': 9, 'min_samples_leaf': 3, 'bootstrap': False}. Best is trial 21 with value: 0.1517577410822472.\u001b[0m\n",
      "\u001b[32m[I 2021-06-19 04:22:25,271]\u001b[0m Trial 27 finished with value: 0.1558677747030534 and parameters: {'rf_max_depth': 9, 'max_features': 'sqrt', 'min_samples_split': 5, 'min_samples_leaf': 2, 'bootstrap': False}. Best is trial 21 with value: 0.1517577410822472.\u001b[0m\n",
      "\u001b[32m[I 2021-06-19 04:22:27,787]\u001b[0m Trial 28 finished with value: 0.15242394364727618 and parameters: {'rf_max_depth': 27, 'max_features': 'sqrt', 'min_samples_split': 6, 'min_samples_leaf': 2, 'bootstrap': False}. Best is trial 21 with value: 0.1517577410822472.\u001b[0m\n",
      "\u001b[32m[I 2021-06-19 04:22:29,191]\u001b[0m Trial 29 finished with value: 0.19195996520605332 and parameters: {'rf_max_depth': 4, 'max_features': 'sqrt', 'min_samples_split': 7, 'min_samples_leaf': 3, 'bootstrap': False}. Best is trial 21 with value: 0.1517577410822472.\u001b[0m\n",
      "\u001b[32m[I 2021-06-19 04:22:31,539]\u001b[0m Trial 30 finished with value: 0.1535758884554776 and parameters: {'rf_max_depth': 18, 'max_features': 'sqrt', 'min_samples_split': 9, 'min_samples_leaf': 2, 'bootstrap': False}. Best is trial 21 with value: 0.1517577410822472.\u001b[0m\n"
     ]
    },
    {
     "name": "stderr",
     "output_type": "stream",
     "text": [
      "\u001b[32m[I 2021-06-19 04:22:34,180]\u001b[0m Trial 31 finished with value: 0.15243335023372862 and parameters: {'rf_max_depth': 32, 'max_features': 'sqrt', 'min_samples_split': 6, 'min_samples_leaf': 2, 'bootstrap': False}. Best is trial 21 with value: 0.1517577410822472.\u001b[0m\n",
      "\u001b[32m[I 2021-06-19 04:22:36,622]\u001b[0m Trial 32 finished with value: 0.1541026967863258 and parameters: {'rf_max_depth': 26, 'max_features': 'sqrt', 'min_samples_split': 6, 'min_samples_leaf': 3, 'bootstrap': False}. Best is trial 21 with value: 0.1517577410822472.\u001b[0m\n",
      "\u001b[32m[I 2021-06-19 04:22:39,276]\u001b[0m Trial 33 finished with value: 0.15199818342431376 and parameters: {'rf_max_depth': 27, 'max_features': 'sqrt', 'min_samples_split': 5, 'min_samples_leaf': 2, 'bootstrap': False}. Best is trial 21 with value: 0.1517577410822472.\u001b[0m\n",
      "\u001b[32m[I 2021-06-19 04:22:40,333]\u001b[0m Trial 34 finished with value: 0.24508762253436747 and parameters: {'rf_max_depth': 2, 'max_features': 'sqrt', 'min_samples_split': 5, 'min_samples_leaf': 3, 'bootstrap': False}. Best is trial 21 with value: 0.1517577410822472.\u001b[0m\n",
      "\u001b[32m[I 2021-06-19 04:22:43,074]\u001b[0m Trial 35 finished with value: 0.1522091720169109 and parameters: {'rf_max_depth': 23, 'max_features': 'sqrt', 'min_samples_split': 5, 'min_samples_leaf': 2, 'bootstrap': False}. Best is trial 21 with value: 0.1517577410822472.\u001b[0m\n",
      "\u001b[32m[I 2021-06-19 04:22:56,581]\u001b[0m Trial 36 finished with value: 0.1981916728131768 and parameters: {'rf_max_depth': 11, 'max_features': 'auto', 'min_samples_split': 7, 'min_samples_leaf': 2, 'bootstrap': False}. Best is trial 21 with value: 0.1517577410822472.\u001b[0m\n",
      "\u001b[32m[I 2021-06-19 04:22:58,983]\u001b[0m Trial 37 finished with value: 0.1564866363760998 and parameters: {'rf_max_depth': 21, 'max_features': 'sqrt', 'min_samples_split': 5, 'min_samples_leaf': 4, 'bootstrap': False}. Best is trial 21 with value: 0.1517577410822472.\u001b[0m\n",
      "\u001b[32m[I 2021-06-19 04:23:01,394]\u001b[0m Trial 38 finished with value: 0.15398781554551375 and parameters: {'rf_max_depth': 27, 'max_features': 'sqrt', 'min_samples_split': 6, 'min_samples_leaf': 3, 'bootstrap': False}. Best is trial 21 with value: 0.1517577410822472.\u001b[0m\n",
      "\u001b[32m[I 2021-06-19 04:23:04,888]\u001b[0m Trial 39 finished with value: 0.2617764716069976 and parameters: {'rf_max_depth': 2, 'max_features': 'auto', 'min_samples_split': 7, 'min_samples_leaf': 1, 'bootstrap': False}. Best is trial 21 with value: 0.1517577410822472.\u001b[0m\n",
      "\u001b[32m[I 2021-06-19 04:23:06,172]\u001b[0m Trial 40 finished with value: 0.2133160489741248 and parameters: {'rf_max_depth': 3, 'max_features': 'sqrt', 'min_samples_split': 8, 'min_samples_leaf': 2, 'bootstrap': False}. Best is trial 21 with value: 0.1517577410822472.\u001b[0m\n",
      "\u001b[32m[I 2021-06-19 04:23:08,887]\u001b[0m Trial 41 finished with value: 0.15158199196504252 and parameters: {'rf_max_depth': 22, 'max_features': 'sqrt', 'min_samples_split': 4, 'min_samples_leaf': 2, 'bootstrap': False}. Best is trial 41 with value: 0.15158199196504252.\u001b[0m\n",
      "\u001b[32m[I 2021-06-19 04:23:11,720]\u001b[0m Trial 42 finished with value: 0.1515820828979969 and parameters: {'rf_max_depth': 28, 'max_features': 'sqrt', 'min_samples_split': 4, 'min_samples_leaf': 2, 'bootstrap': False}. Best is trial 41 with value: 0.15158199196504252.\u001b[0m\n",
      "\u001b[32m[I 2021-06-19 04:23:14,404]\u001b[0m Trial 43 finished with value: 0.1515809823753 and parameters: {'rf_max_depth': 32, 'max_features': 'sqrt', 'min_samples_split': 4, 'min_samples_leaf': 2, 'bootstrap': False}. Best is trial 43 with value: 0.1515809823753.\u001b[0m\n",
      "\u001b[32m[I 2021-06-19 04:23:17,405]\u001b[0m Trial 44 finished with value: 0.14918935848770373 and parameters: {'rf_max_depth': 17, 'max_features': 'sqrt', 'min_samples_split': 4, 'min_samples_leaf': 1, 'bootstrap': False}. Best is trial 44 with value: 0.14918935848770373.\u001b[0m\n",
      "\u001b[32m[I 2021-06-19 04:23:20,419]\u001b[0m Trial 45 finished with value: 0.14988981454896586 and parameters: {'rf_max_depth': 16, 'max_features': 'sqrt', 'min_samples_split': 4, 'min_samples_leaf': 1, 'bootstrap': False}. Best is trial 44 with value: 0.14918935848770373.\u001b[0m\n",
      "\u001b[32m[I 2021-06-19 04:23:36,311]\u001b[0m Trial 46 finished with value: 0.20762463211087354 and parameters: {'rf_max_depth': 12, 'max_features': 'auto', 'min_samples_split': 4, 'min_samples_leaf': 1, 'bootstrap': False}. Best is trial 44 with value: 0.14918935848770373.\u001b[0m\n",
      "\u001b[32m[I 2021-06-19 04:23:39,241]\u001b[0m Trial 47 finished with value: 0.1497384419629015 and parameters: {'rf_max_depth': 16, 'max_features': 'sqrt', 'min_samples_split': 4, 'min_samples_leaf': 1, 'bootstrap': False}. Best is trial 44 with value: 0.14918935848770373.\u001b[0m\n",
      "\u001b[32m[I 2021-06-19 04:23:42,346]\u001b[0m Trial 48 finished with value: 0.14954673531854185 and parameters: {'rf_max_depth': 16, 'max_features': 'sqrt', 'min_samples_split': 3, 'min_samples_leaf': 1, 'bootstrap': False}. Best is trial 44 with value: 0.14918935848770373.\u001b[0m\n",
      "\u001b[32m[I 2021-06-19 04:23:44,669]\u001b[0m Trial 49 finished with value: 0.15386739334687313 and parameters: {'rf_max_depth': 9, 'max_features': 'sqrt', 'min_samples_split': 3, 'min_samples_leaf': 1, 'bootstrap': False}. Best is trial 44 with value: 0.14918935848770373.\u001b[0m\n",
      "\u001b[32m[I 2021-06-19 04:23:46,500]\u001b[0m Trial 50 finished with value: 0.16121113755473282 and parameters: {'rf_max_depth': 7, 'max_features': 'sqrt', 'min_samples_split': 2, 'min_samples_leaf': 1, 'bootstrap': False}. Best is trial 44 with value: 0.14918935848770373.\u001b[0m\n",
      "\u001b[32m[I 2021-06-19 04:23:49,441]\u001b[0m Trial 51 finished with value: 0.14925458474288134 and parameters: {'rf_max_depth': 16, 'max_features': 'sqrt', 'min_samples_split': 4, 'min_samples_leaf': 1, 'bootstrap': False}. Best is trial 44 with value: 0.14918935848770373.\u001b[0m\n",
      "\u001b[32m[I 2021-06-19 04:23:52,452]\u001b[0m Trial 52 finished with value: 0.14947817716753045 and parameters: {'rf_max_depth': 15, 'max_features': 'sqrt', 'min_samples_split': 3, 'min_samples_leaf': 1, 'bootstrap': False}. Best is trial 44 with value: 0.14918935848770373.\u001b[0m\n",
      "\u001b[32m[I 2021-06-19 04:23:55,479]\u001b[0m Trial 53 finished with value: 0.1496195430364525 and parameters: {'rf_max_depth': 16, 'max_features': 'sqrt', 'min_samples_split': 3, 'min_samples_leaf': 1, 'bootstrap': False}. Best is trial 44 with value: 0.14918935848770373.\u001b[0m\n",
      "\u001b[32m[I 2021-06-19 04:23:58,376]\u001b[0m Trial 54 finished with value: 0.14928036125547461 and parameters: {'rf_max_depth': 14, 'max_features': 'sqrt', 'min_samples_split': 3, 'min_samples_leaf': 1, 'bootstrap': False}. Best is trial 44 with value: 0.14918935848770373.\u001b[0m\n",
      "\u001b[32m[I 2021-06-19 04:24:01,321]\u001b[0m Trial 55 finished with value: 0.14930960629703682 and parameters: {'rf_max_depth': 14, 'max_features': 'sqrt', 'min_samples_split': 3, 'min_samples_leaf': 1, 'bootstrap': False}. Best is trial 44 with value: 0.14918935848770373.\u001b[0m\n",
      "\u001b[32m[I 2021-06-19 04:24:04,199]\u001b[0m Trial 56 finished with value: 0.1490386094384156 and parameters: {'rf_max_depth': 13, 'max_features': 'sqrt', 'min_samples_split': 3, 'min_samples_leaf': 1, 'bootstrap': False}. Best is trial 56 with value: 0.1490386094384156.\u001b[0m\n",
      "\u001b[32m[I 2021-06-19 04:24:07,253]\u001b[0m Trial 57 finished with value: 0.14958680651818507 and parameters: {'rf_max_depth': 13, 'max_features': 'sqrt', 'min_samples_split': 2, 'min_samples_leaf': 1, 'bootstrap': False}. Best is trial 56 with value: 0.1490386094384156.\u001b[0m\n",
      "\u001b[32m[I 2021-06-19 04:24:09,954]\u001b[0m Trial 58 finished with value: 0.15007795215193934 and parameters: {'rf_max_depth': 11, 'max_features': 'sqrt', 'min_samples_split': 2, 'min_samples_leaf': 1, 'bootstrap': False}. Best is trial 56 with value: 0.1490386094384156.\u001b[0m\n",
      "\u001b[32m[I 2021-06-19 04:24:23,902]\u001b[0m Trial 59 finished with value: 0.2063044153486659 and parameters: {'rf_max_depth': 10, 'max_features': 'auto', 'min_samples_split': 3, 'min_samples_leaf': 1, 'bootstrap': False}. Best is trial 56 with value: 0.1490386094384156.\u001b[0m\n",
      "\u001b[32m[I 2021-06-19 04:24:25,875]\u001b[0m Trial 60 finished with value: 0.1564323394719839 and parameters: {'rf_max_depth': 8, 'max_features': 'sqrt', 'min_samples_split': 3, 'min_samples_leaf': 1, 'bootstrap': False}. Best is trial 56 with value: 0.1490386094384156.\u001b[0m\n",
      "\u001b[32m[I 2021-06-19 04:24:28,829]\u001b[0m Trial 61 finished with value: 0.14908369300129082 and parameters: {'rf_max_depth': 14, 'max_features': 'sqrt', 'min_samples_split': 3, 'min_samples_leaf': 1, 'bootstrap': False}. Best is trial 56 with value: 0.1490386094384156.\u001b[0m\n"
     ]
    },
    {
     "name": "stderr",
     "output_type": "stream",
     "text": [
      "\u001b[32m[I 2021-06-19 04:24:31,808]\u001b[0m Trial 62 finished with value: 0.14923065092342253 and parameters: {'rf_max_depth': 14, 'max_features': 'sqrt', 'min_samples_split': 3, 'min_samples_leaf': 1, 'bootstrap': False}. Best is trial 56 with value: 0.1490386094384156.\u001b[0m\n",
      "\u001b[32m[I 2021-06-19 04:24:34,755]\u001b[0m Trial 63 finished with value: 0.1491172193647221 and parameters: {'rf_max_depth': 14, 'max_features': 'sqrt', 'min_samples_split': 3, 'min_samples_leaf': 1, 'bootstrap': False}. Best is trial 56 with value: 0.1490386094384156.\u001b[0m\n",
      "\u001b[32m[I 2021-06-19 04:24:36,908]\u001b[0m Trial 64 finished with value: 0.15786022383050038 and parameters: {'rf_max_depth': 19, 'max_features': 'sqrt', 'min_samples_split': 2, 'min_samples_leaf': 5, 'bootstrap': False}. Best is trial 56 with value: 0.1490386094384156.\u001b[0m\n",
      "\u001b[32m[I 2021-06-19 04:24:39,756]\u001b[0m Trial 65 finished with value: 0.1494250124899512 and parameters: {'rf_max_depth': 13, 'max_features': 'sqrt', 'min_samples_split': 3, 'min_samples_leaf': 1, 'bootstrap': False}. Best is trial 56 with value: 0.1490386094384156.\u001b[0m\n",
      "\u001b[32m[I 2021-06-19 04:24:42,108]\u001b[0m Trial 66 finished with value: 0.1556351596995924 and parameters: {'rf_max_depth': 11, 'max_features': 'sqrt', 'min_samples_split': 2, 'min_samples_leaf': 1, 'bootstrap': True}. Best is trial 56 with value: 0.1490386094384156.\u001b[0m\n",
      "\u001b[32m[I 2021-06-19 04:24:45,056]\u001b[0m Trial 67 finished with value: 0.1494495686205278 and parameters: {'rf_max_depth': 14, 'max_features': 'sqrt', 'min_samples_split': 3, 'min_samples_leaf': 1, 'bootstrap': False}. Best is trial 56 with value: 0.1490386094384156.\u001b[0m\n",
      "\u001b[32m[I 2021-06-19 04:24:48,051]\u001b[0m Trial 68 finished with value: 0.14963106447725927 and parameters: {'rf_max_depth': 19, 'max_features': 'sqrt', 'min_samples_split': 4, 'min_samples_leaf': 1, 'bootstrap': False}. Best is trial 56 with value: 0.1490386094384156.\u001b[0m\n",
      "\u001b[32m[I 2021-06-19 04:24:50,842]\u001b[0m Trial 69 finished with value: 0.15018904808478065 and parameters: {'rf_max_depth': 13, 'max_features': 'sqrt', 'min_samples_split': 3, 'min_samples_leaf': 1, 'bootstrap': False}. Best is trial 56 with value: 0.1490386094384156.\u001b[0m\n",
      "\u001b[32m[I 2021-06-19 04:24:53,695]\u001b[0m Trial 70 finished with value: 0.1503459165896622 and parameters: {'rf_max_depth': 12, 'max_features': 'sqrt', 'min_samples_split': 2, 'min_samples_leaf': 1, 'bootstrap': False}. Best is trial 56 with value: 0.1490386094384156.\u001b[0m\n",
      "\u001b[32m[I 2021-06-19 04:24:56,753]\u001b[0m Trial 71 finished with value: 0.14979220986635838 and parameters: {'rf_max_depth': 14, 'max_features': 'sqrt', 'min_samples_split': 3, 'min_samples_leaf': 1, 'bootstrap': False}. Best is trial 56 with value: 0.1490386094384156.\u001b[0m\n",
      "\u001b[32m[I 2021-06-19 04:24:59,872]\u001b[0m Trial 72 finished with value: 0.1493879035752555 and parameters: {'rf_max_depth': 18, 'max_features': 'sqrt', 'min_samples_split': 3, 'min_samples_leaf': 1, 'bootstrap': False}. Best is trial 56 with value: 0.1490386094384156.\u001b[0m\n",
      "\u001b[32m[I 2021-06-19 04:25:02,307]\u001b[0m Trial 73 finished with value: 0.15214539517662054 and parameters: {'rf_max_depth': 10, 'max_features': 'sqrt', 'min_samples_split': 4, 'min_samples_leaf': 1, 'bootstrap': False}. Best is trial 56 with value: 0.1490386094384156.\u001b[0m\n",
      "\u001b[32m[I 2021-06-19 04:25:05,725]\u001b[0m Trial 74 finished with value: 0.1496251185132852 and parameters: {'rf_max_depth': 17, 'max_features': 'sqrt', 'min_samples_split': 2, 'min_samples_leaf': 1, 'bootstrap': False}. Best is trial 56 with value: 0.1490386094384156.\u001b[0m\n",
      "\u001b[32m[I 2021-06-19 04:25:08,653]\u001b[0m Trial 75 finished with value: 0.14924413335775744 and parameters: {'rf_max_depth': 14, 'max_features': 'sqrt', 'min_samples_split': 3, 'min_samples_leaf': 1, 'bootstrap': False}. Best is trial 56 with value: 0.1490386094384156.\u001b[0m\n",
      "\u001b[32m[I 2021-06-19 04:25:11,391]\u001b[0m Trial 76 finished with value: 0.15008909386092492 and parameters: {'rf_max_depth': 12, 'max_features': 'sqrt', 'min_samples_split': 4, 'min_samples_leaf': 1, 'bootstrap': False}. Best is trial 56 with value: 0.1490386094384156.\u001b[0m\n",
      "\u001b[32m[I 2021-06-19 04:25:14,687]\u001b[0m Trial 77 finished with value: 0.14960632394896417 and parameters: {'rf_max_depth': 23, 'max_features': 'sqrt', 'min_samples_split': 3, 'min_samples_leaf': 1, 'bootstrap': False}. Best is trial 56 with value: 0.1490386094384156.\u001b[0m\n",
      "\u001b[32m[I 2021-06-19 04:25:17,151]\u001b[0m Trial 78 finished with value: 0.1542448473063822 and parameters: {'rf_max_depth': 21, 'max_features': 'sqrt', 'min_samples_split': 4, 'min_samples_leaf': 1, 'bootstrap': True}. Best is trial 56 with value: 0.1490386094384156.\u001b[0m\n",
      "\u001b[32m[I 2021-06-19 04:25:19,695]\u001b[0m Trial 79 finished with value: 0.15192053973000785 and parameters: {'rf_max_depth': 10, 'max_features': 'sqrt', 'min_samples_split': 2, 'min_samples_leaf': 1, 'bootstrap': False}. Best is trial 56 with value: 0.1490386094384156.\u001b[0m\n",
      "\u001b[32m[I 2021-06-19 04:25:22,784]\u001b[0m Trial 80 finished with value: 0.1490553006343321 and parameters: {'rf_max_depth': 18, 'max_features': 'sqrt', 'min_samples_split': 3, 'min_samples_leaf': 1, 'bootstrap': False}. Best is trial 56 with value: 0.1490386094384156.\u001b[0m\n",
      "\u001b[32m[I 2021-06-19 04:25:25,799]\u001b[0m Trial 81 finished with value: 0.14924114821689105 and parameters: {'rf_max_depth': 15, 'max_features': 'sqrt', 'min_samples_split': 3, 'min_samples_leaf': 1, 'bootstrap': False}. Best is trial 56 with value: 0.1490386094384156.\u001b[0m\n",
      "\u001b[32m[I 2021-06-19 04:25:28,792]\u001b[0m Trial 82 finished with value: 0.14923423168853311 and parameters: {'rf_max_depth': 15, 'max_features': 'sqrt', 'min_samples_split': 3, 'min_samples_leaf': 1, 'bootstrap': False}. Best is trial 56 with value: 0.1490386094384156.\u001b[0m\n",
      "\u001b[32m[I 2021-06-19 04:25:31,883]\u001b[0m Trial 83 finished with value: 0.14964532788785492 and parameters: {'rf_max_depth': 18, 'max_features': 'sqrt', 'min_samples_split': 3, 'min_samples_leaf': 1, 'bootstrap': False}. Best is trial 56 with value: 0.1490386094384156.\u001b[0m\n",
      "\u001b[32m[I 2021-06-19 04:25:35,008]\u001b[0m Trial 84 finished with value: 0.14982022025136632 and parameters: {'rf_max_depth': 17, 'max_features': 'sqrt', 'min_samples_split': 3, 'min_samples_leaf': 1, 'bootstrap': False}. Best is trial 56 with value: 0.1490386094384156.\u001b[0m\n",
      "\u001b[32m[I 2021-06-19 04:25:38,408]\u001b[0m Trial 85 finished with value: 0.14834759643956466 and parameters: {'rf_max_depth': 20, 'max_features': 'sqrt', 'min_samples_split': 2, 'min_samples_leaf': 1, 'bootstrap': False}. Best is trial 85 with value: 0.14834759643956466.\u001b[0m\n",
      "\u001b[32m[I 2021-06-19 04:25:40,634]\u001b[0m Trial 86 finished with value: 0.15601360314692309 and parameters: {'rf_max_depth': 19, 'max_features': 'sqrt', 'min_samples_split': 2, 'min_samples_leaf': 4, 'bootstrap': False}. Best is trial 85 with value: 0.14834759643956466.\u001b[0m\n",
      "\u001b[32m[I 2021-06-19 04:25:59,730]\u001b[0m Trial 87 finished with value: 0.2081339730407886 and parameters: {'rf_max_depth': 20, 'max_features': 'auto', 'min_samples_split': 2, 'min_samples_leaf': 1, 'bootstrap': False}. Best is trial 85 with value: 0.14834759643956466.\u001b[0m\n",
      "\u001b[32m[I 2021-06-19 04:26:03,172]\u001b[0m Trial 88 finished with value: 0.14852187931317834 and parameters: {'rf_max_depth': 23, 'max_features': 'sqrt', 'min_samples_split': 2, 'min_samples_leaf': 1, 'bootstrap': False}. Best is trial 85 with value: 0.14834759643956466.\u001b[0m\n",
      "\u001b[32m[I 2021-06-19 04:26:06,621]\u001b[0m Trial 89 finished with value: 0.1486372157784754 and parameters: {'rf_max_depth': 24, 'max_features': 'sqrt', 'min_samples_split': 2, 'min_samples_leaf': 1, 'bootstrap': False}. Best is trial 85 with value: 0.14834759643956466.\u001b[0m\n",
      "\u001b[32m[I 2021-06-19 04:26:10,032]\u001b[0m Trial 90 finished with value: 0.14924835309643897 and parameters: {'rf_max_depth': 25, 'max_features': 'sqrt', 'min_samples_split': 2, 'min_samples_leaf': 1, 'bootstrap': False}. Best is trial 85 with value: 0.14834759643956466.\u001b[0m\n",
      "\u001b[32m[I 2021-06-19 04:26:13,438]\u001b[0m Trial 91 finished with value: 0.14885045487575135 and parameters: {'rf_max_depth': 25, 'max_features': 'sqrt', 'min_samples_split': 2, 'min_samples_leaf': 1, 'bootstrap': False}. Best is trial 85 with value: 0.14834759643956466.\u001b[0m\n",
      "\u001b[32m[I 2021-06-19 04:26:16,855]\u001b[0m Trial 92 finished with value: 0.14921792491963298 and parameters: {'rf_max_depth': 25, 'max_features': 'sqrt', 'min_samples_split': 2, 'min_samples_leaf': 1, 'bootstrap': False}. Best is trial 85 with value: 0.14834759643956466.\u001b[0m\n"
     ]
    },
    {
     "name": "stderr",
     "output_type": "stream",
     "text": [
      "\u001b[32m[I 2021-06-19 04:26:20,452]\u001b[0m Trial 93 finished with value: 0.14892485597454916 and parameters: {'rf_max_depth': 25, 'max_features': 'sqrt', 'min_samples_split': 2, 'min_samples_leaf': 1, 'bootstrap': False}. Best is trial 85 with value: 0.14834759643956466.\u001b[0m\n",
      "\u001b[32m[I 2021-06-19 04:26:24,084]\u001b[0m Trial 94 finished with value: 0.14866740466286266 and parameters: {'rf_max_depth': 23, 'max_features': 'sqrt', 'min_samples_split': 2, 'min_samples_leaf': 1, 'bootstrap': False}. Best is trial 85 with value: 0.14834759643956466.\u001b[0m\n",
      "\u001b[32m[I 2021-06-19 04:26:27,522]\u001b[0m Trial 95 finished with value: 0.1494303207012843 and parameters: {'rf_max_depth': 22, 'max_features': 'sqrt', 'min_samples_split': 2, 'min_samples_leaf': 1, 'bootstrap': False}. Best is trial 85 with value: 0.14834759643956466.\u001b[0m\n",
      "\u001b[32m[I 2021-06-19 04:26:30,947]\u001b[0m Trial 96 finished with value: 0.14819845780177682 and parameters: {'rf_max_depth': 29, 'max_features': 'sqrt', 'min_samples_split': 2, 'min_samples_leaf': 1, 'bootstrap': False}. Best is trial 96 with value: 0.14819845780177682.\u001b[0m\n",
      "\u001b[32m[I 2021-06-19 04:26:34,353]\u001b[0m Trial 97 finished with value: 0.1491579145659318 and parameters: {'rf_max_depth': 29, 'max_features': 'sqrt', 'min_samples_split': 2, 'min_samples_leaf': 1, 'bootstrap': False}. Best is trial 96 with value: 0.14819845780177682.\u001b[0m\n",
      "\u001b[32m[I 2021-06-19 04:26:37,886]\u001b[0m Trial 98 finished with value: 0.14861784137615366 and parameters: {'rf_max_depth': 23, 'max_features': 'sqrt', 'min_samples_split': 2, 'min_samples_leaf': 1, 'bootstrap': False}. Best is trial 96 with value: 0.14819845780177682.\u001b[0m\n",
      "\u001b[32m[I 2021-06-19 04:26:41,329]\u001b[0m Trial 99 finished with value: 0.14930443354589784 and parameters: {'rf_max_depth': 24, 'max_features': 'sqrt', 'min_samples_split': 2, 'min_samples_leaf': 1, 'bootstrap': False}. Best is trial 96 with value: 0.14819845780177682.\u001b[0m\n",
      "8:80: E501 line too long (81 > 79 characters)\n",
      "13:80: E501 line too long (80 > 79 characters)\n",
      "14:80: E501 line too long (85 > 79 characters)\n",
      "21:80: E501 line too long (81 > 79 characters)\n",
      "23:1: W293 blank line contains whitespace\n"
     ]
    },
    {
     "name": "stdout",
     "output_type": "stream",
     "text": [
      "RMSE: 0.14819845780177682\n",
      "Best hyperparameters: {'rf_max_depth': 29, 'max_features': 'sqrt', 'min_samples_split': 2, 'min_samples_leaf': 1, 'bootstrap': False}\n"
     ]
    }
   ],
   "source": [
    "def objective(trial, train, test):\n",
    "    X_train = train.drop(columns=[\"SalePrice\"])\n",
    "    y_train = train.SalePrice\n",
    "    X_test = test.drop(columns=[\"SalePrice\"])\n",
    "    y_test = test.SalePrice\n",
    "\n",
    "    rf_max_depth = trial.suggest_int(\"rf_max_depth\", 2, 32, log=True)\n",
    "    rf_max_features = trial.suggest_categorical(\"max_features\", [\"auto\", \"sqrt\"])\n",
    "    rf_min_samples_split = trial.suggest_int(\"min_samples_split\", 2, 10)\n",
    "    rf_min_samples_leaf = trial.suggest_int(\"min_samples_leaf\", 1, 5)\n",
    "    rf_bootstrap = trial.suggest_categorical(\"bootstrap\", [True, False])\n",
    "    regressor_obj = RandomForestRegressor(\n",
    "        max_depth=rf_max_depth, n_estimators=1000, max_features=rf_max_features,\n",
    "        min_samples_split=rf_min_samples_split, min_samples_leaf=rf_min_samples_leaf,\n",
    "        bootstrap=rf_bootstrap)\n",
    "\n",
    "    regressor_obj.fit(X_train, y_train)\n",
    "\n",
    "    preds = regressor_obj.predict(X_test)\n",
    "\n",
    "    rmse_score = sklearn.metrics.mean_squared_error(y_test, preds, squared=False)\n",
    "    return rmse_score\n",
    "    \n",
    "\n",
    "study = optuna.create_study(direction='minimize')\n",
    "study.optimize(lambda trial: objective(trial, train, test), n_trials=100)\n",
    "\n",
    "trial = study.best_trial\n",
    "\n",
    "print('RMSE: {}'.format(trial.value))\n",
    "print(\"Best hyperparameters: {}\".format(trial.params))"
   ]
  },
  {
   "cell_type": "code",
   "execution_count": 68,
   "metadata": {},
   "outputs": [
    {
     "data": {
      "text/plain": [
       "RandomForestRegressor(bootstrap=False, max_depth=29, max_features='sqrt')"
      ]
     },
     "execution_count": 68,
     "metadata": {},
     "output_type": "execute_result"
    }
   ],
   "source": [
    "rf = RandomForestRegressor(max_depth=29, max_features='sqrt',\n",
    "                           min_samples_split=2, min_samples_leaf=1,\n",
    "                           bootstrap=False)\n",
    "rf.fit(X_train, y_train)"
   ]
  },
  {
   "cell_type": "code",
   "execution_count": 39,
   "metadata": {},
   "outputs": [
    {
     "data": {
      "text/plain": [
       "0.15163728652655092"
      ]
     },
     "execution_count": 39,
     "metadata": {},
     "output_type": "execute_result"
    }
   ],
   "source": [
    "p = rf.predict(X_test)\n",
    "sklearn.metrics.mean_squared_error(y_test, p, squared=False)"
   ]
  },
  {
   "cell_type": "code",
   "execution_count": 40,
   "metadata": {},
   "outputs": [],
   "source": [
    "imp_df = pd.DataFrame(list(zip(X_train.columns, rf.feature_importances_)),\n",
    "                      columns=[\"Feature\", \"Importance\"])"
   ]
  },
  {
   "cell_type": "code",
   "execution_count": 41,
   "metadata": {},
   "outputs": [
    {
     "data": {
      "text/plain": [
       "Text(0.5, 1.0, 'Variables les plus importantes')"
      ]
     },
     "execution_count": 41,
     "metadata": {},
     "output_type": "execute_result"
    },
    {
     "data": {
      "image/png": "[encoded data removed]",
      "text/plain": [
       "<Figure size 432x288 with 1 Axes>"
      ]
     },
     "metadata": {
      "needs_background": "light"
     },
     "output_type": "display_data"
    }
   ],
   "source": [
    "imp_df.sort_values(\"Importance\").set_index(\"Feature\")[0:20].plot(kind=\"barh\")\n",
    "plt.title(\"Variables les plus importantes\")"
   ]
  },
  {
   "cell_type": "code",
   "execution_count": 69,
   "metadata": {},
   "outputs": [],
   "source": [
    "newdata = pd.read_csv('newdata_transforme.csv', index_col=0)\n",
    "newdata['SalePrice'] = rf.predict(newdata)"
   ]
  },
  {
   "cell_type": "code",
   "execution_count": 167,
   "metadata": {},
   "outputs": [],
   "source": [
    "submission = pd.DataFrame(newdata[\"SalePrice\"])\n",
    "submission = np.exp(submission)\n",
    "submission.to_csv(\"submission2.csv\")"
   ]
  },
  {
   "cell_type": "code",
   "execution_count": 70,
   "metadata": {},
   "outputs": [
    {
     "data": {
      "text/plain": [
       "0.011944278084837442"
      ]
     },
     "execution_count": 70,
     "metadata": {},
     "output_type": "execute_result"
    }
   ],
   "source": [
    "0.14345/newdata['SalePrice'].mean()"
   ]
  },
  {
   "cell_type": "markdown",
   "metadata": {},
   "source": [
    "### Nouveau test : sélectionnons manuellement une partie seulement des variables, qui semblent être particulièrement importantes d'après l'analyse"
   ]
  },
  {
   "cell_type": "code",
   "execution_count": 50,
   "metadata": {},
   "outputs": [],
   "source": [
    "imp_vars = [\"OverallQual\", \"YearBuilt\", \"YearRemodAdd\", \"BsmtFinSF1\",\n",
    "            \"TotalBsmtSF\", \"1stFlrSF\", \"2ndFlrSF\", \"GrLivArea\",\n",
    "            \"TotRmsAbvGrd\", \"Fireplaces\", \"GarageArea\", \"WoodDeckSF\",\n",
    "            \"MSZoning\", \"Alley\", \"Neighborhood\", \"Condition1\", \"Condition2\",\n",
    "            \"HouseStyle\", \"MasVnrType\", \"ExterQual\", \"Foundation\", \"BsmtQual\",\n",
    "            \"CentralAir\", \"KitchenQual\", \"GarageQual\", \"PoolQC\", \"SaleType\",\n",
    "            \"SalePrice\"]"
   ]
  },
  {
   "cell_type": "code",
   "execution_count": 51,
   "metadata": {},
   "outputs": [],
   "source": [
    "train2 = train[imp_vars]\n",
    "test2 = test[imp_vars]"
   ]
  },
  {
   "cell_type": "code",
   "execution_count": 52,
   "metadata": {
    "scrolled": true
   },
   "outputs": [
    {
     "name": "stderr",
     "output_type": "stream",
     "text": [
      "\u001b[32m[I 2021-06-19 09:57:05,082]\u001b[0m A new study created in memory with name: no-name-23278fd0-5a6a-4e11-a392-46ec24ae100a\u001b[0m\n",
      "\u001b[32m[I 2021-06-19 09:57:06,813]\u001b[0m Trial 0 finished with value: 0.16108763493824288 and parameters: {'rf_max_depth': 16, 'max_features': 'sqrt', 'min_samples_split': 4, 'min_samples_leaf': 5, 'bootstrap': True}. Best is trial 0 with value: 0.16108763493824288.\u001b[0m\n",
      "\u001b[32m[I 2021-06-19 09:57:12,799]\u001b[0m Trial 1 finished with value: 0.202923744114055 and parameters: {'rf_max_depth': 9, 'max_features': 'auto', 'min_samples_split': 4, 'min_samples_leaf': 3, 'bootstrap': False}. Best is trial 0 with value: 0.16108763493824288.\u001b[0m\n",
      "\u001b[32m[I 2021-06-19 09:57:14,625]\u001b[0m Trial 2 finished with value: 0.15144949319290626 and parameters: {'rf_max_depth': 8, 'max_features': 'sqrt', 'min_samples_split': 2, 'min_samples_leaf': 1, 'bootstrap': False}. Best is trial 2 with value: 0.15144949319290626.\u001b[0m\n",
      "\u001b[32m[I 2021-06-19 09:57:16,235]\u001b[0m Trial 3 finished with value: 0.16078768005649888 and parameters: {'rf_max_depth': 7, 'max_features': 'sqrt', 'min_samples_split': 8, 'min_samples_leaf': 5, 'bootstrap': False}. Best is trial 2 with value: 0.15144949319290626.\u001b[0m\n",
      "\u001b[32m[I 2021-06-19 09:57:17,813]\u001b[0m Trial 4 finished with value: 0.16033937396766562 and parameters: {'rf_max_depth': 6, 'max_features': 'sqrt', 'min_samples_split': 6, 'min_samples_leaf': 1, 'bootstrap': False}. Best is trial 2 with value: 0.15144949319290626.\u001b[0m\n",
      "\u001b[32m[I 2021-06-19 09:57:19,382]\u001b[0m Trial 5 finished with value: 0.17052342941267412 and parameters: {'rf_max_depth': 5, 'max_features': 'sqrt', 'min_samples_split': 10, 'min_samples_leaf': 4, 'bootstrap': False}. Best is trial 2 with value: 0.15144949319290626.\u001b[0m\n",
      "\u001b[32m[I 2021-06-19 09:57:21,090]\u001b[0m Trial 6 finished with value: 0.1571006856199782 and parameters: {'rf_max_depth': 7, 'max_features': 'sqrt', 'min_samples_split': 6, 'min_samples_leaf': 2, 'bootstrap': False}. Best is trial 2 with value: 0.15144949319290626.\u001b[0m\n",
      "\u001b[32m[I 2021-06-19 09:57:23,707]\u001b[0m Trial 7 finished with value: 0.18588992712577299 and parameters: {'rf_max_depth': 4, 'max_features': 'auto', 'min_samples_split': 3, 'min_samples_leaf': 2, 'bootstrap': True}. Best is trial 2 with value: 0.15144949319290626.\u001b[0m\n",
      "\u001b[32m[I 2021-06-19 09:57:25,541]\u001b[0m Trial 8 finished with value: 0.1570975800134811 and parameters: {'rf_max_depth': 15, 'max_features': 'sqrt', 'min_samples_split': 10, 'min_samples_leaf': 2, 'bootstrap': True}. Best is trial 2 with value: 0.15144949319290626.\u001b[0m\n",
      "\u001b[32m[I 2021-06-19 09:57:27,588]\u001b[0m Trial 9 finished with value: 0.1555706228687762 and parameters: {'rf_max_depth': 24, 'max_features': 'sqrt', 'min_samples_split': 5, 'min_samples_leaf': 2, 'bootstrap': True}. Best is trial 2 with value: 0.15144949319290626.\u001b[0m\n",
      "\u001b[32m[I 2021-06-19 09:57:29,767]\u001b[0m Trial 10 finished with value: 0.26123846047305493 and parameters: {'rf_max_depth': 2, 'max_features': 'auto', 'min_samples_split': 2, 'min_samples_leaf': 1, 'bootstrap': False}. Best is trial 2 with value: 0.15144949319290626.\u001b[0m\n",
      "\u001b[32m[I 2021-06-19 09:57:32,449]\u001b[0m Trial 11 finished with value: 0.1515248810564214 and parameters: {'rf_max_depth': 26, 'max_features': 'sqrt', 'min_samples_split': 2, 'min_samples_leaf': 1, 'bootstrap': True}. Best is trial 2 with value: 0.15144949319290626.\u001b[0m\n",
      "\u001b[32m[I 2021-06-19 09:57:34,984]\u001b[0m Trial 12 finished with value: 0.15184629232223032 and parameters: {'rf_max_depth': 28, 'max_features': 'sqrt', 'min_samples_split': 2, 'min_samples_leaf': 1, 'bootstrap': True}. Best is trial 2 with value: 0.15144949319290626.\u001b[0m\n",
      "\u001b[32m[I 2021-06-19 09:57:36,468]\u001b[0m Trial 13 finished with value: 0.2024536947420041 and parameters: {'rf_max_depth': 3, 'max_features': 'sqrt', 'min_samples_split': 2, 'min_samples_leaf': 1, 'bootstrap': True}. Best is trial 2 with value: 0.15144949319290626.\u001b[0m\n",
      "\u001b[32m[I 2021-06-19 09:57:38,634]\u001b[0m Trial 14 finished with value: 0.15336555411577352 and parameters: {'rf_max_depth': 13, 'max_features': 'sqrt', 'min_samples_split': 3, 'min_samples_leaf': 3, 'bootstrap': False}. Best is trial 2 with value: 0.15144949319290626.\u001b[0m\n",
      "\u001b[32m[I 2021-06-19 09:57:40,543]\u001b[0m Trial 15 finished with value: 0.15347046806562725 and parameters: {'rf_max_depth': 30, 'max_features': 'sqrt', 'min_samples_split': 8, 'min_samples_leaf': 1, 'bootstrap': True}. Best is trial 2 with value: 0.15144949319290626.\u001b[0m\n",
      "\u001b[32m[I 2021-06-19 09:57:41,745]\u001b[0m Trial 16 finished with value: 0.23392682645413018 and parameters: {'rf_max_depth': 2, 'max_features': 'sqrt', 'min_samples_split': 3, 'min_samples_leaf': 2, 'bootstrap': True}. Best is trial 2 with value: 0.15144949319290626.\u001b[0m\n",
      "\u001b[32m[I 2021-06-19 09:57:48,113]\u001b[0m Trial 17 finished with value: 0.19638855201039374 and parameters: {'rf_max_depth': 21, 'max_features': 'auto', 'min_samples_split': 4, 'min_samples_leaf': 4, 'bootstrap': False}. Best is trial 2 with value: 0.15144949319290626.\u001b[0m\n",
      "\u001b[32m[I 2021-06-19 09:57:50,158]\u001b[0m Trial 18 finished with value: 0.14868436158319348 and parameters: {'rf_max_depth': 11, 'max_features': 'sqrt', 'min_samples_split': 7, 'min_samples_leaf': 1, 'bootstrap': False}. Best is trial 18 with value: 0.14868436158319348.\u001b[0m\n",
      "\u001b[32m[I 2021-06-19 09:57:52,092]\u001b[0m Trial 19 finished with value: 0.15498805709698077 and parameters: {'rf_max_depth': 10, 'max_features': 'sqrt', 'min_samples_split': 8, 'min_samples_leaf': 3, 'bootstrap': False}. Best is trial 18 with value: 0.14868436158319348.\u001b[0m\n",
      "\u001b[32m[I 2021-06-19 09:57:58,678]\u001b[0m Trial 20 finished with value: 0.1981973239799517 and parameters: {'rf_max_depth': 10, 'max_features': 'auto', 'min_samples_split': 7, 'min_samples_leaf': 2, 'bootstrap': False}. Best is trial 18 with value: 0.14868436158319348.\u001b[0m\n",
      "\u001b[32m[I 2021-06-19 09:58:00,814]\u001b[0m Trial 21 finished with value: 0.14975247889420293 and parameters: {'rf_max_depth': 19, 'max_features': 'sqrt', 'min_samples_split': 9, 'min_samples_leaf': 1, 'bootstrap': False}. Best is trial 18 with value: 0.14868436158319348.\u001b[0m\n",
      "\u001b[32m[I 2021-06-19 09:58:02,862]\u001b[0m Trial 22 finished with value: 0.14964364850612058 and parameters: {'rf_max_depth': 12, 'max_features': 'sqrt', 'min_samples_split': 9, 'min_samples_leaf': 1, 'bootstrap': False}. Best is trial 18 with value: 0.14868436158319348.\u001b[0m\n",
      "\u001b[32m[I 2021-06-19 09:58:04,994]\u001b[0m Trial 23 finished with value: 0.14959553022783506 and parameters: {'rf_max_depth': 18, 'max_features': 'sqrt', 'min_samples_split': 9, 'min_samples_leaf': 1, 'bootstrap': False}. Best is trial 18 with value: 0.14868436158319348.\u001b[0m\n",
      "\u001b[32m[I 2021-06-19 09:58:07,009]\u001b[0m Trial 24 finished with value: 0.15302754128693555 and parameters: {'rf_max_depth': 12, 'max_features': 'sqrt', 'min_samples_split': 9, 'min_samples_leaf': 2, 'bootstrap': False}. Best is trial 18 with value: 0.14868436158319348.\u001b[0m\n",
      "\u001b[32m[I 2021-06-19 09:58:09,132]\u001b[0m Trial 25 finished with value: 0.14910454618859686 and parameters: {'rf_max_depth': 17, 'max_features': 'sqrt', 'min_samples_split': 9, 'min_samples_leaf': 1, 'bootstrap': False}. Best is trial 18 with value: 0.14868436158319348.\u001b[0m\n",
      "\u001b[32m[I 2021-06-19 09:58:11,365]\u001b[0m Trial 26 finished with value: 0.1492647781617099 and parameters: {'rf_max_depth': 18, 'max_features': 'sqrt', 'min_samples_split': 7, 'min_samples_leaf': 1, 'bootstrap': False}. Best is trial 18 with value: 0.14868436158319348.\u001b[0m\n",
      "\u001b[32m[I 2021-06-19 09:58:13,520]\u001b[0m Trial 27 finished with value: 0.15259010268406253 and parameters: {'rf_max_depth': 32, 'max_features': 'sqrt', 'min_samples_split': 7, 'min_samples_leaf': 2, 'bootstrap': False}. Best is trial 18 with value: 0.14868436158319348.\u001b[0m\n",
      "\u001b[32m[I 2021-06-19 09:58:15,505]\u001b[0m Trial 28 finished with value: 0.15500842602324824 and parameters: {'rf_max_depth': 15, 'max_features': 'sqrt', 'min_samples_split': 7, 'min_samples_leaf': 4, 'bootstrap': False}. Best is trial 18 with value: 0.14868436158319348.\u001b[0m\n",
      "\u001b[32m[I 2021-06-19 09:58:17,747]\u001b[0m Trial 29 finished with value: 0.1486986141833247 and parameters: {'rf_max_depth': 21, 'max_features': 'sqrt', 'min_samples_split': 7, 'min_samples_leaf': 1, 'bootstrap': False}. Best is trial 18 with value: 0.14868436158319348.\u001b[0m\n",
      "\u001b[32m[I 2021-06-19 09:58:19,961]\u001b[0m Trial 30 finished with value: 0.15203823180629183 and parameters: {'rf_max_depth': 22, 'max_features': 'sqrt', 'min_samples_split': 5, 'min_samples_leaf': 2, 'bootstrap': False}. Best is trial 18 with value: 0.14868436158319348.\u001b[0m\n"
     ]
    },
    {
     "name": "stderr",
     "output_type": "stream",
     "text": [
      "\u001b[32m[I 2021-06-19 09:58:22,177]\u001b[0m Trial 31 finished with value: 0.148904115607055 and parameters: {'rf_max_depth': 17, 'max_features': 'sqrt', 'min_samples_split': 7, 'min_samples_leaf': 1, 'bootstrap': False}. Best is trial 18 with value: 0.14868436158319348.\u001b[0m\n",
      "\u001b[32m[I 2021-06-19 09:58:24,349]\u001b[0m Trial 32 finished with value: 0.14947264602329352 and parameters: {'rf_max_depth': 15, 'max_features': 'sqrt', 'min_samples_split': 8, 'min_samples_leaf': 1, 'bootstrap': False}. Best is trial 18 with value: 0.14868436158319348.\u001b[0m\n",
      "\u001b[32m[I 2021-06-19 09:58:26,603]\u001b[0m Trial 33 finished with value: 0.14859646235756113 and parameters: {'rf_max_depth': 11, 'max_features': 'sqrt', 'min_samples_split': 6, 'min_samples_leaf': 1, 'bootstrap': False}. Best is trial 33 with value: 0.14859646235756113.\u001b[0m\n",
      "\u001b[32m[I 2021-06-19 09:58:28,501]\u001b[0m Trial 34 finished with value: 0.1497551430065386 and parameters: {'rf_max_depth': 9, 'max_features': 'sqrt', 'min_samples_split': 6, 'min_samples_leaf': 1, 'bootstrap': False}. Best is trial 33 with value: 0.14859646235756113.\u001b[0m\n",
      "\u001b[32m[I 2021-06-19 09:58:30,610]\u001b[0m Trial 35 finished with value: 0.14817519299718415 and parameters: {'rf_max_depth': 11, 'max_features': 'sqrt', 'min_samples_split': 5, 'min_samples_leaf': 1, 'bootstrap': False}. Best is trial 35 with value: 0.14817519299718415.\u001b[0m\n",
      "\u001b[32m[I 2021-06-19 09:58:31,945]\u001b[0m Trial 36 finished with value: 0.17114892794389797 and parameters: {'rf_max_depth': 5, 'max_features': 'sqrt', 'min_samples_split': 5, 'min_samples_leaf': 5, 'bootstrap': False}. Best is trial 35 with value: 0.14817519299718415.\u001b[0m\n",
      "\u001b[32m[I 2021-06-19 09:58:37,978]\u001b[0m Trial 37 finished with value: 0.19586517845776127 and parameters: {'rf_max_depth': 9, 'max_features': 'auto', 'min_samples_split': 6, 'min_samples_leaf': 1, 'bootstrap': False}. Best is trial 35 with value: 0.14817519299718415.\u001b[0m\n",
      "\u001b[32m[I 2021-06-19 09:58:39,587]\u001b[0m Trial 38 finished with value: 0.15778794059406176 and parameters: {'rf_max_depth': 7, 'max_features': 'sqrt', 'min_samples_split': 5, 'min_samples_leaf': 2, 'bootstrap': False}. Best is trial 35 with value: 0.14817519299718415.\u001b[0m\n",
      "\u001b[32m[I 2021-06-19 09:58:41,078]\u001b[0m Trial 39 finished with value: 0.16297862624999332 and parameters: {'rf_max_depth': 6, 'max_features': 'sqrt', 'min_samples_split': 6, 'min_samples_leaf': 3, 'bootstrap': False}. Best is trial 35 with value: 0.14817519299718415.\u001b[0m\n",
      "\u001b[32m[I 2021-06-19 09:58:43,202]\u001b[0m Trial 40 finished with value: 0.15220112409532535 and parameters: {'rf_max_depth': 12, 'max_features': 'sqrt', 'min_samples_split': 5, 'min_samples_leaf': 2, 'bootstrap': False}. Best is trial 35 with value: 0.14817519299718415.\u001b[0m\n",
      "\u001b[32m[I 2021-06-19 09:58:45,386]\u001b[0m Trial 41 finished with value: 0.14853103576757862 and parameters: {'rf_max_depth': 14, 'max_features': 'sqrt', 'min_samples_split': 7, 'min_samples_leaf': 1, 'bootstrap': False}. Best is trial 35 with value: 0.14817519299718415.\u001b[0m\n",
      "\u001b[32m[I 2021-06-19 09:58:47,435]\u001b[0m Trial 42 finished with value: 0.14956148193984914 and parameters: {'rf_max_depth': 10, 'max_features': 'sqrt', 'min_samples_split': 6, 'min_samples_leaf': 1, 'bootstrap': False}. Best is trial 35 with value: 0.14817519299718415.\u001b[0m\n",
      "\u001b[32m[I 2021-06-19 09:58:49,842]\u001b[0m Trial 43 finished with value: 0.1476008335525584 and parameters: {'rf_max_depth': 13, 'max_features': 'sqrt', 'min_samples_split': 4, 'min_samples_leaf': 1, 'bootstrap': False}. Best is trial 43 with value: 0.1476008335525584.\u001b[0m\n",
      "\u001b[32m[I 2021-06-19 09:58:51,638]\u001b[0m Trial 44 finished with value: 0.15128292400415574 and parameters: {'rf_max_depth': 8, 'max_features': 'sqrt', 'min_samples_split': 4, 'min_samples_leaf': 1, 'bootstrap': False}. Best is trial 43 with value: 0.1476008335525584.\u001b[0m\n",
      "\u001b[32m[I 2021-06-19 09:58:54,059]\u001b[0m Trial 45 finished with value: 0.14749075172043616 and parameters: {'rf_max_depth': 13, 'max_features': 'sqrt', 'min_samples_split': 4, 'min_samples_leaf': 1, 'bootstrap': False}. Best is trial 45 with value: 0.14749075172043616.\u001b[0m\n",
      "\u001b[32m[I 2021-06-19 09:58:56,304]\u001b[0m Trial 46 finished with value: 0.15096942055540452 and parameters: {'rf_max_depth': 13, 'max_features': 'sqrt', 'min_samples_split': 4, 'min_samples_leaf': 2, 'bootstrap': False}. Best is trial 45 with value: 0.14749075172043616.\u001b[0m\n",
      "\u001b[32m[I 2021-06-19 09:58:58,840]\u001b[0m Trial 47 finished with value: 0.1469472391010598 and parameters: {'rf_max_depth': 14, 'max_features': 'sqrt', 'min_samples_split': 3, 'min_samples_leaf': 1, 'bootstrap': False}. Best is trial 47 with value: 0.1469472391010598.\u001b[0m\n",
      "\u001b[32m[I 2021-06-19 09:59:06,883]\u001b[0m Trial 48 finished with value: 0.20437227227035523 and parameters: {'rf_max_depth': 14, 'max_features': 'auto', 'min_samples_split': 3, 'min_samples_leaf': 1, 'bootstrap': False}. Best is trial 47 with value: 0.1469472391010598.\u001b[0m\n",
      "\u001b[32m[I 2021-06-19 09:59:09,170]\u001b[0m Trial 49 finished with value: 0.15130775730612817 and parameters: {'rf_max_depth': 14, 'max_features': 'sqrt', 'min_samples_split': 4, 'min_samples_leaf': 2, 'bootstrap': False}. Best is trial 47 with value: 0.1469472391010598.\u001b[0m\n",
      "\u001b[32m[I 2021-06-19 09:59:10,981]\u001b[0m Trial 50 finished with value: 0.15119086999758397 and parameters: {'rf_max_depth': 8, 'max_features': 'sqrt', 'min_samples_split': 3, 'min_samples_leaf': 1, 'bootstrap': False}. Best is trial 47 with value: 0.1469472391010598.\u001b[0m\n",
      "\u001b[32m[I 2021-06-19 09:59:13,115]\u001b[0m Trial 51 finished with value: 0.14835514741835817 and parameters: {'rf_max_depth': 11, 'max_features': 'sqrt', 'min_samples_split': 5, 'min_samples_leaf': 1, 'bootstrap': False}. Best is trial 47 with value: 0.1469472391010598.\u001b[0m\n",
      "\u001b[32m[I 2021-06-19 09:59:15,087]\u001b[0m Trial 52 finished with value: 0.14969962178107832 and parameters: {'rf_max_depth': 9, 'max_features': 'sqrt', 'min_samples_split': 5, 'min_samples_leaf': 1, 'bootstrap': False}. Best is trial 47 with value: 0.1469472391010598.\u001b[0m\n",
      "\u001b[32m[I 2021-06-19 09:59:17,236]\u001b[0m Trial 53 finished with value: 0.1481215795359609 and parameters: {'rf_max_depth': 11, 'max_features': 'sqrt', 'min_samples_split': 4, 'min_samples_leaf': 1, 'bootstrap': False}. Best is trial 47 with value: 0.1469472391010598.\u001b[0m\n",
      "\u001b[32m[I 2021-06-19 09:59:19,419]\u001b[0m Trial 54 finished with value: 0.14882369407853485 and parameters: {'rf_max_depth': 11, 'max_features': 'sqrt', 'min_samples_split': 4, 'min_samples_leaf': 1, 'bootstrap': False}. Best is trial 47 with value: 0.1469472391010598.\u001b[0m\n",
      "\u001b[32m[I 2021-06-19 09:59:21,074]\u001b[0m Trial 55 finished with value: 0.15462118007459996 and parameters: {'rf_max_depth': 7, 'max_features': 'sqrt', 'min_samples_split': 3, 'min_samples_leaf': 1, 'bootstrap': False}. Best is trial 47 with value: 0.1469472391010598.\u001b[0m\n",
      "\u001b[32m[I 2021-06-19 09:59:22,574]\u001b[0m Trial 56 finished with value: 0.16337914276517762 and parameters: {'rf_max_depth': 6, 'max_features': 'sqrt', 'min_samples_split': 4, 'min_samples_leaf': 1, 'bootstrap': True}. Best is trial 47 with value: 0.1469472391010598.\u001b[0m\n",
      "\u001b[32m[I 2021-06-19 09:59:24,871]\u001b[0m Trial 57 finished with value: 0.1513145706151479 and parameters: {'rf_max_depth': 16, 'max_features': 'sqrt', 'min_samples_split': 3, 'min_samples_leaf': 2, 'bootstrap': False}. Best is trial 47 with value: 0.1469472391010598.\u001b[0m\n",
      "\u001b[32m[I 2021-06-19 09:59:27,324]\u001b[0m Trial 58 finished with value: 0.14802400212747302 and parameters: {'rf_max_depth': 13, 'max_features': 'sqrt', 'min_samples_split': 4, 'min_samples_leaf': 1, 'bootstrap': False}. Best is trial 47 with value: 0.1469472391010598.\u001b[0m\n",
      "\u001b[32m[I 2021-06-19 09:59:35,785]\u001b[0m Trial 59 finished with value: 0.20268443555567692 and parameters: {'rf_max_depth': 13, 'max_features': 'auto', 'min_samples_split': 4, 'min_samples_leaf': 1, 'bootstrap': False}. Best is trial 47 with value: 0.1469472391010598.\u001b[0m\n",
      "\u001b[32m[I 2021-06-19 09:59:38,950]\u001b[0m Trial 60 finished with value: 0.14727803006946916 and parameters: {'rf_max_depth': 25, 'max_features': 'sqrt', 'min_samples_split': 2, 'min_samples_leaf': 1, 'bootstrap': False}. Best is trial 47 with value: 0.1469472391010598.\u001b[0m\n",
      "\u001b[32m[I 2021-06-19 09:59:42,008]\u001b[0m Trial 61 finished with value: 0.14756852557481517 and parameters: {'rf_max_depth': 25, 'max_features': 'sqrt', 'min_samples_split': 2, 'min_samples_leaf': 1, 'bootstrap': False}. Best is trial 47 with value: 0.1469472391010598.\u001b[0m\n"
     ]
    },
    {
     "name": "stderr",
     "output_type": "stream",
     "text": [
      "\u001b[32m[I 2021-06-19 09:59:45,068]\u001b[0m Trial 62 finished with value: 0.14793890883666375 and parameters: {'rf_max_depth': 26, 'max_features': 'sqrt', 'min_samples_split': 2, 'min_samples_leaf': 1, 'bootstrap': False}. Best is trial 47 with value: 0.1469472391010598.\u001b[0m\n",
      "\u001b[32m[I 2021-06-19 09:59:48,080]\u001b[0m Trial 63 finished with value: 0.1471131269208083 and parameters: {'rf_max_depth': 27, 'max_features': 'sqrt', 'min_samples_split': 2, 'min_samples_leaf': 1, 'bootstrap': False}. Best is trial 47 with value: 0.1469472391010598.\u001b[0m\n",
      "\u001b[32m[I 2021-06-19 09:59:51,163]\u001b[0m Trial 64 finished with value: 0.14780214663098795 and parameters: {'rf_max_depth': 27, 'max_features': 'sqrt', 'min_samples_split': 2, 'min_samples_leaf': 1, 'bootstrap': False}. Best is trial 47 with value: 0.1469472391010598.\u001b[0m\n",
      "\u001b[32m[I 2021-06-19 09:59:54,197]\u001b[0m Trial 65 finished with value: 0.14705344518438307 and parameters: {'rf_max_depth': 29, 'max_features': 'sqrt', 'min_samples_split': 2, 'min_samples_leaf': 1, 'bootstrap': False}. Best is trial 47 with value: 0.1469472391010598.\u001b[0m\n",
      "\u001b[32m[I 2021-06-19 09:59:56,212]\u001b[0m Trial 66 finished with value: 0.15459139976614636 and parameters: {'rf_max_depth': 32, 'max_features': 'sqrt', 'min_samples_split': 2, 'min_samples_leaf': 2, 'bootstrap': True}. Best is trial 47 with value: 0.1469472391010598.\u001b[0m\n",
      "\u001b[32m[I 2021-06-19 09:59:59,235]\u001b[0m Trial 67 finished with value: 0.14757449703429762 and parameters: {'rf_max_depth': 23, 'max_features': 'sqrt', 'min_samples_split': 2, 'min_samples_leaf': 1, 'bootstrap': False}. Best is trial 47 with value: 0.1469472391010598.\u001b[0m\n",
      "\u001b[32m[I 2021-06-19 10:00:02,241]\u001b[0m Trial 68 finished with value: 0.14735875798228512 and parameters: {'rf_max_depth': 24, 'max_features': 'sqrt', 'min_samples_split': 2, 'min_samples_leaf': 1, 'bootstrap': False}. Best is trial 47 with value: 0.1469472391010598.\u001b[0m\n",
      "\u001b[32m[I 2021-06-19 10:00:04,906]\u001b[0m Trial 69 finished with value: 0.14713173589926043 and parameters: {'rf_max_depth': 20, 'max_features': 'sqrt', 'min_samples_split': 3, 'min_samples_leaf': 1, 'bootstrap': False}. Best is trial 47 with value: 0.1469472391010598.\u001b[0m\n",
      "\u001b[32m[I 2021-06-19 10:00:06,754]\u001b[0m Trial 70 finished with value: 0.15724345868376274 and parameters: {'rf_max_depth': 19, 'max_features': 'sqrt', 'min_samples_split': 3, 'min_samples_leaf': 5, 'bootstrap': False}. Best is trial 47 with value: 0.1469472391010598.\u001b[0m\n",
      "\u001b[32m[I 2021-06-19 10:00:09,666]\u001b[0m Trial 71 finished with value: 0.14758308496852768 and parameters: {'rf_max_depth': 29, 'max_features': 'sqrt', 'min_samples_split': 2, 'min_samples_leaf': 1, 'bootstrap': False}. Best is trial 47 with value: 0.1469472391010598.\u001b[0m\n",
      "\u001b[32m[I 2021-06-19 10:00:12,713]\u001b[0m Trial 72 finished with value: 0.1477504729564504 and parameters: {'rf_max_depth': 24, 'max_features': 'sqrt', 'min_samples_split': 2, 'min_samples_leaf': 1, 'bootstrap': False}. Best is trial 47 with value: 0.1469472391010598.\u001b[0m\n",
      "\u001b[32m[I 2021-06-19 10:00:15,410]\u001b[0m Trial 73 finished with value: 0.14713537394857687 and parameters: {'rf_max_depth': 26, 'max_features': 'sqrt', 'min_samples_split': 3, 'min_samples_leaf': 1, 'bootstrap': False}. Best is trial 47 with value: 0.1469472391010598.\u001b[0m\n",
      "\u001b[32m[I 2021-06-19 10:00:18,124]\u001b[0m Trial 74 finished with value: 0.14759895549986438 and parameters: {'rf_max_depth': 21, 'max_features': 'sqrt', 'min_samples_split': 3, 'min_samples_leaf': 1, 'bootstrap': False}. Best is trial 47 with value: 0.1469472391010598.\u001b[0m\n",
      "\u001b[32m[I 2021-06-19 10:00:20,809]\u001b[0m Trial 75 finished with value: 0.1471032861904185 and parameters: {'rf_max_depth': 31, 'max_features': 'sqrt', 'min_samples_split': 3, 'min_samples_leaf': 1, 'bootstrap': False}. Best is trial 47 with value: 0.1469472391010598.\u001b[0m\n",
      "\u001b[32m[I 2021-06-19 10:00:23,571]\u001b[0m Trial 76 finished with value: 0.14733188170868328 and parameters: {'rf_max_depth': 32, 'max_features': 'sqrt', 'min_samples_split': 3, 'min_samples_leaf': 1, 'bootstrap': False}. Best is trial 47 with value: 0.1469472391010598.\u001b[0m\n",
      "\u001b[32m[I 2021-06-19 10:00:26,406]\u001b[0m Trial 77 finished with value: 0.147632143193406 and parameters: {'rf_max_depth': 32, 'max_features': 'sqrt', 'min_samples_split': 3, 'min_samples_leaf': 1, 'bootstrap': False}. Best is trial 47 with value: 0.1469472391010598.\u001b[0m\n",
      "\u001b[32m[I 2021-06-19 10:00:28,504]\u001b[0m Trial 78 finished with value: 0.15567848383426758 and parameters: {'rf_max_depth': 30, 'max_features': 'sqrt', 'min_samples_split': 3, 'min_samples_leaf': 4, 'bootstrap': False}. Best is trial 47 with value: 0.1469472391010598.\u001b[0m\n",
      "\u001b[32m[I 2021-06-19 10:00:30,920]\u001b[0m Trial 79 finished with value: 0.15118299955473305 and parameters: {'rf_max_depth': 28, 'max_features': 'sqrt', 'min_samples_split': 3, 'min_samples_leaf': 2, 'bootstrap': False}. Best is trial 47 with value: 0.1469472391010598.\u001b[0m\n",
      "\u001b[32m[I 2021-06-19 10:00:33,281]\u001b[0m Trial 80 finished with value: 0.15130171170322648 and parameters: {'rf_max_depth': 19, 'max_features': 'sqrt', 'min_samples_split': 2, 'min_samples_leaf': 1, 'bootstrap': True}. Best is trial 47 with value: 0.1469472391010598.\u001b[0m\n",
      "\u001b[32m[I 2021-06-19 10:00:36,228]\u001b[0m Trial 81 finished with value: 0.14753173058947228 and parameters: {'rf_max_depth': 22, 'max_features': 'sqrt', 'min_samples_split': 2, 'min_samples_leaf': 1, 'bootstrap': False}. Best is trial 47 with value: 0.1469472391010598.\u001b[0m\n",
      "\u001b[32m[I 2021-06-19 10:00:38,971]\u001b[0m Trial 82 finished with value: 0.14749854345697802 and parameters: {'rf_max_depth': 30, 'max_features': 'sqrt', 'min_samples_split': 3, 'min_samples_leaf': 1, 'bootstrap': False}. Best is trial 47 with value: 0.1469472391010598.\u001b[0m\n",
      "\u001b[32m[I 2021-06-19 10:00:41,674]\u001b[0m Trial 83 finished with value: 0.14782028972991088 and parameters: {'rf_max_depth': 24, 'max_features': 'sqrt', 'min_samples_split': 3, 'min_samples_leaf': 1, 'bootstrap': False}. Best is trial 47 with value: 0.1469472391010598.\u001b[0m\n",
      "\u001b[32m[I 2021-06-19 10:00:44,617]\u001b[0m Trial 84 finished with value: 0.1479027172419442 and parameters: {'rf_max_depth': 26, 'max_features': 'sqrt', 'min_samples_split': 2, 'min_samples_leaf': 1, 'bootstrap': False}. Best is trial 47 with value: 0.1469472391010598.\u001b[0m\n",
      "\u001b[32m[I 2021-06-19 10:00:47,512]\u001b[0m Trial 85 finished with value: 0.14723024756510472 and parameters: {'rf_max_depth': 20, 'max_features': 'sqrt', 'min_samples_split': 2, 'min_samples_leaf': 1, 'bootstrap': False}. Best is trial 47 with value: 0.1469472391010598.\u001b[0m\n",
      "\u001b[32m[I 2021-06-19 10:00:50,189]\u001b[0m Trial 86 finished with value: 0.14711639396205126 and parameters: {'rf_max_depth': 20, 'max_features': 'sqrt', 'min_samples_split': 3, 'min_samples_leaf': 1, 'bootstrap': False}. Best is trial 47 with value: 0.1469472391010598.\u001b[0m\n",
      "\u001b[32m[I 2021-06-19 10:00:59,441]\u001b[0m Trial 87 finished with value: 0.20404208682649752 and parameters: {'rf_max_depth': 20, 'max_features': 'auto', 'min_samples_split': 2, 'min_samples_leaf': 1, 'bootstrap': False}. Best is trial 47 with value: 0.1469472391010598.\u001b[0m\n",
      "\u001b[32m[I 2021-06-19 10:01:01,739]\u001b[0m Trial 88 finished with value: 0.15163482241767245 and parameters: {'rf_max_depth': 17, 'max_features': 'sqrt', 'min_samples_split': 3, 'min_samples_leaf': 2, 'bootstrap': False}. Best is trial 47 with value: 0.1469472391010598.\u001b[0m\n",
      "\u001b[32m[I 2021-06-19 10:01:04,443]\u001b[0m Trial 89 finished with value: 0.14768143577338655 and parameters: {'rf_max_depth': 23, 'max_features': 'sqrt', 'min_samples_split': 3, 'min_samples_leaf': 1, 'bootstrap': False}. Best is trial 47 with value: 0.1469472391010598.\u001b[0m\n",
      "\u001b[32m[I 2021-06-19 10:01:07,368]\u001b[0m Trial 90 finished with value: 0.14709240046463698 and parameters: {'rf_max_depth': 20, 'max_features': 'sqrt', 'min_samples_split': 2, 'min_samples_leaf': 1, 'bootstrap': False}. Best is trial 47 with value: 0.1469472391010598.\u001b[0m\n",
      "\u001b[32m[I 2021-06-19 10:01:10,914]\u001b[0m Trial 91 finished with value: 0.14814399375444096 and parameters: {'rf_max_depth': 21, 'max_features': 'sqrt', 'min_samples_split': 2, 'min_samples_leaf': 1, 'bootstrap': False}. Best is trial 47 with value: 0.1469472391010598.\u001b[0m\n",
      "\u001b[32m[I 2021-06-19 10:01:15,034]\u001b[0m Trial 92 finished with value: 0.14722513081226116 and parameters: {'rf_max_depth': 18, 'max_features': 'sqrt', 'min_samples_split': 2, 'min_samples_leaf': 1, 'bootstrap': False}. Best is trial 47 with value: 0.1469472391010598.\u001b[0m\n"
     ]
    },
    {
     "name": "stderr",
     "output_type": "stream",
     "text": [
      "\u001b[32m[I 2021-06-19 10:01:18,037]\u001b[0m Trial 93 finished with value: 0.14739279303085445 and parameters: {'rf_max_depth': 16, 'max_features': 'sqrt', 'min_samples_split': 3, 'min_samples_leaf': 1, 'bootstrap': False}. Best is trial 47 with value: 0.1469472391010598.\u001b[0m\n",
      "\u001b[32m[I 2021-06-19 10:01:21,136]\u001b[0m Trial 94 finished with value: 0.14675833743609437 and parameters: {'rf_max_depth': 18, 'max_features': 'sqrt', 'min_samples_split': 2, 'min_samples_leaf': 1, 'bootstrap': False}. Best is trial 94 with value: 0.14675833743609437.\u001b[0m\n",
      "\u001b[32m[I 2021-06-19 10:01:24,192]\u001b[0m Trial 95 finished with value: 0.14725592808662388 and parameters: {'rf_max_depth': 18, 'max_features': 'sqrt', 'min_samples_split': 2, 'min_samples_leaf': 1, 'bootstrap': False}. Best is trial 94 with value: 0.14675833743609437.\u001b[0m\n",
      "\u001b[32m[I 2021-06-19 10:01:26,940]\u001b[0m Trial 96 finished with value: 0.1471267139311256 and parameters: {'rf_max_depth': 15, 'max_features': 'sqrt', 'min_samples_split': 3, 'min_samples_leaf': 1, 'bootstrap': False}. Best is trial 94 with value: 0.14675833743609437.\u001b[0m\n",
      "\u001b[32m[I 2021-06-19 10:01:30,109]\u001b[0m Trial 97 finished with value: 0.1465067408349971 and parameters: {'rf_max_depth': 16, 'max_features': 'sqrt', 'min_samples_split': 3, 'min_samples_leaf': 1, 'bootstrap': False}. Best is trial 97 with value: 0.1465067408349971.\u001b[0m\n",
      "\u001b[32m[I 2021-06-19 10:01:34,335]\u001b[0m Trial 98 finished with value: 0.14724994121950538 and parameters: {'rf_max_depth': 17, 'max_features': 'sqrt', 'min_samples_split': 3, 'min_samples_leaf': 1, 'bootstrap': False}. Best is trial 97 with value: 0.1465067408349971.\u001b[0m\n",
      "\u001b[32m[I 2021-06-19 10:01:37,079]\u001b[0m Trial 99 finished with value: 0.14760201831274827 and parameters: {'rf_max_depth': 15, 'max_features': 'sqrt', 'min_samples_split': 3, 'min_samples_leaf': 1, 'bootstrap': False}. Best is trial 97 with value: 0.1465067408349971.\u001b[0m\n"
     ]
    },
    {
     "name": "stdout",
     "output_type": "stream",
     "text": [
      "RMSE: 0.1465067408349971\n",
      "Best hyperparameters: {'rf_max_depth': 16, 'max_features': 'sqrt', 'min_samples_split': 3, 'min_samples_leaf': 1, 'bootstrap': False}\n"
     ]
    }
   ],
   "source": [
    "study = optuna.create_study(direction='minimize')\n",
    "study.optimize(lambda trial: objective(trial, train2, test2), n_trials=100)\n",
    "\n",
    "trial = study.best_trial\n",
    "\n",
    "print('RMSE: {}'.format(trial.value))\n",
    "print(\"Best hyperparameters: {}\".format(trial.params))"
   ]
  },
  {
   "cell_type": "code",
   "execution_count": 53,
   "metadata": {},
   "outputs": [],
   "source": [
    "X_train2 = train2.drop(columns=[\"SalePrice\"])\n",
    "X_test2 = test2.drop(columns=[\"SalePrice\"])"
   ]
  },
  {
   "cell_type": "code",
   "execution_count": 54,
   "metadata": {},
   "outputs": [
    {
     "data": {
      "text/plain": [
       "RandomForestRegressor(bootstrap=False, max_depth=16, max_features='sqrt',\n",
       "                      min_samples_split=3)"
      ]
     },
     "execution_count": 54,
     "metadata": {},
     "output_type": "execute_result"
    }
   ],
   "source": [
    "rf = RandomForestRegressor(max_depth=16, max_features='sqrt',\n",
    "                           min_samples_split=3, min_samples_leaf=1,\n",
    "                           bootstrap=False)\n",
    "rf.fit(X_train2, y_train)"
   ]
  },
  {
   "cell_type": "code",
   "execution_count": 56,
   "metadata": {},
   "outputs": [
    {
     "data": {
      "text/plain": [
       "0.1496956433707586"
      ]
     },
     "execution_count": 56,
     "metadata": {},
     "output_type": "execute_result"
    }
   ],
   "source": [
    "p = rf.predict(X_test2)\n",
    "sklearn.metrics.mean_squared_error(y_test, p, squared=False)"
   ]
  },
  {
   "cell_type": "code",
   "execution_count": 58,
   "metadata": {},
   "outputs": [],
   "source": [
    "imp_df = pd.DataFrame(list(zip(X_train2.columns, rf.feature_importances_)),\n",
    "                      columns=[\"Feature\", \"Importance\"])"
   ]
  },
  {
   "cell_type": "code",
   "execution_count": 59,
   "metadata": {
    "scrolled": true
   },
   "outputs": [
    {
     "data": {
      "text/plain": [
       "Text(0.5, 1.0, 'Variables les plus importantes')"
      ]
     },
     "execution_count": 59,
     "metadata": {},
     "output_type": "execute_result"
    },
    {
     "data": {
      "image/png": "[encoded data removed]",
      "text/plain": [
       "<Figure size 432x288 with 1 Axes>"
      ]
     },
     "metadata": {
      "needs_background": "light"
     },
     "output_type": "display_data"
    }
   ],
   "source": [
    "imp_df.sort_values(\"Importance\").set_index(\"Feature\")[0:20].plot(kind=\"barh\")\n",
    "plt.title(\"Variables les plus importantes\")"
   ]
  },
  {
   "cell_type": "code",
   "execution_count": 64,
   "metadata": {},
   "outputs": [],
   "source": [
    "imp_vars.remove(\"SalePrice\")"
   ]
  },
  {
   "cell_type": "code",
   "execution_count": 65,
   "metadata": {},
   "outputs": [],
   "source": [
    "newdata = pd.read_csv('newdata_transforme.csv', index_col=0)\n",
    "newdata['SalePrice'] = rf.predict(newdata[imp_vars])"
   ]
  },
  {
   "cell_type": "code",
   "execution_count": 66,
   "metadata": {},
   "outputs": [],
   "source": [
    "submission = pd.DataFrame(newdata[\"SalePrice\"])\n",
    "submission = np.exp(submission)\n",
    "submission.to_csv(\"submission3.csv\")"
   ]
  },
  {
   "cell_type": "code",
   "execution_count": 67,
   "metadata": {},
   "outputs": [
    {
     "data": {
      "text/plain": [
       "0.011931100510750579"
      ]
     },
     "execution_count": 67,
     "metadata": {},
     "output_type": "execute_result"
    }
   ],
   "source": [
    "0.14324/newdata['SalePrice'].mean()"
   ]
  },
  {
   "cell_type": "code",
   "execution_count": null,
   "metadata": {},
   "outputs": [],
   "source": []
  }
 ],
 "metadata": {
  "kernelspec": {
   "display_name": "Python 3",
   "language": "python",
   "name": "python3"
  },
  "language_info": {
   "codemirror_mode": {
    "name": "ipython",
    "version": 3
   },
   "file_extension": ".py",
   "mimetype": "text/x-python",
   "name": "python",
   "nbconvert_exporter": "python",
   "pygments_lexer": "ipython3",
   "version": "3.8.3"
  }
 },
 "nbformat": 4,
 "nbformat_minor": 4
}
